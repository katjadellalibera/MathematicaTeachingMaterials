{
 "cells": [
  {
   "cell_type": "markdown",
   "metadata": {
    "colab_type": "text",
    "id": "Omo3i1agdOni"
   },
   "source": [
    "# SSS 8. Synthesis (Lists, Strings, Libraries, # probability, #descriptivestats, #correlation, #simulation)"
   ]
  },
  {
   "cell_type": "markdown",
   "metadata": {
    "colab_type": "text",
    "id": "XNIwv5fgdOnp"
   },
   "source": [
    "This session reviews some important concepts in FA, including #descriptivestats and their *resistance*, #distribution, #simulations, #correlation, and #probability. You may find it helpful to employ these concepts in completing your FA LBA. Additionally, we continue practicing working with different data types in Python (numbers, strings, and lists)."
   ]
  },
  {
   "cell_type": "markdown",
   "metadata": {
    "colab_type": "text",
    "id": "3eraANlYf7tF"
   },
   "source": [
    "## YOUR FIRST TASK: \n",
    "\n",
    "In the cell below, write the import statements for the libraries we used last week:\n",
    "* Import the library `csv`\n",
    "* Import the library `numpy` in a way that allows you to refer to this library as `np` in the future\n",
    "* Import the function `pyplot` from the library `matplotlib` in a way that allows you to refer to this function as `plt` in the future."
   ]
  },
  {
   "cell_type": "code",
   "execution_count": null,
   "metadata": {
    "colab": {},
    "colab_type": "code",
    "collapsed": true,
    "id": "ybU5s2xif7tG"
   },
   "outputs": [],
   "source": [
    "# IMPORT EVERYTHING HERE. THIS IS IMPORTANT FOR ALL OF YOUR WORK THROUGHOUT \n",
    "# THIS SESSION. \n",
    "\n",
    "\n",
    "\n"
   ]
  },
  {
   "cell_type": "code",
   "execution_count": null,
   "metadata": {
    "colab": {},
    "colab_type": "code",
    "collapsed": true,
    "id": "hH4wUYuBf7tK"
   },
   "outputs": [],
   "source": [
    "# RUN THIS SET-UP CELL TOO\n",
    "%matplotlib inline"
   ]
  },
  {
   "cell_type": "markdown",
   "metadata": {
    "colab_type": "text",
    "id": "F8yJ6qgCVgOK"
   },
   "source": [
    "# Table of Contents\n",
    "* [A. Python Lab](#A.-Python-Lab)\n",
    "    * [Resistance, #descriptivestats](#Resistance,-#descriptivestats)\n",
    "\t* [Simulations](#Simulations)\n",
    "        * [Simulation 1](#Simulation-1)\n",
    "        * [Simulation 2](#Simulation-2)\n",
    "* [B. Exercises](#B.-Exercise)"
   ]
  },
  {
   "cell_type": "markdown",
   "metadata": {
    "colab_type": "text",
    "id": "bw_BffzadOnq"
   },
   "source": [
    "# A. Python Lab"
   ]
  },
  {
   "cell_type": "markdown",
   "metadata": {
    "colab_type": "text",
    "id": "lk-Ezhd0dOnr"
   },
   "source": [
    "## Resistance, #descriptivestats\n",
    "*This session is to practice list and string manipulation and review **#descriptivestats.***\n",
    "\n",
    "**Why care about resistance?** Knowing the resistance of some summary statistics can help you make better decisions on choosing which stats to describe your data.\n",
    "\n",
    "A statistic is *resistant* if it is not influenced significantly by a change in a small subset of the data. Therefore, resistance especially concerns whether a statistic changes if some small subset of data changes, and to what extent. In this part, we will explore the resistance of median, range, mean, and SD by examining if we can arbitrarily alter them by altering only one datum.\n",
    "\n",
    "Fill in the code below to create a list of the squares of the first 5 natural numbers (`L = [1,4,9,16,25]`)"
   ]
  },
  {
   "cell_type": "code",
   "execution_count": null,
   "metadata": {
    "colab": {},
    "colab_type": "code",
    "collapsed": true,
    "id": "mqS6JGl9dOnu"
   },
   "outputs": [],
   "source": [
    "L = [] # initialize an empty list\n",
    "for i in range(5): # TODO: fill in a number into the range function\n",
    "    # TODO: add new elements to L. This should be 1 line of code.\n",
    "    # Google `python add new elem to list` or review the last section\n",
    "    # in SSS 4 if you get stuck\n",
    "    "
   ]
  },
  {
   "cell_type": "markdown",
   "metadata": {
    "colab_type": "text",
    "id": "xOTLdYD0dOn0"
   },
   "source": [
    "Use `numpy` library to calculate mean, median, and SD of `L`. You should get the following results:\n",
    "* Mean: 11\n",
    "* Median: 9\n",
    "* SD: about 8.65"
   ]
  },
  {
   "cell_type": "code",
   "execution_count": null,
   "metadata": {
    "colab": {},
    "colab_type": "code",
    "collapsed": true,
    "id": "aBvEceBOdOn1"
   },
   "outputs": [],
   "source": [
    "# Your code here\n",
    "mean_L = \n",
    "med_L = \n",
    "sd_L = \n",
    "print(mean_L)\n",
    "print(med_L)\n",
    "print(sd_L)"
   ]
  },
  {
   "cell_type": "markdown",
   "metadata": {
    "colab_type": "text",
    "id": "kdrAfgzzf7tS"
   },
   "source": [
    "What about range? In the cell below write code to compute the range of `L`. You can do this in one of the following ways:\n",
    "1. Google how to use `numpy` library to directly compute range, or\n",
    "2. Write your own function(s) to compute the range\n",
    "\n",
    "Your final result should be **24**."
   ]
  },
  {
   "cell_type": "code",
   "execution_count": null,
   "metadata": {
    "colab": {},
    "colab_type": "code",
    "collapsed": true,
    "id": "he05v38ef7tS"
   },
   "outputs": [],
   "source": [
    "# Your code here\n",
    "\n",
    "\n",
    "\n",
    "\n",
    "\n",
    "\n",
    "\n",
    "\n"
   ]
  },
  {
   "cell_type": "markdown",
   "metadata": {
    "colab_type": "text",
    "id": "B0kYnOjidOn2"
   },
   "source": [
    "**Is mean resistant?** \n",
    "\n",
    "In the cell below, can you change only **one element** in `L` to create a new list `L1` whose mean is larger than the mean of `L` by at least 100 (i.e., `L1`'s mean should be **at least 111**)?"
   ]
  },
  {
   "cell_type": "code",
   "execution_count": null,
   "metadata": {
    "colab": {},
    "colab_type": "code",
    "collapsed": true,
    "id": "EXuBy0zdf7tU"
   },
   "outputs": [],
   "source": [
    "L1 = L[:] # copying the entire list L to L1, so that when changing L1, L remains unchanged\n",
    "L1 =  # TODO: edit this line to change one element in L1 to change its mean \n",
    "      # (if you forget how to do this, review the INDEXING section in SSS 4) \n",
    "\n",
    "# TODO: print out the mean of L1 here\n",
    "\n",
    "# If the task is impossible, give your justification in the cell below."
   ]
  },
  {
   "cell_type": "markdown",
   "metadata": {
    "colab_type": "text",
    "id": "zDX0bPc2dOn3"
   },
   "source": [
    "**Your answer here**"
   ]
  },
  {
   "cell_type": "markdown",
   "metadata": {
    "colab_type": "text",
    "id": "C6yUuO_YdOn5"
   },
   "source": [
    "**Is range resistant?** \n",
    "\n",
    "Can you now change only one element in `L` to create another new list, `L2`, whose range is larger than the range of `L` by at least 100 (i.e., `L2`'s range is at least 124)?"
   ]
  },
  {
   "cell_type": "code",
   "execution_count": null,
   "metadata": {
    "colab": {},
    "colab_type": "code",
    "collapsed": true,
    "id": "8AuarLhUf7tW"
   },
   "outputs": [],
   "source": [
    "L2 = L[:] # copying list L\n",
    "L2 = # TODO: edit this line to change one element in L2 to change its range\n",
    "\n",
    "# TODO: print out the range of L1 here\n",
    "\n",
    "# If the task is impossible, give your justification in the cell below."
   ]
  },
  {
   "cell_type": "markdown",
   "metadata": {
    "colab_type": "text",
    "id": "9RVfCV9BdOn5"
   },
   "source": [
    "**Your answer here**"
   ]
  },
  {
   "cell_type": "markdown",
   "metadata": {
    "colab_type": "text",
    "id": "5WI8_knhdOn7"
   },
   "source": [
    "**Is median resistant?** \n",
    "\n",
    "Change only one element in `L` to create a new list, `L3`, whose median is at least 109."
   ]
  },
  {
   "cell_type": "code",
   "execution_count": null,
   "metadata": {
    "colab": {},
    "colab_type": "code",
    "collapsed": true,
    "id": "Hiv1OtOof7tY"
   },
   "outputs": [],
   "source": [
    "# Your code here\n",
    "\n",
    "# Don't forget to print the median of L3\n",
    "\n",
    "# If the task is impossible, give your justification in the cell below."
   ]
  },
  {
   "cell_type": "markdown",
   "metadata": {
    "colab_type": "text",
    "id": "BokZ2PdIdOn7"
   },
   "source": [
    "**Your answer here**"
   ]
  },
  {
   "cell_type": "markdown",
   "metadata": {
    "colab_type": "text",
    "id": "RL2VdIQ8dOn9"
   },
   "source": [
    "**Is SD resistant?** \n",
    "\n",
    "Continue to create list `L4` that differ from `L` by only 1 element and has the SD of at least 108. "
   ]
  },
  {
   "cell_type": "code",
   "execution_count": null,
   "metadata": {
    "colab": {},
    "colab_type": "code",
    "collapsed": true,
    "id": "dcmL_rQdf7ta"
   },
   "outputs": [],
   "source": [
    "# Your code here\n",
    "\n",
    "# Don't forget to print the sd of L4\n",
    "\n",
    "# If the task is impossible, give your justification in the cell below."
   ]
  },
  {
   "cell_type": "markdown",
   "metadata": {
    "colab_type": "text",
    "id": "jYoxsma8dOn9"
   },
   "source": [
    "**Your answer here**"
   ]
  },
  {
   "cell_type": "markdown",
   "metadata": {
    "colab_type": "text",
    "id": "_dJnMG_bdOn_"
   },
   "source": [
    "By now it should be clear that you can arbitrarily change the values of range, mean, and SD of `L` just by tweaking one element. Therefore, these statistics are \"sensitive\" to an individual datum and are called \"non-resistant\" statistics. On the other hand, the median is quite \"robust\". It was impossible to change the median by the required amount. The bottom line is that median is resistant, while range, mean, and SD are not.\n",
    "\n",
    "**Application:** *Think about how you can apply the concept of resistance to choose appropriate summary statistics to describe your data for the LBA.*"
   ]
  },
  {
   "cell_type": "markdown",
   "metadata": {
    "colab_type": "text",
    "id": "RFRcQjFVdOoK"
   },
   "source": [
    "## Simulations\n",
    "\n",
    "We will run 2 simulations in this lab."
   ]
  },
  {
   "cell_type": "markdown",
   "metadata": {
    "colab_type": "text",
    "id": "rP8jEzkqf7tl"
   },
   "source": [
    "### Interlude: `break` and `continue` in Loops "
   ]
  },
  {
   "cell_type": "markdown",
   "metadata": {
    "colab_type": "text",
    "id": "1AkPCQLtdOoL"
   },
   "source": [
    "When using loops, sometimes we don't want them to loop over the entire number of iterations we set at the beginning, but rather, stop pre-maturely at some point. `break` can be helpful for this task. Whenever encountering the `break` statement, Python exits the current loop. The `break` statement in the code below will stop the loop if it has looped over 5 values of `i`."
   ]
  },
  {
   "cell_type": "code",
   "execution_count": null,
   "metadata": {
    "colab": {},
    "colab_type": "code",
    "collapsed": true,
    "id": "yQ52oawCf7tm"
   },
   "outputs": [],
   "source": [
    "# Run this cell\n",
    "for i in range(10):\n",
    "    if i==5:\n",
    "        break\n",
    "    print(i)"
   ]
  },
  {
   "cell_type": "markdown",
   "metadata": {
    "colab_type": "text",
    "id": "HuLlfUSsf7to"
   },
   "source": [
    "The `continue` statement, on the other hand, skips the current iteration, but the loop still goes on after that. Run the cell below, and notice that 5 is omitted in the printed result."
   ]
  },
  {
   "cell_type": "code",
   "execution_count": null,
   "metadata": {
    "colab": {},
    "colab_type": "code",
    "collapsed": true,
    "id": "QwIUZS04f7to"
   },
   "outputs": [],
   "source": [
    "for i in range(10):\n",
    "    if i==5:\n",
    "        continue\n",
    "    print(i)    "
   ]
  },
  {
   "cell_type": "markdown",
   "metadata": {
    "colab_type": "text",
    "id": "9xRgpEpwf7tp"
   },
   "source": [
    "What will the following code print? Run it to check your guess. "
   ]
  },
  {
   "cell_type": "code",
   "execution_count": null,
   "metadata": {
    "colab": {},
    "colab_type": "code",
    "collapsed": true,
    "id": "VImms2LNf7tq"
   },
   "outputs": [],
   "source": [
    "for num in [0,2,4,6,8,10]:\n",
    "    print('current num:',num)\n",
    "    if num%4 == 0:\n",
    "        continue\n",
    "    if num%10 == 0:\n",
    "        break\n",
    "    print(num)"
   ]
  },
  {
   "cell_type": "markdown",
   "metadata": {
    "colab_type": "text",
    "id": "Q5WxcqwhdOoL"
   },
   "source": [
    "### Simulation 1\n",
    "\n",
    "The first simulation is the racquetball simulation we did for this week's pre-class work. The problem is printed below:\n",
    "\n",
    "\"In racquetball, a player continues to serve as long as she is winning; a point is scored only when a player is serving and wins the volley. **The first player to win 21 points wins the game**. Assume that **you serve first** and have probability .6 of winning a volley when you serve and probability .5 when your opponent serves. Estimate, by simulation, the probability that you will win a game.\" (From Grindstead, C., & Snell, J. (2006). Grinstead and Snell's introduction to probability. Hanover, N.H.: The Chance Project. pg.13)\n",
    "\n",
    "*Hints: The 3 errors have to do with the following*\n",
    "* Are the variables initialized correctly?\n",
    "* Do the if statements check for the correct conditions?\n",
    "* How do you compute the estimated probability?\n"
   ]
  },
  {
   "cell_type": "code",
   "execution_count": null,
   "metadata": {
    "colab": {},
    "colab_type": "code",
    "collapsed": true,
    "id": "CXNAKYjedOoL"
   },
   "outputs": [],
   "source": [
    "import random\n",
    "def prob(iterations):\n",
    "    \n",
    "    is_serving = False #initialize whether you are serving or not\n",
    "    wins = 0 #initialize the number of times you win the game\n",
    "    for i in range(iterations): #simulate iter times\n",
    "        me = 0 #initialize your score\n",
    "        opponent = 0 #initialize opponent's score\n",
    "        while (me < 21 or opponent < 21):  #game ends when one player scores 21\n",
    "            random_number = random.random()\n",
    "            if is_serving: #if you are serving\n",
    "                if (random_number <= 0.6):\n",
    "                    me += 1 #and you win the volley, you score 1\n",
    "                else:\n",
    "                    is_serving = False #otherwise you lose your serve right\n",
    "            else: #if your opponent is serving\n",
    "                if (random_number <= 0.5): #and she loses\n",
    "                    is_serving = True #then you gain the serve right\n",
    "                else: #but if she wins\n",
    "                    opponent += 1 # she scores 1 and continue to serve\n",
    "        if me == 21: #if you win\n",
    "            wins += 1 #track the number of times you win\n",
    "    return wins/21 \n",
    "\n",
    "print(prob(10000))\n",
    "                    \n",
    "        "
   ]
  },
  {
   "cell_type": "markdown",
   "metadata": {
    "colab_type": "text",
    "id": "mhVi-xwWf7tu"
   },
   "source": [
    "Check with your peer tutors to see if you spot the right errors."
   ]
  },
  {
   "cell_type": "markdown",
   "metadata": {
    "colab_type": "text",
    "id": "JN-lSnM3f7tu"
   },
   "source": [
    "### Simulation 2\n",
    "\n",
    "Consider this problem: there are 20 guests going to a party, each wearing their favorite hat. After the party, the attendant randomly returns the hats to the guests. Estimate by simulation the probability that there will be at least 1 hat returned to its correct owner.\n",
    "\n",
    "It may be helpful to visualize the problem first. Picture this in your head: the 20 guests queue a line and are labeled by their position in the line. The first guest is numbered 1, the second is numbered 2, and so on, and the last person in the line is numbered 20. We can encode this image into Python using a list. In the cell below, create a list `guests` that contains integers from 1 to 20, representing 20 party-goers."
   ]
  },
  {
   "cell_type": "code",
   "execution_count": null,
   "metadata": {
    "colab": {},
    "colab_type": "code",
    "collapsed": true,
    "id": "6vwsxd86f7tu"
   },
   "outputs": [],
   "source": [
    "# Your code here\n",
    "\n",
    "print(guests) # should print [1,2,3,4,5,6,7,8,9,10,11,12,13,14,15,16,17,18,19,20]"
   ]
  },
  {
   "cell_type": "markdown",
   "metadata": {
    "colab_type": "text",
    "id": "InILIjN7f7tw"
   },
   "source": [
    "Suppose the guest number 1 owns the hat number 1, the guest number 2 owns the hat number 2, etc. In the cell below, create another list, `hats`, that also contains integers from 1 to 20, representing the 20 hats."
   ]
  },
  {
   "cell_type": "code",
   "execution_count": null,
   "metadata": {
    "colab": {},
    "colab_type": "code",
    "collapsed": true,
    "id": "62Mc8Cu_f7tw"
   },
   "outputs": [],
   "source": [
    "# Your code here\n",
    "\n",
    "print(hats) #should print [1,2,3,4,5,6,7,8,9,10,11,12,13,14,15,16,17,18,19,20]"
   ]
  },
  {
   "cell_type": "markdown",
   "metadata": {
    "colab_type": "text",
    "id": "6rRMIfZQf7tx"
   },
   "source": [
    "Your current lists `guests` and `hats` represent the status of guests and hats BEFORE the party. Specifically, if we align the two lists in two lines,\n",
    "\n",
    "`[1,2,3,4,5,6,7,8,9,10,11,12,13,14,15,16,17,18,19,20]` (`guests`)\n",
    "\n",
    "`[1,2,3,4,5,6,7,8,9,10,11,12,13,14,15,16,17,18,19,20]` (`hats`),\n",
    "\n",
    "we see that hat 1 corresponds to person 1, hat 2 corresponds to person 2, etc., meaning that each guest currently has his/her correct hat. Per the problem, what happens after the party is the attendant randomly shuffles the hats. He can do it in Python using the `random` module:   \n",
    "\n",
    "\n"
   ]
  },
  {
   "cell_type": "code",
   "execution_count": null,
   "metadata": {
    "colab": {},
    "colab_type": "code",
    "collapsed": true,
    "id": "MBOJ2sR3f7ty"
   },
   "outputs": [],
   "source": [
    "# Read and run this cell\n",
    "import random\n",
    "random.shuffle(hats)\n",
    "print(hats)"
   ]
  },
  {
   "cell_type": "markdown",
   "metadata": {
    "colab_type": "text",
    "id": "BENsUFt1f7tz"
   },
   "source": [
    "Suppose that after being shuffled, list `hats` becomes `[2, 8, 3, 5, 15, 13, 11, 20, 12, 7, 19, 18, 14, 4, 17, 6, 9, 10, 16, 1]`. Now aligning lists `guests` and `hats` again, we get:\n",
    "\n",
    "`[1,2,3,4,5,6,7,8,9,10,11,12,13,14,15,16,17,18,19,20]` (`guests`)\n",
    "\n",
    "`[2,8,3,5,15,13,11,20,12,7,19,18,14,4,17,6,9,10,16,1]` (`hats`),\n",
    "\n",
    "meaning that guest 1 receives hat 2 (which belongs to guest 2), guest 2 receives hat 8 (which belongs to guest 8), guest 3 correctly receives his/her hat, etc.\n",
    "\n",
    "Given the guest list `guests` you created and a shuffled list `hats` below, we can check if guest 1 (at index 0 in `guest`) has been correctly returned his/her correct hat as follows:"
   ]
  },
  {
   "cell_type": "code",
   "execution_count": null,
   "metadata": {
    "colab": {},
    "colab_type": "code",
    "collapsed": true,
    "id": "Md6HWVS5f7tz"
   },
   "outputs": [],
   "source": [
    "print(guests[0]==hats[0])"
   ]
  },
  {
   "cell_type": "markdown",
   "metadata": {
    "colab_type": "text",
    "id": "-RdEtd89f7t0"
   },
   "source": [
    "Similarly, in the cell below, check if guest 5 (at index 4 in `guest`) has been correctly returned his/her correct hat."
   ]
  },
  {
   "cell_type": "code",
   "execution_count": null,
   "metadata": {
    "colab": {},
    "colab_type": "code",
    "collapsed": true,
    "id": "-w6DC3k-f7t0"
   },
   "outputs": [],
   "source": [
    "# Your 1 line of code here\n"
   ]
  },
  {
   "cell_type": "markdown",
   "metadata": {
    "colab_type": "text",
    "id": "dfSwsu0Qf7t1"
   },
   "source": [
    "*Putting it together!* Now that we know how to create the list of guests, initialize the list of hats, shuffle it, and check if a certain guest receives his/her correct hat, we can run the full simulation. Fill in the template below to do that. You can copy parts of your code above and paste them in the right spot."
   ]
  },
  {
   "cell_type": "code",
   "execution_count": null,
   "metadata": {
    "colab": {},
    "colab_type": "code",
    "collapsed": true,
    "id": "nG3FsdILf7t2"
   },
   "outputs": [],
   "source": [
    "counts = 0 # initialize how many times there is an event that \"at least 1 hat is returned to its correct owner.\"\n",
    "guests = # TODO: create a list of guests (copy your code above)\n",
    "iterations = #TODO: how many times you want to run the simulation?\n",
    "for i in range(iterations): \n",
    "    hats = # TODO: create a list of hats in the right position. This list will be shuffled later. \n",
    "    random.shuffle() # TODO: fill in the parantheses to shuffle hats\n",
    "    for j in range(20):\n",
    "        if : # TODO: fill in this line to check if guest at index j gets his correct hat \n",
    "            counts = counts + 1 # if yes, then the event \"at least 1 hat is returned to its correct owner\" \n",
    "                                # has just occurred. We increase counts by 1\n",
    "            break # exit the checking loop\n",
    "print('The probability that at least 1 hat is correctly returned is: ', counts/iterations)         \n",
    "\n",
    "        \n",
    "    \n",
    "    "
   ]
  },
  {
   "cell_type": "markdown",
   "metadata": {
    "colab_type": "text",
    "id": "dymYQ9bef7t3"
   },
   "source": [
    "If you do everything correctly, the printed result should be around 0.6"
   ]
  },
  {
   "cell_type": "markdown",
   "metadata": {
    "colab_type": "text",
    "id": "qIWYsxt3dOoW"
   },
   "source": [
    "# B. Exercise"
   ]
  },
  {
   "cell_type": "markdown",
   "metadata": {
    "colab_type": "text",
    "id": "tFYOb842dOoW"
   },
   "source": [
    "## Exercise 1. The New Mean\n",
    "\n",
    "Write a function that takes a list `L` and a floating point number `n` and returns another list whose mean is `n` units larger than the mean of `L`."
   ]
  },
  {
   "cell_type": "code",
   "execution_count": null,
   "metadata": {
    "colab": {},
    "colab_type": "code",
    "collapsed": true,
    "id": "lggf8xP5dOoX"
   },
   "outputs": [],
   "source": [
    "# Your code here"
   ]
  },
  {
   "cell_type": "markdown",
   "metadata": {
    "colab_type": "text",
    "id": "Org8o2F7f7t5"
   },
   "source": [
    "## Exercise 2. [How I Met Your Mother?](https://en.wikipedia.org/wiki/How_I_Met_Your_Mother)\n",
    "\n",
    "For every woman Ted dates, there is 0.75% chance he will marry her. If she is not the woman he will marry, he will go on to date another one. What is the probability that the 3rd woman he dates is the one he will marry? Fill in the code below to estimate this probability by simulation."
   ]
  },
  {
   "cell_type": "code",
   "execution_count": null,
   "metadata": {
    "colab": {},
    "colab_type": "code",
    "collapsed": true,
    "id": "s3JosvNHf7t5"
   },
   "outputs": [],
   "source": [
    "success_at_third = 0\n",
    "for _ in range(100000):\n",
    "    num = random.random() \n",
    "    if num < .0075:\n",
    "        # TODO: fill in this line with either continue or break \n",
    "    num = random.random() \n",
    "    if num < .0075:\n",
    "        # TODO: fill in this line with either continue or break\n",
    "    num = random.random() \n",
    "    if num < .0075:\n",
    "        success_at_third += 1\n",
    "    else:\n",
    "        # TODO: fill in this line either continue or break\n",
    "        \n",
    "# TODO: print the result that is the answer to the problem. This should be 1 line of code. \n",
    "# The printed result should be around 0.007\n",
    "\n",
    "\n"
   ]
  },
  {
   "cell_type": "markdown",
   "metadata": {
    "colab_type": "text",
    "id": "41tLFNzGf7t6"
   },
   "source": [
    "## Exercise 3. Hat Check Problem  \n",
    "\n",
    "Rewrite the simulation for the hat check problem without using the list `guests`"
   ]
  },
  {
   "cell_type": "code",
   "execution_count": null,
   "metadata": {
    "colab": {},
    "colab_type": "code",
    "collapsed": true,
    "id": "oJ0rwqsSf7t6"
   },
   "outputs": [],
   "source": [
    "# Your code here"
   ]
  },
  {
   "cell_type": "markdown",
   "metadata": {
    "colab_type": "text",
    "id": "KgxhDhYgVgO1"
   },
   "source": [
    "## Exercise 4. Review with Strings\n",
    "\n",
    "Suppose our findings about resistance from the Lab are captured in the following list:  \n",
    "\n",
    "`resistance_findings = ['!range', 'median', '!mean', '!sd']`\n",
    "\n",
    "The rule is that the preceding exclamation mark '!' indicates that a statistic is **not** resistant, while the lack of the mark indicates that a statistic is resistant. Use the list and the for loop to print out 4 lines of nice messages about our finding. After finishing the following cell and run it, it should print:\n",
    "\n",
    "```\n",
    "range is not resistant\n",
    "\n",
    "median is resistant\n",
    "\n",
    "mean is not resistant\n",
    "\n",
    "sd is not resistant\n",
    "\n",
    "```\n",
    "\n",
    "*Hint*: Recall that with strings, we can concatenate them using the `+` operator. We can also slice and index them like lists."
   ]
  },
  {
   "cell_type": "code",
   "execution_count": null,
   "metadata": {
    "colab": {},
    "colab_type": "code",
    "collapsed": true,
    "id": "D5ueusUIVgO2"
   },
   "outputs": [],
   "source": [
    "resistance_findings = ['!range', 'median', '!mean', '!sd']\n",
    "for descriptive_stat in resistance_findings:\n",
    "    if:\n",
    "        # your code here\n",
    "    else:\n",
    "        # your code here"
   ]
  },
  {
   "cell_type": "markdown",
   "metadata": {
    "colab_type": "text",
    "id": "GCeZJ_5Ef7t7"
   },
   "source": [
    "## Exercise 5. Tic-Tac-Toe\n",
    "\n",
    "You are playing Tic-Tac-Toe with your friend. In the first match there is a 40% chance you will win. After that, in each match, you have 50% to win if you win the previous match, and 30% to win if you lose the previous match. You two plan to play 19 matches, and whoever wins the majority of matches wins the game. Assume that there will always be a winner in each match. What is the probability that you will win the game? Solve this with a simulation.\n",
    "\n",
    "You should get about 18%."
   ]
  },
  {
   "cell_type": "code",
   "execution_count": null,
   "metadata": {
    "colab": {},
    "colab_type": "code",
    "collapsed": true,
    "id": "6T8b2c32f7t9"
   },
   "outputs": [],
   "source": [
    "# Your code here "
   ]
  },
  {
   "cell_type": "markdown",
   "metadata": {
    "colab_type": "text",
    "id": "ywxT8Tksf7t8"
   },
   "source": [
    "## [Optional] Exercise 6. How I Met Your Mother?\n",
    "\n",
    "For every woman Ted dates, there is 0.75% chance he will marry her. If she is not the woman he will marry, he will go on to date another one. How many women we expect Ted to date before he dates someone he will marry? Answer this by simulation. Suppose each season of HIMYM is about approximately 10 women Ted dates, how many seasons you have to hopelessly watch to witness his wedding? "
   ]
  },
  {
   "cell_type": "code",
   "execution_count": null,
   "metadata": {
    "colab": {},
    "colab_type": "code",
    "collapsed": true,
    "id": "6T8b2c32f7t9"
   },
   "outputs": [],
   "source": [
    "# Your code here "
   ]
  },
  {
   "cell_type": "markdown",
   "metadata": {
    "colab_type": "text",
    "id": "YfepxH4ddOoY"
   },
   "source": [
    "## [Optional] Exercise 7.  Developing Tic-Tac-Toe \n",
    "\n",
    "You want to play the original 3x3 version of [Tic-Tac-Toe](https://en.wikipedia.org/wiki/Tic-tac-toe) with a friend of yours. You guys' strategies are just randomly choosing an unoccupied cell to mark when it's your turn. Your friend insists playing first every match since she believes that would give her an advantage over you (i.e., her probability of winning if she goes first is higher). Is that a reasonable insistence? Check by simulation.\n",
    "\n",
    "*Hint:* You can represent the 3x3 grid by a 9-element list, or a list of lists. "
   ]
  },
  {
   "cell_type": "code",
   "execution_count": null,
   "metadata": {
    "colab": {},
    "colab_type": "code",
    "collapsed": true,
    "id": "WY1eMgQ1dOoY"
   },
   "outputs": [],
   "source": [
    "# Your code here"
   ]
  },
  {
   "cell_type": "markdown",
   "metadata": {
    "colab_type": "text",
    "id": "FFTR46r1f7t_"
   },
   "source": [
    "## [Optional] Exercise 8.  Simulation Visualization\n",
    "\n",
    "There are two parts to this exercise:\n",
    "\n",
    "1. This part is to \"visualize\" the Law of Large Number, which states that \"the average of the results obtained from a large number of [iterations] should be close to the expected value, and will tend to become closer as more [iterations] are performed\" (Wikipedia) Modify the code you created either for exercise 2 or 5 to generate a graph showing the probability calculated after each iteration. Your graph should look something like the example below. Judging by the graph you have created, does the law seem true?\n"
   ]
  },
  {
   "cell_type": "code",
   "execution_count": null,
   "metadata": {
    "colab": {},
    "colab_type": "code",
    "collapsed": true,
    "id": "g8u76Dn4f7t_"
   },
   "outputs": [],
   "source": [
    "import matplotlib.pyplot as plt\n",
    "a = [1.0, 1.0, 0.6666666666666666, 0.5, 0.6, 0.5, 0.42857142857142855, \n",
    "     0.375, 0.3333333333333333, 0.3, 0.36363636363636365, 0.3333333333333333, \n",
    "     0.3076923076923077, 0.35714285714285715, 0.3333333333333333, 0.3125, \n",
    "     0.35294117647058826, 0.3333333333333333, 0.3157894736842105, 0.3, \n",
    "     0.2857142857142857, 0.2727272727272727, 0.30434782608695654, 0.3333333333333333,\n",
    "     0.32, 0.3076923076923077, 0.2962962962962963, 0.2857142857142857, \n",
    "     0.27586206896551724, 0.3, 0.2903225806451613, 0.28125, 0.30303030303030304,\n",
    "     0.29411764705882354, 0.2857142857142857, 0.2777777777777778, 0.2702702702702703,\n",
    "     0.2631578947368421, 0.2564102564102564, 0.25, 0.24390243902439024, \n",
    "     0.23809523809523808, 0.2558139534883721, 0.25, 0.24444444444444444,\n",
    "     0.2391304347826087, 0.23404255319148937, 0.22916666666666666, 0.24489795918367346,\n",
    "     0.24, 0.23529411764705882, 0.23076923076923078, 0.22641509433962265, \n",
    "     0.2222222222222222, 0.23636363636363636, 0.23214285714285715,\n",
    "     0.22807017543859648, 0.22413793103448276, 0.22033898305084745, \n",
    "     0.23333333333333334, 0.22950819672131148, 0.24193548387096775, \n",
    "     0.23809523809523808, 0.25, 0.24615384615384617, 0.24242424242424243,\n",
    "     0.23880597014925373, 0.25, 0.2463768115942029, 0.24285714285714285,\n",
    "     0.23943661971830985, 0.25, 0.2602739726027397, 0.25675675675675674,\n",
    "     0.25333333333333335, 0.25, 0.24675324675324675, 0.24358974358974358, \n",
    "     0.24050632911392406, 0.25, 0.24691358024691357, 0.24390243902439024,\n",
    "     0.24096385542168675, 0.23809523809523808, 0.24705882352941178, \n",
    "     0.2441860465116279, 0.2413793103448276, 0.25, 0.24719101123595505,\n",
    "     0.25555555555555554, 0.25274725274725274, 0.2608695652173913, \n",
    "     0.25806451612903225, 0.2553191489361702, 0.25263157894736843, \n",
    "     0.25, 0.24742268041237114, 0.25510204081632654, 0.26262626262626265, 0.27]\n",
    "plt.plot(range(1,101), a )\n",
    "plt.xlabel('# games')\n",
    "plt.ylabel('Probability')\n",
    "plt.show()\n",
    "\n"
   ]
  },
  {
   "cell_type": "markdown",
   "metadata": {
    "colab_type": "text",
    "id": "qmTcoSQdf7uA"
   },
   "source": [
    "2. If you run the simulations you made for exercises 2 and 5 with a low number of iterations (e.g., 50 iteration), it seemed that you are unlikely to get a result that is close to the converging value the graph for part 1 of this exercise shows, and additionally, the results tend to fluctuate more (e.g., one time the estimated probability is 0.01 and another time it maybe 0.3, for example. However, with, say, 1000000 iterations the estimation is always around 0.01). You suspect that when the number of iterations increases, the standard error (standard deviation) for the results returned by the simulation decreases. Check your intuition by letting the number of iterations vary, and for each number of iterations, run the simulation 100 times and record the standard deviation of the 100 probabilities returned. Graph the recorded standard deviations as a function of the number of iterations. An example for such a graph is shown below. Does your graph support the intuition?"
   ]
  },
  {
   "cell_type": "code",
   "execution_count": null,
   "metadata": {
    "colab": {},
    "colab_type": "code",
    "collapsed": true,
    "id": "4xSdc5z2f7uB"
   },
   "outputs": [],
   "source": [
    "sd_list = [0.4397226398538103, 0.30246322090462624, 0.2467060779326051, 0.21858508068941884, \n",
    "           0.199705383002062, 0.1732781162050047, 0.16742247672963592, 0.15421368089440035, \n",
    "           0.14359369118505208, 0.14060497857472917, 0.13156401829182193, 0.12281094323299484,\n",
    "           0.12311958395260589, 0.1178227438977378, 0.10865069412264831, 0.10669458456266658,\n",
    "           0.10321335446439253, 0.10143986541935271, 0.10026987130445883, 0.09730035971156524,\n",
    "           0.09198239997283153, 0.09226210194085883, 0.08936930874710663, 0.08856172321858063,\n",
    "           0.08494610055794215, 0.08337708417593209, 0.08493089258788607, 0.08414561601104081,\n",
    "           0.08099203583812006, 0.08084123672702889, 0.07617215153936059, 0.07733096485237947,\n",
    "           0.07507973111216563, 0.07421960773953462, 0.07211328955617159, 0.07292518997804052,\n",
    "           0.07136140387826581, 0.06845330717472975, 0.06970283500045478, 0.06715463033179478,\n",
    "           0.06759178658184295, 0.06599910241264198, 0.06448343224482106, 0.06275516096125287,\n",
    "           0.06189507649100354, 0.06411237770840623, 0.06389675919183661, 0.06247082652459995,\n",
    "           0.058960366897092206]\n",
    "plt.plot(list(range(1,50)), sd_list)\n",
    "plt.title('The standard deviation of samples of 100 simulations\\nof different number of iterations')\n",
    "plt.xlabel('Iteration number')\n",
    "plt.ylabel('Standard deviation')\n",
    "plt.show()"
   ]
  },
  {
   "cell_type": "code",
   "execution_count": null,
   "metadata": {
    "colab": {},
    "colab_type": "code",
    "collapsed": true,
    "id": "CLSsSgQrajDK"
   },
   "outputs": [],
   "source": []
  }
 ],
 "metadata": {
  "colab": {
   "collapsed_sections": [
    "Omo3i1agdOni",
    "3eraANlYf7tF",
    "F8yJ6qgCVgOK",
    "bw_BffzadOnq",
    "lk-Ezhd0dOnr",
    "RFRcQjFVdOoK",
    "rP8jEzkqf7tl",
    "Q5WxcqwhdOoL",
    "JN-lSnM3f7tu",
    "tFYOb842dOoW",
    "41tLFNzGf7t6",
    "KgxhDhYgVgO1",
    "GCeZJ_5Ef7t7",
    "ywxT8Tksf7t8",
    "YfepxH4ddOoY"
   ],
   "name": "SSS8 (1).ipynb",
   "provenance": [],
   "version": "0.3.2"
  },
  "kernelspec": {
   "display_name": "Python 3",
   "language": "python",
   "name": "python3"
  },
  "language_info": {
   "codemirror_mode": {
    "name": "ipython",
    "version": 3
   },
   "file_extension": ".py",
   "mimetype": "text/x-python",
   "name": "python",
   "nbconvert_exporter": "python",
   "pygments_lexer": "ipython3",
   "version": "3.6.2"
  }
 },
 "nbformat": 4,
 "nbformat_minor": 1
}
