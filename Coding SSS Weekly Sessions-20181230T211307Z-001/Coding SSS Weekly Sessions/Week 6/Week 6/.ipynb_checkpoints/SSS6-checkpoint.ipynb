{
 "cells": [
  {
   "cell_type": "markdown",
   "metadata": {
    "colab_type": "text",
    "id": "H9iKSDyYSI4e"
   },
   "source": [
    "# SSS 6. NumPy, #descriptivestats, csv, and MatPlotLib\n",
    "\n",
    "This SSS is a rapid introduction to a few popular Python libraries that you'll be using frequently in upcoming sessions, classes, and assignments. You've already seen them in FA class this week! We'll continue learning about these libraries in upcoming SSS's, so you will continue to gain familiarity as the semester goes. We also review **#descriptivestats** this week, as well as preview **#correlation** and **#dataviz**."
   ]
  },
  {
   "cell_type": "markdown",
   "metadata": {
    "colab_type": "text",
    "id": "uAgJbshcSI4f"
   },
   "source": [
    "# Table of Contents\n",
    "* [A. Python Lab: Libraries](#A.-Python-Lab:-Libraries)\n",
    "    * [The Numpy Library](#The-Numpy-Library)\n",
    "\t* [Using .csv Files With Python](#Using-.csv-Files-With-Python)\n",
    "    * [Plotting with Matplotlib](#Plotting-With-Matplotlib)\n",
    "* [B. Exercises](#B.-Exercise)"
   ]
  },
  {
   "cell_type": "markdown",
   "metadata": {
    "colab_type": "text",
    "id": "UrVxQLOmq_lL"
   },
   "source": [
    "# A. Python Lab: Libraries\n",
    "\n",
    "Python \"libraries\" are packages that contain data structures and functions that perform specific tasks. Since they are special, we have to tell Python to import them before we can use them in our own code. This requires an `import` statement at the top of our code; look out for these statements in the examples to follow.\n",
    "\n",
    "## The Numpy Library\n",
    "\n",
    "The \"NumPy\" library is a particularly useful library for dealing with numbers. It is THE standard fundamental library for scientific computing. You've seen it used already in FA class, during both activities in session 6.2\\*\\*. This library contains special functions that save you a lot of time, especially when working with lists of numbers. For example, one can easily calculate the mean and median of a list of integers or floats using NumPy. See the example below.\n",
    "\n",
    "\\*\\* **Side note:** Did you know that you access all class resources (including Google docs, slides and even Jupyter Notebooks) after class? These resources are available on the class page, just scroll to the bottom. You should take advantage of these! For example, the code will come in handy when you need to write your own code for the assignments. Are you allowed to straight-up copy code from class, or here, to use in your assignments? Yes! BUT, it must be full of thorough comments to show that you understand how it works."
   ]
  },
  {
   "cell_type": "code",
   "execution_count": null,
   "metadata": {
    "colab": {},
    "colab_type": "code",
    "collapsed": true,
    "id": "ce8YphY2q_lM",
    "outputId": "4503a429-9543-4855-f22c-88b5d043b27f"
   },
   "outputs": [],
   "source": [
    "import numpy as np # this line imports the numpy package. The \"as\" command \n",
    "                   # allows the programmer to shorten the module's name \n",
    "                   # when calling it in the future!\n",
    "lst = [2, 4, 4, 4, 6, 6, 8]\n",
    "\n",
    "print(np.median(lst)) # note that we called the library as \"np\""
   ]
  },
  {
   "cell_type": "markdown",
   "metadata": {
    "colab_type": "text",
    "id": "9RhG6fsFq_lP"
   },
   "source": [
    "Knowing that `mean` is another function from the `numpy` module, your task is to compute the mean of list A below. "
   ]
  },
  {
   "cell_type": "code",
   "execution_count": null,
   "metadata": {
    "colab": {},
    "colab_type": "code",
    "collapsed": true,
    "id": "UGCgZ40yq_lP"
   },
   "outputs": [],
   "source": [
    "A = [1,1,1,2,3,4,5]\n",
    "# Your code here"
   ]
  },
  {
   "cell_type": "markdown",
   "metadata": {
    "colab_type": "text",
    "id": "NdXLgcXQrRPf"
   },
   "source": [
    "During FA session 6.2, you saw the `mymean` function below to calculate the mean from scratch. Add thorough comments to each line to explain what it does. Compare the `mean` function from NumPy and the `mymean` function to make sure that they agree on the mean of list A."
   ]
  },
  {
   "cell_type": "code",
   "execution_count": null,
   "metadata": {
    "collapsed": true
   },
   "outputs": [],
   "source": [
    "def mymean(dataset):\n",
    "    #this function returns the mean of a dataset without using any numpy or math libraries\n",
    "    N = len(dataset) # add comments\n",
    "    sumtotal = 0 # add comments\n",
    "    for i in range(N): # add comments\n",
    "        sumtotal += dataset[i] # add comments\n",
    "    return sumtotal/N # add comments\n",
    "\n",
    "# write code to print the results to compare this function to NumPy's mean function.\n",
    "# you can test it on list A"
   ]
  },
  {
   "cell_type": "markdown",
   "metadata": {
    "colab_type": "text",
    "id": "NdXLgcXQrRPf"
   },
   "source": [
    "NumPy has all sorts of useful mathematical functions. For example, it knows the value of $\\pi$:"
   ]
  },
  {
   "cell_type": "code",
   "execution_count": null,
   "metadata": {
    "collapsed": true
   },
   "outputs": [],
   "source": [
    "print(np.pi)"
   ]
  },
  {
   "cell_type": "markdown",
   "metadata": {
    "colab_type": "text",
    "id": "NdXLgcXQrRPf"
   },
   "source": [
    "NumPy can also help us with square roots ($\\sqrt{x}$) using its `sqrt` function. But wait, don't we already know how to take the square root of a number in Python? (*Hint*: think of exponents!) \n",
    "Fill in the function below to make your own square root function using the hint, then compare to NumPy's version to make sure they agree."
   ]
  },
  {
   "cell_type": "code",
   "execution_count": null,
   "metadata": {
    "collapsed": true
   },
   "outputs": [],
   "source": [
    "def mysqrt(x):\n",
    "    return # fill this in\n",
    "\n",
    "\n",
    "test_val = 36 #re-run with a few different test values\n",
    "print(np.sqrt(test_val))\n",
    "print(mysqrt(test_val))"
   ]
  },
  {
   "cell_type": "markdown",
   "metadata": {
    "colab_type": "text",
    "id": "NdXLgcXQrRPf"
   },
   "source": [
    "If you are interested (hint: you are) in learning more functions from the NumPy library, check out [this tutorial](https://docs.scipy.org/doc/numpy-1.15.1/user/quickstart.html). **You are highly encouraged to check this out sometime outside of the SSS**."
   ]
  },
  {
   "cell_type": "markdown",
   "metadata": {
    "colab_type": "text",
    "id": "6Yii4-wcSI4h"
   },
   "source": [
    "## Using .csv Files With Python"
   ]
  },
  {
   "cell_type": "markdown",
   "metadata": {
    "colab_type": "text",
    "id": "QksgtGPQSI4i"
   },
   "source": [
    "*Story time!* John, a first-year Minerva student, asked each of his peers in his FA class what their ages are. He also asked his peers to estimate how much ice-cream, in grams, they consume per month. He recorded this data on an Excel document. John wants to perform some tests on his data: he wants to find the mode, mean and median for both age and ice cream consumption, and he wants to use Python to do so. \n",
    "\n",
    "To begin with, John exports his Excel doc as a .csv file (a very simple file type that stores the contents from a table, similar to a spreadsheet). He now has to import that file to his Anaconda Jupyter Notebook program. Look at the code below. Before running it, can you try to guess what it does? After you have a hunch, run it! \n",
    "\n",
    "**Side note**: the code in FA session 6.2 used a different method for reading in the Young People Survey csv file involving another library, \"pandas\". This is a popular, but more advanced, statistics package that we will not cover in detail here, maybe later :)"
   ]
  },
  {
   "cell_type": "code",
   "execution_count": null,
   "metadata": {
    "colab": {},
    "colab_type": "code",
    "collapsed": true,
    "id": "F-uNqi9-SI4j"
   },
   "outputs": [],
   "source": [
    "import csv \n",
    "\n",
    "file = csv.reader(open('student_data.csv'))\n",
    "\n",
    "print(type(file))\n",
    "\n",
    "for row in file:\n",
    "    print(row)"
   ]
  },
  {
   "cell_type": "markdown",
   "metadata": {
    "colab_type": "text",
    "id": "yy1Ujyg1SI4p"
   },
   "source": [
    "Now, let's break it down:\n",
    "1. The `import csv` command imports the Python library that allows one to use csv-related methods\n",
    "2. The variable `file` is set to a .csv file (John's data)\n",
    "3. The `open` command asks the interpreter to open a file with the name 'student_data.csv' that lies within the same directory as this notebook (i.e., the same \"folder\" in Windows or Mac OS)\n",
    "4. The `csv.reader()` command \"reads\" the file we opened, meaning it transforms that file into a format usable by the Python interpreter\n",
    "5. Now we have a variable named file that corresponds to a '.csv reader' data type! This datatype can be iterated over just like a list, and that is what we do with the 'for' loop: we iterate over each row, and print its contents!"
   ]
  },
  {
   "cell_type": "markdown",
   "metadata": {
    "colab_type": "text",
    "id": "GDBqI9DdSI4t"
   },
   "source": [
    "As it turns out, John is pretty sure that student's estimations for how much ice-cream they consumer are too low! He thinks each person consumes 100 g more ice-cream than they think! With that in mind, John wants to add 100 g to each of the ice-cream estimations within his table. First, he wants to create a list with all values of ice-cream consumption, and then he wants to increase his values by 100 each. This is the code he writes:"
   ]
  },
  {
   "cell_type": "code",
   "execution_count": null,
   "metadata": {
    "colab": {},
    "colab_type": "code",
    "collapsed": true,
    "id": "B6eBaIm3SI4u",
    "outputId": "0fe37d99-7699-4db5-908e-65741c4e91cb"
   },
   "outputs": [],
   "source": [
    "import csv\n",
    "\n",
    "file = csv.reader(open('student_data.csv'))\n",
    "\n",
    "print(type(file))\n",
    "\n",
    "ice_cream = [] #an emtpy list\n",
    "\n",
    "for row in file:\n",
    "    ice_cream.append(row[2]) # At this stage, we are copying the relevant values \n",
    "                             # to a list because a list is easier to manipulate\n",
    "                             # because we already learned about them in SSS4\n",
    "\n",
    "print(\"This is the original list of estimates:\\n\", ice_cream)\n",
    "\n",
    "for idx in range(len(ice_cream)): # can you figure out why we iterated using the \"range\" \n",
    "                                  # function rather than by iterating over the list's elements?\n",
    "    if not idx == 0: #Hint: the quesiton above has to do with this line!\n",
    "        ice_cream[idx] = float(ice_cream[idx]) + 100\n",
    "\n",
    "print(\"\\nThis is the new, corrected list of estimates:\\n\", ice_cream)"
   ]
  },
  {
   "cell_type": "markdown",
   "metadata": {
    "colab_type": "text",
    "id": "j5THgpkISI4x"
   },
   "source": [
    "Now these estimates seem more plausible! \n",
    "\n",
    "But wait! John found out that his classmates are liars (including himself!) Those who said they had 19 or more years of age are actually two years younger! Do you think you could write code, similar to the one above, to make the necessary corrections?"
   ]
  },
  {
   "cell_type": "code",
   "execution_count": null,
   "metadata": {
    "colab": {},
    "colab_type": "code",
    "collapsed": true,
    "id": "itljZ6z-SI4y"
   },
   "outputs": [],
   "source": [
    "import csv\n",
    "\n",
    "file = csv.reader(open('student_data.csv'))\n",
    "\n",
    "ages = []\n",
    "\n",
    "for row in file:\n",
    "    # use this loop to create a list with students' (fake) ages!\n",
    "    \n",
    "print(\"These were the ages students claimed to be:\", ages)\n",
    "\n",
    "for idx in range(len(ages)):\n",
    "    # can you input the code here to correct their ages, and output a list with the correct values?"
   ]
  },
  {
   "cell_type": "markdown",
   "metadata": {},
   "source": [
    "One last thing to get this data ready for analysis.\n",
    "\n",
    "In the exercises below, you will get to help John compute descriptive stats and make plots for his data using these `ice_cream` and `ages` lists. But there is one problem with our lists: the first element of each list should not be part of the processed data. For example, the first element of `ages` is `'Age'`, which is just a header for a data column and not an actual age. The cell below contains one way to delete the first element of each list. Run it to see how the header has been removed for the ages data."
   ]
  },
  {
   "cell_type": "code",
   "execution_count": null,
   "metadata": {
    "collapsed": true
   },
   "outputs": [],
   "source": [
    "ages_data = ages[1:]\n",
    "print(ages_data)"
   ]
  },
  {
   "cell_type": "markdown",
   "metadata": {},
   "source": [
    "Do the same for the ice cream consumption data:"
   ]
  },
  {
   "cell_type": "code",
   "execution_count": null,
   "metadata": {
    "collapsed": true
   },
   "outputs": [],
   "source": [
    "# your code to fix the ice cream data"
   ]
  },
  {
   "cell_type": "markdown",
   "metadata": {
    "colab_type": "text",
    "id": "1CvuEoysSI46"
   },
   "source": [
    "## Plotting With Matplotlib\n",
    "\n",
    "**Notes**: \n",
    "\n",
    "- Even advanced programmers sometimes cannot remember all the function syntax and need to rely on help from the Internet, so it is important we practice garnering readily available information out there to develop our own solution to a problem at hand. Quote from anonymous person who codes for a living: \"*Looking stuff up is literally half of my job*\". Beside plotting with MatPlotLib, this section will also focus on this skill.  \n",
    "\n",
    "- We used MatPlotLib to make histograms for the Young People Survey in FA session 6.2, remember? You can practice making your own histograms in the Exercises.\n",
    "\n",
    "- This material is HIGHLY relevant for the #correlation and #dataviz HC's that you will be introduced to next week in FA and EA!\n",
    "\n",
    "### Scatter Plot\n",
    "\n",
    "Now, John wants to plot his data. To do so, he can use a Python library called \"MatPlotLib\". Anaconda and CoCalc already have this library built in, but if you are using another program, you might have to install MatPlotLib for this next part. \n",
    "\n",
    "Say John wants to test out MatPlotLib before plotting his data for real. He wants to plot the following data points on a plane: (1, 3), (2, 7), (3, 7), (4, 14). To do so, he uses the code below.\n",
    "\n",
    "*Running the cell may not show the graph the first time. This is usually solved by running it a second time*"
   ]
  },
  {
   "cell_type": "code",
   "execution_count": null,
   "metadata": {
    "colab": {},
    "colab_type": "code",
    "collapsed": true,
    "id": "ksNqtqnUSI47",
    "outputId": "dcc76b43-3a8c-4885-b47f-dc34508aa69a"
   },
   "outputs": [],
   "source": [
    "import matplotlib.pyplot as plt\n",
    "\n",
    "xaxis = [1, 2, 3, 4]\n",
    "yaxis = [3, 7, 7, 14]\n",
    "\n",
    "plt.scatter(xaxis, yaxis)\n",
    "plt.show()"
   ]
  },
  {
   "cell_type": "markdown",
   "metadata": {
    "colab_type": "text",
    "id": "ThrAORDzq_ld"
   },
   "source": [
    "How do we set a title \"My first scatter plot\" for this plot in matplotlib? Googling \"matplotlib set title\" and going to the first link shows us documentation for function `matplotlib.pyplot.title`. Do not be intimidated by the seemingly daunting documentation! You got this!\n",
    "![documentation for plt.title](images/title_documentation.jpg)"
   ]
  },
  {
   "cell_type": "markdown",
   "metadata": {
    "colab_type": "text",
    "id": "ugBY3ttlq_le"
   },
   "source": [
    "Let us examine the documentation. While the function `matplotlib.pyplot.title` receives many arguments/parameters (`label`,`fondtdict`, etc.), `label` seems to directly address our need: it is **text to use for the title**, and its type is a string (`str`). From this we know that if we want to title our plot \"My first scatter plot\", we just need to give the string \"My first scatter plot\" to the function: `matplotlib.pyplot.title(\"My first scatterplot\")`. And since we shortened `matplotlib.pyplot` to `plt` (what `import matplotlib.pyplot as plt` does), the syntax is simplified to `plt.title(\"My first scatter plot\")`. Let's screate the plot again, this time with a title."
   ]
  },
  {
   "cell_type": "code",
   "execution_count": null,
   "metadata": {
    "colab": {},
    "colab_type": "code",
    "collapsed": true,
    "id": "IoiubIEoq_lf",
    "outputId": "b6d0fe21-d885-4284-f70b-338b33fa80c6"
   },
   "outputs": [],
   "source": [
    "import matplotlib.pyplot as plt\n",
    "\n",
    "xaxis = [1, 2, 3, 4]\n",
    "yaxis = [3, 7, 7, 14]\n",
    "\n",
    "plt.scatter(xaxis, yaxis)\n",
    "plt.title(\"My first scatter plot\")\n",
    "plt.show()"
   ]
  },
  {
   "cell_type": "markdown",
   "metadata": {
    "colab_type": "text",
    "id": "EfJ7GXJVSI49"
   },
   "source": [
    "Can you set the labels for both the axes so that the resulted plot looks like the one below? Google if you don't know how to do so.\n",
    "\n",
    "![fully labeled plot](images/fully_labeled_plot.jpg)"
   ]
  },
  {
   "cell_type": "code",
   "execution_count": null,
   "metadata": {
    "colab": {},
    "colab_type": "code",
    "collapsed": true,
    "id": "uRmtwvyMq_lh"
   },
   "outputs": [],
   "source": [
    "import matplotlib.pyplot as plt\n",
    "\n",
    "xaxis = [1, 2, 3, 4]\n",
    "yaxis = [3, 7, 7, 14]\n",
    "\n",
    "plt.scatter(xaxis, yaxis)\n",
    "plt.title(\"My first scatterplot\")\n",
    "# label your axes here\n",
    "\n",
    "\n",
    "plt.show()"
   ]
  },
  {
   "cell_type": "markdown",
   "metadata": {
    "colab_type": "text",
    "id": "ugC8kjj4SI5D"
   },
   "source": [
    "# B.  Exercise"
   ]
  },
  {
   "cell_type": "markdown",
   "metadata": {
    "colab_type": "text",
    "id": "amV6e_uRSI5D"
   },
   "source": [
    "## Exercise 1. Descriptive Stats for John\n",
    "\n",
    "Write a function `mystats` that helps John compute the following quantities for his data using NumPy functions. \n",
    "\n",
    "1. length\n",
    "2. mean\n",
    "3. median\n",
    "4. standard deviation  \n",
    "\n",
    "Use this function to compute these quantities for both the **ages** data and the **ice cream** consumption data that we constructed above. Your function should input a column from the data as a list and print these four values. Then call the function to apply it to ages and ice cream.  "
   ]
  },
  {
   "cell_type": "code",
   "execution_count": null,
   "metadata": {
    "colab": {},
    "colab_type": "code",
    "collapsed": true,
    "id": "MOtghfJTSI5E"
   },
   "outputs": [],
   "source": [
    "def mystats(col):\n",
    "    # Your code here\n",
    "    "
   ]
  },
  {
   "cell_type": "code",
   "execution_count": null,
   "metadata": {
    "collapsed": true
   },
   "outputs": [],
   "source": [
    "#apply your function to John's data"
   ]
  },
  {
   "cell_type": "markdown",
   "metadata": {},
   "source": [
    "If you did it right, you should find that the length of each list is 18. The stats for the ages should be (18.0, 17.5, 2.646) and the stats for the ice cream should be (376.0, 380.0, 30.094).\n",
    "\n",
    "**Side note**: The NumPy libarary does not have a function to compute the mode of a list. This is most easily done using another library: SciPy. If you ever need to compute the mode, you can review the code from session 6.2 to see how to use this library. Or, even better, you can use the mode from scratch function that you wrote in SSS4!"
   ]
  },
  {
   "cell_type": "markdown",
   "metadata": {
    "colab_type": "text",
    "id": "s5rKswi_SI5I"
   },
   "source": [
    "## Exercise 2. Scatter Plot for John\n",
    "\n",
    "Using MatPlotLib, plot a scatter plot with age on the $x$ axis, and ice cream consumption on the $y$ axis. Make sure you label the axes and give a title to your plot! (ALWAYS important for strong #dataviz scores)"
   ]
  },
  {
   "cell_type": "code",
   "execution_count": null,
   "metadata": {
    "colab": {},
    "colab_type": "code",
    "collapsed": true,
    "id": "XSuNBaw1SI5J"
   },
   "outputs": [],
   "source": [
    "# Your code here"
   ]
  },
  {
   "cell_type": "markdown",
   "metadata": {
    "colab_type": "text",
    "id": "tUNzJ8VlSI5K"
   },
   "source": [
    "## Exercise 3. Histogram for John\n",
    "\n",
    "Using MatPlotLib, plot a histogram for ice cream consumption. You'll need to Google how to do so. Experiment with the number of bins."
   ]
  },
  {
   "cell_type": "code",
   "execution_count": null,
   "metadata": {
    "colab": {},
    "colab_type": "code",
    "collapsed": true,
    "id": "G0xD0JJkSI5L"
   },
   "outputs": [],
   "source": [
    "# Your code here"
   ]
  },
  {
   "cell_type": "markdown",
   "metadata": {
    "colab_type": "text",
    "id": "jPHsz4dsq_lu"
   },
   "source": [
    "## Exercise 4. Histograms with Color\n",
    "\n",
    "Set the bars in the histogram you created for exercise 4 to a different color. Google how to do this. How else can you alter your histogram to make it beautiful?"
   ]
  },
  {
   "cell_type": "code",
   "execution_count": null,
   "metadata": {
    "colab": {},
    "colab_type": "code",
    "collapsed": true,
    "id": "jOsdinDAq_lu"
   },
   "outputs": [],
   "source": [
    "# Your code here"
   ]
  },
  {
   "cell_type": "markdown",
   "metadata": {
    "colab_type": "text",
    "id": "u6gJCnrYq_lv"
   },
   "source": [
    "## [Optional] Exercise 5. It Pays Off!\n",
    "Given the four lists `x1`, `y1`, `x2`, `y2`, replicate the plot below. Pay attention to colors, font size, and legends.\n",
    "\n",
    "![EA FA plot](images/EA_FA_plot.jpg)"
   ]
  },
  {
   "cell_type": "code",
   "execution_count": null,
   "metadata": {
    "colab": {},
    "colab_type": "code",
    "collapsed": true,
    "id": "tzo_bmk5q_lv"
   },
   "outputs": [],
   "source": [
    "x1 = [1,3,5,8]\n",
    "y1 = [1,2,3,4]\n",
    "x2 = [2,4,6,7]\n",
    "y2 = [1,2,3,4]\n",
    "# Your code here"
   ]
  },
  {
   "cell_type": "markdown",
   "metadata": {
    "colab_type": "text",
    "id": "g9BW-GAvq_lx"
   },
   "source": [
    "## [Optional] Exercise 6. Timezone\n",
    "\n",
    "In a clock, there are 12 numbers from 1 to 12. Currently, the hour hand is pointing at 3. There are two actions allowed to affect the hour hand: adjust it forward +x numbers, or backward -x numbers. For example, if you adjust it forward 5 numbers, the hand will point at number 8. If you adjust it backward 5 numbers, the hand will point at number 10. Write a function that takes an integer `x` as input (the sign of `x` indicates the direction of adjustment), and outputs the number the hand will point to after the adjustment.\n"
   ]
  },
  {
   "cell_type": "code",
   "execution_count": null,
   "metadata": {
    "colab": {},
    "colab_type": "code",
    "collapsed": true,
    "id": "TuYHOVbQq_lx"
   },
   "outputs": [],
   "source": [
    "# Your code here"
   ]
  },
  {
   "cell_type": "markdown",
   "metadata": {
    "colab_type": "text",
    "id": "IbQlRpvSq_ly"
   },
   "source": [
    "## [Optional] Exercise 7. Fibonacci\n",
    "(Adapted from [Project Euler Problem 2](https://projecteuler.net/problem=2))\n",
    "\n",
    "Each new term in the Fibonacci sequence is generated by adding the previous two terms. By starting with 1 and 2, the first 10 terms will be:\n",
    "\n",
    "1, 2, 3, 5, 8, 13, 21, 34, 55, 89, ...\n",
    "\n",
    "Given two positive integers A and B, find the number of Fibonacci numbers between A and B."
   ]
  },
  {
   "cell_type": "code",
   "execution_count": null,
   "metadata": {
    "colab": {},
    "colab_type": "code",
    "collapsed": true,
    "id": "uh_f7xiqq_ly"
   },
   "outputs": [],
   "source": [
    "# Your code here"
   ]
  },
  {
   "cell_type": "markdown",
   "metadata": {
    "colab_type": "text",
    "id": "S4g2zj8Hq_lz"
   },
   "source": [
    "## [Optional] Exercise 8. Pascal's Triangle\n",
    "Follow [this link](https://en.wikipedia.org/wiki/Pascal%27s_triangle) to know what Pascal's Triangle is. Write a function that receives the row number (a non-negative integer) and outputs the list of numbers in that row.\n",
    "\n",
    "For example,\n",
    "\n",
    "INPUT: `3`\n",
    "\n",
    "OUTPUT: `[1,3,3,1]`"
   ]
  },
  {
   "cell_type": "code",
   "execution_count": null,
   "metadata": {
    "colab": {},
    "colab_type": "code",
    "collapsed": true,
    "id": "B-MaRcQCq_l0"
   },
   "outputs": [],
   "source": [
    "# Your code here"
   ]
  }
 ],
 "metadata": {
  "colab": {
   "collapsed_sections": [],
   "name": "SSS6.ipynb",
   "provenance": [],
   "version": "0.3.2"
  },
  "kernelspec": {
   "display_name": "Python 3",
   "language": "python",
   "name": "python3"
  },
  "language_info": {
   "codemirror_mode": {
    "name": "ipython",
    "version": 3
   },
   "file_extension": ".py",
   "mimetype": "text/x-python",
   "name": "python",
   "nbconvert_exporter": "python",
   "pygments_lexer": "ipython3",
   "version": "3.6.2"
  }
 },
 "nbformat": 4,
 "nbformat_minor": 1
}
