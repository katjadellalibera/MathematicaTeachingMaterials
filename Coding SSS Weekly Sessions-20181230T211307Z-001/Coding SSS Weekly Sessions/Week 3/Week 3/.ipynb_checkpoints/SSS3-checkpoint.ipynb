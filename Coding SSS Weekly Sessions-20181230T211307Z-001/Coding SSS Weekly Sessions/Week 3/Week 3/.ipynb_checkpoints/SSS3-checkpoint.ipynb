{
 "cells": [
  {
   "cell_type": "markdown",
   "metadata": {
    "colab_type": "text",
    "id": "LEOp0iJ7VTo2"
   },
   "source": [
    "# SSS3. Markdown, #deduction, #algorithms"
   ]
  },
  {
   "cell_type": "markdown",
   "metadata": {
    "colab_type": "text",
    "id": "xyptdPNbVTo3"
   },
   "source": [
    "# Table of Contents\n",
    "* [A. Python Lab](#A.-Python-Lab)\n",
    "\t* [MARKDOWN INTERLUDE](#Markdown-Interlude)\n",
    "    * [FUNCTIONS [SCOPE\\]](#FUNCTIONS-[SCOPE])\n",
    "    * [STRINGS](#STRINGS)\n",
    "        * [Indexing and Slicing](#Indexing-and-Slicing)\n",
    "    * [DEMORGAN'S LAW REVISITED](#DEMORGAN'S-LAW-REVISITED)\n",
    "* [B. Exercise](#B.-Exercise)\n"
   ]
  },
  {
   "cell_type": "markdown",
   "metadata": {
    "colab_type": "text",
    "id": "VsQeEO4wVTo4"
   },
   "source": [
    "This session will expand more on functions and strings. You will learn the concepts of scope, slicing, and indexing. Some other skills directly applicable to your upcoming FA assignment are also covered. Specifically, you will learn some fun Markdown tricks, and continue practicing **#deduction** and **#algorithm**. "
   ]
  },
  {
   "cell_type": "markdown",
   "metadata": {
    "colab_type": "text",
    "id": "TTWMi1V0VTo5"
   },
   "source": [
    "# A. Python Lab"
   ]
  },
  {
   "cell_type": "markdown",
   "metadata": {
    "colab_type": "text",
    "id": "e9R0RA0oVTo6"
   },
   "source": [
    "## MARKDOWN INTERLUDE"
   ]
  },
  {
   "cell_type": "markdown",
   "metadata": {
    "colab_type": "text",
    "id": "9u-Sea0rVTo7"
   },
   "source": [
    "A strong application of **#professionalism** is as important as correct answers in an assignment. This cell is a Markdown cell. **Double click** this cell to see how to achieve some desired formatting.\n",
    "\n",
    "# Big Heading\n",
    "## Slightly Big Heading\n",
    "### Small Heading\n",
    "\n",
    "You may want to use logical symbols in the next assignment. \n",
    "\n",
    "* P implies Q: P $\\implies$ Q\n",
    "\n",
    "  * P $\\implies$ Q\n",
    "* Negation of P: \n",
    "  * $\\neg$P\n",
    "* P or Q: \n",
    "  * P $\\vee$ Q\n",
    "* P and Q: \n",
    "  * P $\\wedge$ Q\n",
    "\n",
    "You can make text **bold** or *italic*\n",
    "\n",
    "How to make an unordered list:\n",
    "\n",
    "- First item\n",
    "- Second item\n",
    "\n",
    "How to make an ordered list\n",
    "\n",
    "1. First item\n",
    "2. Second item\n",
    "\n",
    "Doing some math: $\\alpha^{2} = \\frac{\\beta}{\\gamma} = \\frac{4}{8}=0.5$ \n",
    "\n",
    "Doing some special math steps on new centered lines: $$x + 1 = 4$$ $$ \\Rightarrow x = 3$$ "
   ]
  },
  {
   "cell_type": "markdown",
   "metadata": {
    "colab_type": "text",
    "id": "CHre2tISKnh5"
   },
   "source": [
    "Your task: replicate the content of [this document](https://docs.google.com/document/d/1FJNzpxo-6qkwpn9POJ-KZ4dS3IZ6hvbDIEcx7BeDZXo/edit?usp=sharing) in a Markdown cell."
   ]
  },
  {
   "cell_type": "markdown",
   "metadata": {
    "colab_type": "text",
    "id": "3ocsuyiuRShn"
   },
   "source": [
    "** Your answer here**"
   ]
  },
  {
   "cell_type": "markdown",
   "metadata": {
    "colab_type": "text",
    "id": "mLNAWdq7VTo8"
   },
   "source": [
    "## FUNCTIONS [SCOPE]"
   ]
  },
  {
   "cell_type": "markdown",
   "metadata": {
    "colab_type": "text",
    "id": "b9XoGRh2VTo9"
   },
   "source": [
    "When we assign a value to a variable name, Python creates or changes that name. **Scope** refers to the space in which a variable name is visible/ recognizable. Specifically, names assigned inside a function are visible only to the code within that function. Run the following code to see that it will throw an error since name `grade` is assigned within the function A, so we cannot use it outside the function (i.e., `grade` can only be seen inside the function). We say `grade` is **local** to function A."
   ]
  },
  {
   "cell_type": "code",
   "execution_count": null,
   "metadata": {
    "collapsed": true
   },
   "outputs": [],
   "source": [
    "def A():\n",
    "    grade = 8\n",
    "print(grade)"
   ]
  },
  {
   "cell_type": "markdown",
   "metadata": {
    "colab_type": "text",
    "id": "1yBwy5lNVTpC"
   },
   "source": [
    "Names assigned inside a function are independent of the same names assigned outside. That means when you assign a name in a function, Python creates or changes that name which is local to the function. Run the cell to see that the variable `score` is not changed."
   ]
  },
  {
   "cell_type": "code",
   "execution_count": null,
   "metadata": {
    "colab": {},
    "colab_type": "code",
    "collapsed": true,
    "id": "E3ywZewnVTpC",
    "outputId": "4bc08563-672e-4ea7-e7a5-738443f1b830"
   },
   "outputs": [],
   "source": [
    "score = 1\n",
    "def A():\n",
    "    score = 4\n",
    "print(score) # still 1"
   ]
  },
  {
   "cell_type": "markdown",
   "metadata": {
    "colab_type": "text",
    "id": "KFIUv2XCVTpF"
   },
   "source": [
    "If a variable is assigned outside `def`'s, it is a **global** variable. In the above code, `score` which is assigned 1 is global. `score` within the function A is local to that function."
   ]
  },
  {
   "cell_type": "markdown",
   "metadata": {
    "colab_type": "text",
    "id": "ozJLPkpOVTpG"
   },
   "source": [
    "Lastly, when calling functions and passing arguments, we are essentially assigning values to the variables."
   ]
  },
  {
   "cell_type": "code",
   "execution_count": null,
   "metadata": {
    "colab": {},
    "colab_type": "code",
    "collapsed": true,
    "id": "BmRH64QBVTpG",
    "outputId": "b1e80069-0de9-441d-d5c8-49b1a191e6cc"
   },
   "outputs": [],
   "source": [
    "def addition(x,y):\n",
    "    return x + y\n",
    "addition(3,4) # assigning 3 to x and 4 to y. "
   ]
  },
  {
   "cell_type": "markdown",
   "metadata": {
    "colab_type": "text",
    "id": "IeojHwHzVTpI"
   },
   "source": [
    "The function A attempts to increment the variable `score` by 1, but calling it will throw an error. Why? Feel free to create additional cells to test your hypotheses. Hint:\n",
    "\n",
    "* What does the error message say? What line seems to have problems?\n",
    "* Recall that whenever you assign a name, Python creates or changes that name. "
   ]
  },
  {
   "cell_type": "code",
   "execution_count": null,
   "metadata": {
    "collapsed": true
   },
   "outputs": [],
   "source": [
    "score = 1\n",
    "def A():\n",
    "    score = score + 1\n",
    "A() #call the function\n",
    "print(score)"
   ]
  },
  {
   "cell_type": "markdown",
   "metadata": {
    "colab_type": "text",
    "id": "1S8Qfhc5VTpL"
   },
   "source": [
    "**Your answer here:**"
   ]
  },
  {
   "cell_type": "markdown",
   "metadata": {
    "colab_type": "text",
    "id": "tVlU3kK3cdaT"
   },
   "source": [
    "One way to fix the error is to let Python know that the `score` variable you are going to use in function A is a reference to the global `score`. Doing this is very intuitive in Python. You just need to use the **`global`** statement:\n"
   ]
  },
  {
   "cell_type": "code",
   "execution_count": null,
   "metadata": {
    "colab": {
     "base_uri": "https://localhost:8080/",
     "height": 34
    },
    "colab_type": "code",
    "collapsed": true,
    "executionInfo": {
     "elapsed": 983,
     "status": "ok",
     "timestamp": 1534737174564,
     "user": {
      "displayName": "Quang Tran",
      "photoUrl": "https://lh3.googleusercontent.com/a/default-user=s128",
      "userId": "103528044432244998451"
     },
     "user_tz": -420
    },
    "id": "n8DRASRFdddD",
    "outputId": "23e0ae7c-3f03-4550-8253-2b9b753932c9"
   },
   "outputs": [],
   "source": [
    "score = 1\n",
    "def A():\n",
    "    global score\n",
    "    score = score + 1\n",
    "A()\n",
    "print(score) # score now is updated to 2"
   ]
  },
  {
   "cell_type": "markdown",
   "metadata": {
    "colab_type": "text",
    "id": "NpZi60c1eKNA"
   },
   "source": [
    "The two cells below define two functions as well as stating what they are trying to achieve, but apparently they don't work properly. Modify the code to fix the errors. "
   ]
  },
  {
   "cell_type": "code",
   "execution_count": null,
   "metadata": {
    "colab": {
     "base_uri": "https://localhost:8080/",
     "height": 334
    },
    "colab_type": "code",
    "collapsed": true,
    "executionInfo": {
     "elapsed": 671,
     "status": "error",
     "timestamp": 1534738107930,
     "user": {
      "displayName": "Quang Tran",
      "photoUrl": "https://lh3.googleusercontent.com/a/default-user=s128",
      "userId": "103528044432244998451"
     },
     "user_tz": -420
    },
    "id": "aK4bCgecfU6K",
    "outputId": "80e911f1-fc52-422a-bb09-942f0ca6ab8d"
   },
   "outputs": [],
   "source": [
    "P = False\n",
    "def update_P(): # Trying to change P to its negation\n",
    "    P = not P\n",
    "update_P() # P has been negated, presumably\n",
    "print(P) # supposed to print True"
   ]
  },
  {
   "cell_type": "code",
   "execution_count": 9,
   "metadata": {
    "collapsed": true
   },
   "outputs": [],
   "source": [
    "A = True\n",
    "def create_B(): # trying to create a variable B with value False for later use\n",
    "    B = False\n",
    "create_B() # B is created, presumably\n",
    "bool_val = A and B # evaluating True and False\n",
    "print(bool_val) # supposed to print False"
   ]
  },
  {
   "cell_type": "markdown",
   "metadata": {
    "colab_type": "text",
    "id": "4EnIVsOrVTpM"
   },
   "source": [
    "## STRINGS"
   ]
  },
  {
   "cell_type": "markdown",
   "metadata": {
    "colab_type": "text",
    "id": "Z8BVQDTdVTpM"
   },
   "source": [
    "Warning: Harry Potter references ahead.\n",
    "\n",
    "Conjure up a time when a word search engine hasn't come into existence yet. You may be a wizard, but a spell for word searching has not been discovered or invented in the Wizarding World. Suppose you are The Chosen One to develop the first Google-like engine in a Muggle way (which means without relying on magic spells), which searches for a given word or phrase in a giant text-based data set (like a letter or a potion book). For example, you may want to know if the following letter contains the character `\"z\"`:"
   ]
  },
  {
   "cell_type": "code",
   "execution_count": null,
   "metadata": {
    "colab": {
     "base_uri": "https://localhost:8080/",
     "height": 51
    },
    "colab_type": "code",
    "collapsed": true,
    "executionInfo": {
     "elapsed": 1352,
     "status": "ok",
     "timestamp": 1533158183500,
     "user": {
      "displayName": "Quang Tran",
      "photoUrl": "https://lh3.googleusercontent.com/a/default-user=s128",
      "userId": "103528044432244998451"
     },
     "user_tz": -420
    },
    "id": "VySxXH-2VTpM",
    "outputId": "320ed8eb-b1dc-40f8-ef7f-d07ff912f979"
   },
   "outputs": [],
   "source": [
    "letter = \"\"\"Dear Harry Potter,\n",
    "We are pleased to inform you that you have been accepted at Hogwarts School of Witchcraft and Wizardry\"\"\"\n",
    "print(letter)"
   ]
  },
  {
   "cell_type": "markdown",
   "metadata": {
    "colab_type": "text",
    "id": "hN2Q3NTfVTpQ"
   },
   "source": [
    "Suppose `letter` has n characters. Below is an obvious algorithm to complete the task (Please do spend some time thinking why this algorithm can achieve the task):\n",
    "1. Check if the first character in `letter` is `z`. If YES, conclude \"Letter contains z\"; the task is done. If NO, move on to step 2.\n",
    "\n",
    "2. Check if the second character in `letter` is `z`. If YES, conclude \"Letter contains z\"; the task is done. If NO, move on to step 3. \n",
    "\n",
    "3. Check if the third character in `letter` is `z`. If YES, conclude \"Letter contains z\"; the task is done. If NO, move on to step 4. \n",
    "\n",
    "...\n",
    "\n",
    "n. Check if the n-th character in `letter` is `z`. If YES, conclude \"Letter contains z\". If NO, conclude \"Letter does not contain z'. The task is done."
   ]
  },
  {
   "cell_type": "markdown",
   "metadata": {
    "colab_type": "text",
    "id": "NmiQBEJFVTpQ"
   },
   "source": [
    "You will learn how to implement this algorithm in Python."
   ]
  },
  {
   "cell_type": "markdown",
   "metadata": {
    "colab_type": "text",
    "id": "MrfGlOHyVTpR"
   },
   "source": [
    "### Indexing and Slicing"
   ]
  },
  {
   "cell_type": "markdown",
   "metadata": {
    "colab_type": "text",
    "id": "p3ZoKdxLVTpR"
   },
   "source": [
    "Indexing is a way to access a string's characters by their positions. Indexing gives you a one-character string at a stated position. `letter[0]` gives the first character of `letter`:"
   ]
  },
  {
   "cell_type": "code",
   "execution_count": null,
   "metadata": {
    "colab": {},
    "colab_type": "code",
    "collapsed": true,
    "id": "uFcp3sfuVTpR",
    "outputId": "fc3e4a86-863c-434e-d222-6c49c6add157"
   },
   "outputs": [],
   "source": [
    "print(letter[0])"
   ]
  },
  {
   "cell_type": "markdown",
   "metadata": {
    "colab_type": "text",
    "id": "9LZjC5laVTpT"
   },
   "source": [
    "`letter[1]` gives the second character of `letter`:"
   ]
  },
  {
   "cell_type": "code",
   "execution_count": null,
   "metadata": {
    "colab": {},
    "colab_type": "code",
    "collapsed": true,
    "id": "0Zp73Ic9VTpU",
    "outputId": "72f05885-1213-4bdf-8eb2-87704aac5aae"
   },
   "outputs": [],
   "source": [
    "print(letter[1])"
   ]
  },
  {
   "cell_type": "markdown",
   "metadata": {
    "colab_type": "text",
    "id": "Hhbjo3mWVTpW"
   },
   "source": [
    "`letter[2]` gives the third character of `letter`:"
   ]
  },
  {
   "cell_type": "code",
   "execution_count": null,
   "metadata": {
    "colab": {
     "base_uri": "https://localhost:8080/",
     "height": 34
    },
    "colab_type": "code",
    "collapsed": true,
    "executionInfo": {
     "elapsed": 754,
     "status": "ok",
     "timestamp": 1533158295812,
     "user": {
      "displayName": "Quang Tran",
      "photoUrl": "https://lh3.googleusercontent.com/a/default-user=s128",
      "userId": "103528044432244998451"
     },
     "user_tz": -420
    },
    "id": "slJu1rVXVTpW",
    "outputId": "f2fa9bbf-3ced-4d61-b106-b2c1efe303c1"
   },
   "outputs": [],
   "source": [
    "print(letter[2])"
   ]
  },
  {
   "cell_type": "markdown",
   "metadata": {
    "colab_type": "text",
    "id": "N-ujRzGfVTpY"
   },
   "source": [
    "You get the idea! Python starts counting from 0, not 1. That's why the first character in a string is indexed 0, the second character is indexed 1, and so on. "
   ]
  },
  {
   "cell_type": "markdown",
   "metadata": {
    "colab_type": "text",
    "id": "y09M_p6KVTpY"
   },
   "source": [
    "What would be the index of the last character of a 34-character string?"
   ]
  },
  {
   "cell_type": "markdown",
   "metadata": {
    "colab_type": "text",
    "id": "eBZbwGwDVTpY"
   },
   "source": [
    "**Your answer here**"
   ]
  },
  {
   "cell_type": "markdown",
   "metadata": {
    "colab_type": "text",
    "id": "qe_E5ZyyVTpZ"
   },
   "source": [
    "Slicing fetches a section from a string. We can slice the first two characters in `letter`:"
   ]
  },
  {
   "cell_type": "code",
   "execution_count": null,
   "metadata": {
    "colab": {
     "base_uri": "https://localhost:8080/",
     "height": 34
    },
    "colab_type": "code",
    "collapsed": true,
    "executionInfo": {
     "elapsed": 854,
     "status": "ok",
     "timestamp": 1533158350790,
     "user": {
      "displayName": "Quang Tran",
      "photoUrl": "https://lh3.googleusercontent.com/a/default-user=s128",
      "userId": "103528044432244998451"
     },
     "user_tz": -420
    },
    "id": "BhXO6FPyVTpZ",
    "outputId": "4668835b-71e1-4da4-8175-9d14cb8ccc28"
   },
   "outputs": [],
   "source": [
    "print(letter[0:2]) # will extract letter[0] and letter[1]"
   ]
  },
  {
   "cell_type": "markdown",
   "metadata": {
    "colab_type": "text",
    "id": "DU4uwNR9VTpb"
   },
   "source": [
    "Or the first four:"
   ]
  },
  {
   "cell_type": "code",
   "execution_count": null,
   "metadata": {
    "colab": {
     "base_uri": "https://localhost:8080/",
     "height": 34
    },
    "colab_type": "code",
    "collapsed": true,
    "executionInfo": {
     "elapsed": 786,
     "status": "ok",
     "timestamp": 1533158355252,
     "user": {
      "displayName": "Quang Tran",
      "photoUrl": "https://lh3.googleusercontent.com/a/default-user=s128",
      "userId": "103528044432244998451"
     },
     "user_tz": -420
    },
    "id": "JoEXnUNoVTpc",
    "outputId": "53a47575-3695-4ad5-fc71-7e667d152d68"
   },
   "outputs": [],
   "source": [
    "print(letter[0:4]) # will extract letter[0], letter[1], letter[2], letter[3]"
   ]
  },
  {
   "cell_type": "markdown",
   "metadata": {
    "colab_type": "text",
    "id": "IVQafTVWVTpd"
   },
   "source": [
    "The 0 in the above slices can be omitted:"
   ]
  },
  {
   "cell_type": "code",
   "execution_count": null,
   "metadata": {
    "colab": {
     "base_uri": "https://localhost:8080/",
     "height": 51
    },
    "colab_type": "code",
    "collapsed": true,
    "executionInfo": {
     "elapsed": 952,
     "status": "ok",
     "timestamp": 1533158360343,
     "user": {
      "displayName": "Quang Tran",
      "photoUrl": "https://lh3.googleusercontent.com/a/default-user=s128",
      "userId": "103528044432244998451"
     },
     "user_tz": -420
    },
    "id": "7YBuAW4EVTpe",
    "outputId": "0383e227-7fb9-47fa-bdcb-1058f09f21a8"
   },
   "outputs": [],
   "source": [
    "print(letter[:2])\n",
    "print(letter[:4])"
   ]
  },
  {
   "cell_type": "markdown",
   "metadata": {
    "colab_type": "text",
    "id": "cuh44QpBVTpf"
   },
   "source": [
    "We can also specify starting position we like to slice:"
   ]
  },
  {
   "cell_type": "code",
   "execution_count": null,
   "metadata": {
    "colab": {},
    "colab_type": "code",
    "collapsed": true,
    "id": "r4DE6KCzVTpg",
    "outputId": "777f5b6f-4784-4d3e-a0e3-1cd9ec6d6594"
   },
   "outputs": [],
   "source": [
    "print(letter[4:8]) # will extract email[4], email[5], email[6], and email[7]"
   ]
  },
  {
   "cell_type": "markdown",
   "metadata": {
    "colab_type": "text",
    "id": "wyzZJoAQXfS-"
   },
   "source": [
    "The above code tells Python to slice the string `letter` from index 4 up to but not including index 8, so the slicing stops at index 7."
   ]
  },
  {
   "cell_type": "code",
   "execution_count": null,
   "metadata": {
    "colab": {
     "base_uri": "https://localhost:8080/",
     "height": 34
    },
    "colab_type": "code",
    "collapsed": true,
    "executionInfo": {
     "elapsed": 773,
     "status": "ok",
     "timestamp": 1533158534018,
     "user": {
      "displayName": "Quang Tran",
      "photoUrl": "https://lh3.googleusercontent.com/a/default-user=s128",
      "userId": "103528044432244998451"
     },
     "user_tz": -420
    },
    "id": "fyYEB79fVTph",
    "outputId": "8f5e16f8-af06-48e7-b2bd-1821c801793c"
   },
   "outputs": [],
   "source": [
    "len(letter) # length (number of characters) of email"
   ]
  },
  {
   "cell_type": "markdown",
   "metadata": {
    "colab_type": "text",
    "id": "rG0NQNIpVTpj"
   },
   "source": [
    "Knowing that `letter` has 121 characters, the following code extracts a section at index 4 through the end of `letter`:"
   ]
  },
  {
   "cell_type": "code",
   "execution_count": null,
   "metadata": {
    "colab": {},
    "colab_type": "code",
    "collapsed": true,
    "id": "y4C2XVmYVTpk",
    "outputId": "628c3fe6-2f3f-42fd-c439-ffacc14a4aa8"
   },
   "outputs": [],
   "source": [
    "print(letter[4:121])"
   ]
  },
  {
   "cell_type": "markdown",
   "metadata": {
    "colab_type": "text",
    "id": "HVPrM83hVTpl"
   },
   "source": [
    "We can omit `121` to indicate that we want to fetch items through the end:"
   ]
  },
  {
   "cell_type": "code",
   "execution_count": null,
   "metadata": {
    "colab": {},
    "colab_type": "code",
    "collapsed": true,
    "id": "3pnB0KCpVTpm",
    "outputId": "37ed43db-9ab9-41e8-c33e-83ef34a7cb7d"
   },
   "outputs": [],
   "source": [
    "print(letter[4:])"
   ]
  },
  {
   "cell_type": "markdown",
   "metadata": {
    "colab_type": "text",
    "id": "OmvbARszVTpn"
   },
   "source": [
    "What each of the following line of code would print? Make sure you understand why.\n",
    "* `print(letter[5])`\n",
    "\n",
    "* `print(letter[:6])`\n",
    "\n",
    "* `print(letter[-1])`\n",
    "\n",
    "* `print(letter[:])`\n",
    "\n",
    "* `print(letter[3:3])`"
   ]
  },
  {
   "cell_type": "code",
   "execution_count": null,
   "metadata": {
    "colab": {},
    "colab_type": "code",
    "collapsed": true,
    "id": "7TAUF0adVTpo"
   },
   "outputs": [],
   "source": [
    "# Your code here"
   ]
  },
  {
   "cell_type": "markdown",
   "metadata": {
    "colab_type": "text",
    "id": "L5z2bQ_AVTpp"
   },
   "source": [
    "The function `contains_character` below incorrectly implements the algorithm introduced above. Debug it. \n",
    "\n",
    "Some test cases for the debugging:\n",
    "\n",
    "Function call | Expected return \n",
    "--- | ---\n",
    "`contains_character(letter, 'z')` | 'YES'\n",
    "`contains_character(letter, '<')` | 'NO'\n",
    "`contains_character(letter, 'D')` | 'YES'\n",
    "\n",
    "*Hint:*\n",
    "\n",
    "* It is helpful to actually call the function to examine the error message or compare against test cases.\n",
    "* The following concepts are pertinent:\n",
    "    * `range()`\n",
    "    * data type check \n",
    "    * execution flow"
   ]
  },
  {
   "cell_type": "code",
   "execution_count": null,
   "metadata": {
    "colab": {},
    "colab_type": "code",
    "collapsed": true,
    "id": "HLnNOEOcVTpp"
   },
   "outputs": [],
   "source": [
    "def contains_character(big_string, character):\n",
    "    for i in len(big_string):\n",
    "        if big_string[i] == 'character':\n",
    "            return 'YES'\n",
    "        else:\n",
    "            return 'NO'"
   ]
  },
  {
   "cell_type": "code",
   "execution_count": null,
   "metadata": {
    "colab": {},
    "colab_type": "code",
    "collapsed": true,
    "id": "XKGV0UkMVTpq"
   },
   "outputs": [],
   "source": [
    "# Your code here"
   ]
  },
  {
   "cell_type": "markdown",
   "metadata": {
    "colab_type": "text",
    "id": "H66F3SVFVTpr"
   },
   "source": [
    "How many comparisons (`==` operations) does the algorithm have to make (in the worst-case scenario) if `big_string` has:\n",
    "\n",
    "a. 1 character?\n",
    "\n",
    "b. 2 characters?\n",
    "\n",
    "c. 3 characters?\n",
    "\n",
    "d. 10 characters?\n",
    "\n",
    "e. 10^20 characters?\n",
    "\n",
    "f. n characters?"
   ]
  },
  {
   "cell_type": "markdown",
   "metadata": {
    "colab_type": "text",
    "id": "HlcqMJb3VTps"
   },
   "source": [
    "**Your answer here**"
   ]
  },
  {
   "cell_type": "markdown",
   "metadata": {
    "colab_type": "text",
    "id": "iZTQvT9eVTps"
   },
   "source": [
    "## DEMORGAN'S LAW REVISITED"
   ]
  },
  {
   "cell_type": "markdown",
   "metadata": {
    "colab_type": "text",
    "id": "JSvLwquAVTps"
   },
   "source": [
    "One of the two primary rules of DeMorgan's Law in formal logic is $\\neg$(P $\\vee$ Q) $\\iff$ $\\neg$P $\\wedge$ $\\neg$Q. What is the other rule? Feel free to refer to FA's pre-class readings if you forgot."
   ]
  },
  {
   "cell_type": "markdown",
   "metadata": {
    "colab_type": "text",
    "id": "ngxvyvnPVTpt"
   },
   "source": [
    "**Your answer here** (Please format your answer nicely)"
   ]
  },
  {
   "cell_type": "markdown",
   "metadata": {
    "colab_type": "text",
    "id": "wucYWQgyVTpt"
   },
   "source": [
    "Using the rules, write the equivalents of the following statements:\n",
    "\n",
    "a. $\\neg$($\\neg$A $\\wedge$ B)\n",
    "\n",
    "b. $\\neg$($\\neg$A $\\vee$ $\\neg$B)\n",
    "\n",
    "c. $\\neg$((A $\\vee$ B) $\\vee$ C)\n",
    "\n",
    "d. $\\neg$($\\neg$C $\\wedge$ (A $\\vee$ B))"
   ]
  },
  {
   "cell_type": "markdown",
   "metadata": {
    "colab_type": "text",
    "id": "rIQ4Khm8VTpu"
   },
   "source": [
    "**Your answer here**"
   ]
  },
  {
   "cell_type": "markdown",
   "metadata": {
    "colab_type": "text",
    "id": "6mOxdRc0VTpu"
   },
   "source": [
    "### The use of DeMorgan's Law in negating conditionals"
   ]
  },
  {
   "cell_type": "markdown",
   "metadata": {
    "colab_type": "text",
    "id": "VV3UlYYaVTpu"
   },
   "source": [
    "A student sued a college for spreading false information. Specifically, he claimed that the college's advertisment line \"A school for future leaders\" was an outright lie. He arrived at this conclusion after a thorough process of analyzing the school's claim and from some pieces of evidence he gathered. First, he rephrased the school's argument  \"**in simple terms with clear use of logical connectives and atomic sentences**\" (like you'll need to do in part B2.1 of the FA logical thinking assignment): \"If one attends the school, one will become a leader.\" \n"
   ]
  },
  {
   "cell_type": "markdown",
   "metadata": {
    "colab_type": "text",
    "id": "98ESfERUVTpu"
   },
   "source": [
    "What are the atomic sentences in the paraphrased argument?"
   ]
  },
  {
   "cell_type": "markdown",
   "metadata": {
    "colab_type": "text",
    "id": "5DToVGDHVTpv"
   },
   "source": [
    "**Your answer here**"
   ]
  },
  {
   "cell_type": "markdown",
   "metadata": {
    "colab_type": "text",
    "id": "j6hHbtg5VTpv"
   },
   "source": [
    "Translate the argument into symbolic logic."
   ]
  },
  {
   "cell_type": "markdown",
   "metadata": {
    "colab_type": "text",
    "id": "KsFju6EUVTpv"
   },
   "source": [
    "**Your answer here**"
   ]
  },
  {
   "cell_type": "markdown",
   "metadata": {
    "colab_type": "text",
    "id": "xyg-_G45VTpw"
   },
   "source": [
    "The student wished to show that the school's claim is false. One way he could do that is to first determine the negation of that claim, and then prove that the negation is true. "
   ]
  },
  {
   "cell_type": "markdown",
   "metadata": {
    "colab_type": "text",
    "id": "tXiV0IvAVTpw"
   },
   "source": [
    "Translate the school's argument into symbolic logic, this time using a *logically equivalent* form involving only *or* and *negation* connectives. *Hint*: The following code from an in-class activity last week may help you with this question:"
   ]
  },
  {
   "cell_type": "code",
   "execution_count": null,
   "metadata": {
    "colab": {},
    "colab_type": "code",
    "collapsed": true,
    "id": "DUosWAlsVTpw"
   },
   "outputs": [],
   "source": [
    "def implication(P, Q):\n",
    "    return not P or Q"
   ]
  },
  {
   "cell_type": "markdown",
   "metadata": {
    "colab_type": "text",
    "id": "N5gLthdzVTpx"
   },
   "source": [
    "**Your answer here**"
   ]
  },
  {
   "cell_type": "markdown",
   "metadata": {
    "colab_type": "text",
    "id": "s7KQPD9lVTpx"
   },
   "source": [
    "Use DeMorgan's law, negate that statement."
   ]
  },
  {
   "cell_type": "markdown",
   "metadata": {
    "colab_type": "text",
    "id": "wvbuUpRcVTpy"
   },
   "source": [
    "**Your answer here**"
   ]
  },
  {
   "cell_type": "markdown",
   "metadata": {
    "colab_type": "text",
    "id": "WcjkH_P3VTpy"
   },
   "source": [
    "Based on your work so far, which evidence should the student present to prove that the school's claim is false? Choose A, B, or C and explain your choice.\n",
    "\n",
    "**A.** That a leader of a national project attended the school and has still been a leader since his graduation.\n",
    "\n",
    "**B.** That a non-leader did not attend the school and later became a leader.\n",
    "\n",
    "**C.** That a non-leader attended the school, and there is enough evidence to show that she will never be a leader."
   ]
  },
  {
   "cell_type": "markdown",
   "metadata": {
    "colab_type": "text",
    "id": "pHz_yKteVTpy"
   },
   "source": [
    "**Your answer here**"
   ]
  },
  {
   "cell_type": "markdown",
   "metadata": {
    "colab_type": "text",
    "id": "rW-mNRwhVTpz"
   },
   "source": [
    "\\[**Optional question**\\] What proof method did the student use to prove that the school's claim was false? Justify your answer. \n",
    "\n",
    "*Hint*: To fully answer this question, construct a real formal proof with symbolic logic and logical rules we've learned (e.g., modus ponens, modus tollens, rules of disjunctions or conjunctions, reductio ad absurdum, etc.)"
   ]
  },
  {
   "cell_type": "markdown",
   "metadata": {
    "colab_type": "text",
    "id": "ilSVJMUPVTpz"
   },
   "source": [
    "**Your answer here**"
   ]
  },
  {
   "cell_type": "markdown",
   "metadata": {
    "colab_type": "text",
    "id": "uv2r9KjfVTpz"
   },
   "source": [
    "# B. Exercise"
   ]
  },
  {
   "cell_type": "markdown",
   "metadata": {
    "colab_type": "text",
    "id": "OSMi9Kog1o9k"
   },
   "source": [
    "Note: Refrain from using lists in exercises 2 and 3 as the goal is to familiarize yourself with string operations. We will cover the topic of lists next week!"
   ]
  },
  {
   "cell_type": "markdown",
   "metadata": {
    "colab_type": "text",
    "id": "S5MP1Y4RVTp0"
   },
   "source": [
    "## Exercise 1. Exclusive Or (XOR)"
   ]
  },
  {
   "cell_type": "markdown",
   "metadata": {
    "colab_type": "text",
    "id": "RKna7y9UVTp0"
   },
   "source": [
    "From Wikipedia: \"Exclusive or or exclusive disjunction is a logical operation that outputs true only when inputs differ (one is true, the other is false)\"\n",
    "\n",
    "*You may find this concept useful for the logic puzzle portion of the FA logical thinking assignment!*\n",
    "\n",
    "Which of the following functions (A, B, C, or D) perform this operation (P and Q are boolean values)? Explain your answer"
   ]
  },
  {
   "cell_type": "code",
   "execution_count": null,
   "metadata": {
    "colab": {},
    "colab_type": "code",
    "collapsed": true,
    "id": "Ko3bwumWVTp0"
   },
   "outputs": [],
   "source": [
    "def A(P, Q):\n",
    "    return not (P or Q)"
   ]
  },
  {
   "cell_type": "code",
   "execution_count": null,
   "metadata": {
    "colab": {},
    "colab_type": "code",
    "collapsed": true,
    "id": "OGLPhuo6VTp1"
   },
   "outputs": [],
   "source": [
    "def B(P, Q):\n",
    "    return (P or Q) and (not (P and Q))"
   ]
  },
  {
   "cell_type": "code",
   "execution_count": null,
   "metadata": {
    "colab": {},
    "colab_type": "code",
    "collapsed": true,
    "id": "cHX5jsMeVTp2"
   },
   "outputs": [],
   "source": [
    "def C(P, Q):\n",
    "    return (P or Q) and ((not P) or (not Q))"
   ]
  },
  {
   "cell_type": "code",
   "execution_count": null,
   "metadata": {
    "colab": {},
    "colab_type": "code",
    "collapsed": true,
    "id": "RLfDu66fVTp3"
   },
   "outputs": [],
   "source": [
    "def D(P, Q):\n",
    "    return True or False"
   ]
  },
  {
   "cell_type": "code",
   "execution_count": null,
   "metadata": {
    "colab": {},
    "colab_type": "code",
    "collapsed": true,
    "id": "V_4Hf5ujypW3"
   },
   "outputs": [],
   "source": [
    "# Optional\n",
    "def E(P, Q):\n",
    "    return (P + Q)==1"
   ]
  },
  {
   "cell_type": "markdown",
   "metadata": {
    "colab_type": "text",
    "id": "xldE5MOVVTp4"
   },
   "source": [
    "**Your answer here**"
   ]
  },
  {
   "cell_type": "markdown",
   "metadata": {
    "colab_type": "text",
    "id": "fVk8TR-oVTp5"
   },
   "source": [
    "## Exercise 2. Search Engine Upgrade"
   ]
  },
  {
   "cell_type": "markdown",
   "metadata": {
    "colab_type": "text",
    "id": "0-q9U99QVTp5"
   },
   "source": [
    "In the lab you developed a search engine that searches for a single character in a string. Kicking it up a notch, write a function that searches a word `word` of arbitrary length in another string-- the `big_string`. The function should return a message indicating whether the word could be found in `big_string` or not. Assume that `len(big_string)` > `len(word)`"
   ]
  },
  {
   "cell_type": "code",
   "execution_count": null,
   "metadata": {
    "colab": {},
    "colab_type": "code",
    "collapsed": true,
    "id": "nzl4arC3VTp6"
   },
   "outputs": [],
   "source": [
    "# Your code here"
   ]
  },
  {
   "cell_type": "markdown",
   "metadata": {
    "colab_type": "text",
    "id": "nEqAGZUB0EGH"
   },
   "source": [
    "## Exercise 3. Wordcount"
   ]
  },
  {
   "cell_type": "markdown",
   "metadata": {
    "colab_type": "text",
    "id": "pVfA1Pev0qIh"
   },
   "source": [
    "Write a function that counts the number of words in a given string. For example, the function outputs `3` given the text \"I love Python\". You can make some assumptions about the input in your solution (e.g., the text does not end with a white space)"
   ]
  },
  {
   "cell_type": "code",
   "execution_count": null,
   "metadata": {
    "colab": {},
    "colab_type": "code",
    "collapsed": true,
    "id": "779Mxyq61RRk"
   },
   "outputs": [],
   "source": [
    "# Your code here"
   ]
  },
  {
   "cell_type": "markdown",
   "metadata": {},
   "source": [
    "## [Optional] Exercise 4. Deleting characters\n",
    "\n",
    "Write a function that removes all occurrences of a given letter from a string."
   ]
  },
  {
   "cell_type": "code",
   "execution_count": null,
   "metadata": {
    "collapsed": true
   },
   "outputs": [],
   "source": [
    "# Your code here"
   ]
  },
  {
   "cell_type": "markdown",
   "metadata": {
    "colab_type": "text",
    "id": "WAZ9ZbB7oiog"
   },
   "source": [
    "## [Optional] Exercise 5. Strange Booleans\n",
    "\n",
    "In the lab you saw that the following code would not work:"
   ]
  },
  {
   "cell_type": "code",
   "execution_count": null,
   "metadata": {
    "colab": {
     "base_uri": "https://localhost:8080/",
     "height": 215
    },
    "colab_type": "code",
    "collapsed": true,
    "executionInfo": {
     "elapsed": 663,
     "status": "error",
     "timestamp": 1534740102582,
     "user": {
      "displayName": "Quang Tran",
      "photoUrl": "https://lh3.googleusercontent.com/a/default-user=s128",
      "userId": "103528044432244998451"
     },
     "user_tz": -420
    },
    "id": "gGS48tmSosHa",
    "outputId": "c53346c8-cdb0-4cc2-9d69-33a7d12b80ee"
   },
   "outputs": [],
   "source": [
    "R = True\n",
    "def create_S(): # trying to create a variable S with value False for later use\n",
    "    S = False\n",
    "create_S() # B is created, presumably\n",
    "bool_val = R and S # evaluating True and False\n",
    "print(bool_val) # supposed to print False"
   ]
  },
  {
   "cell_type": "markdown",
   "metadata": {
    "colab_type": "text",
    "id": "9U5UfW_1o-Hg"
   },
   "source": [
    "Strangely, when changing the operator `and` to `or`, the code works perfectly fine."
   ]
  },
  {
   "cell_type": "code",
   "execution_count": null,
   "metadata": {
    "colab": {
     "base_uri": "https://localhost:8080/",
     "height": 34
    },
    "colab_type": "code",
    "collapsed": true,
    "executionInfo": {
     "elapsed": 726,
     "status": "ok",
     "timestamp": 1534740195142,
     "user": {
      "displayName": "Quang Tran",
      "photoUrl": "https://lh3.googleusercontent.com/a/default-user=s128",
      "userId": "103528044432244998451"
     },
     "user_tz": -420
    },
    "id": "vpaJQVripF-N",
    "outputId": "abef9b79-1e00-4f94-b62c-9d2db18c1d07"
   },
   "outputs": [],
   "source": [
    "R = True\n",
    "def create_S(): \n",
    "    S = False\n",
    "create_S() \n",
    "bool_val = R or S # and changed to or\n",
    "print(bool_val) # supposed to print True"
   ]
  },
  {
   "cell_type": "markdown",
   "metadata": {
    "colab_type": "text",
    "id": "7m0JcW5TqKd8"
   },
   "source": [
    "The code would also work if you changed the value of `R` to `False`:"
   ]
  },
  {
   "cell_type": "code",
   "execution_count": null,
   "metadata": {
    "colab": {
     "base_uri": "https://localhost:8080/",
     "height": 34
    },
    "colab_type": "code",
    "collapsed": true,
    "executionInfo": {
     "elapsed": 714,
     "status": "ok",
     "timestamp": 1534740508202,
     "user": {
      "displayName": "Quang Tran",
      "photoUrl": "https://lh3.googleusercontent.com/a/default-user=s128",
      "userId": "103528044432244998451"
     },
     "user_tz": -420
    },
    "id": "FfhSIpFtqSEo",
    "outputId": "3ab0db28-80c7-44d9-8734-924886ba54e5"
   },
   "outputs": [],
   "source": [
    "R = False # R is changed to False\n",
    "def create_S(): \n",
    "    S = False\n",
    "create_S() \n",
    "bool_val = R and S \n",
    "print(bool_val) # supposed to print False "
   ]
  },
  {
   "cell_type": "markdown",
   "metadata": {
    "colab_type": "text",
    "id": "Zu_5YH24VsNz"
   },
   "source": [
    "\n",
    "\n",
    "This exercise is to help elucidate the above cases and demonstrate how Python exploits properties of logical operations to give **efficient** implementations (**#algorithms!**).  Below are two algorithms for evaluating operations `A and B` and `A or B`\n",
    "\n",
    "**`A and B` evaluation**\n",
    "1. Examine A. If A is true, jump to step 2. Otherwise jump to step 4.\n",
    "2. Examine B. If B is true, jump to step 3. Otherwise jump to step 4.\n",
    "3. Return True, exit.\n",
    "4. Return False, exit.\n",
    "\n",
    "\n",
    "**`A or B` evaluation**\n",
    "1. Examine A. If A is true, jump to step 3. Otherwise jump to step 2.\n",
    "2. Examine B. If B is true, jump to step 3. Otherwise jump to step 4.\n",
    "3. Return True, exit.\n",
    "4. Return False, exit.\n",
    "\n",
    "Example: When evaluating `False and True`, because the value to the left hand side of `and` is False, Python immediately returns False without the need to look at the other value on the right hand side. Similarly, when evaluating `True or False`, because the value to the left hand side of `or` is True, Python immediately returns True without the need to look at the other value on the right hand side. These ways of evaluating `and` and `or`  are obviously more efficient than the naive way of always looking into the values on both sides of the operator and returning a boolean value based on a truth table. \n",
    "\n",
    "First, take a moment to make sure you understand why the algorithms are correct. Then explain the \"strange cases\" introduced at the beginning of this exercise.\n",
    "\n",
    "\n"
   ]
  },
  {
   "cell_type": "markdown",
   "metadata": {
    "colab_type": "text",
    "id": "z7f02wWTp2J_"
   },
   "source": [
    "**Your answer here:**"
   ]
  },
  {
   "cell_type": "markdown",
   "metadata": {
    "colab_type": "text",
    "id": "XBPpJpD4qtHQ"
   },
   "source": [
    "Using those algorithms for inspiration, explain why both `print('hello' or 0)` and `print(0 or 'hello')` would print `hello` "
   ]
  },
  {
   "cell_type": "markdown",
   "metadata": {
    "colab_type": "text",
    "id": "5hoUur9vrkAI"
   },
   "source": [
    "**Your answer here:**"
   ]
  }
 ],
 "metadata": {
  "colab": {
   "collapsed_sections": [],
   "name": "SSS3.ipynb",
   "provenance": [],
   "version": "0.3.2"
  },
  "kernelspec": {
   "display_name": "Python 3",
   "language": "python",
   "name": "python3"
  },
  "language_info": {
   "codemirror_mode": {
    "name": "ipython",
    "version": 3
   },
   "file_extension": ".py",
   "mimetype": "text/x-python",
   "name": "python",
   "nbconvert_exporter": "python",
   "pygments_lexer": "ipython3",
   "version": "3.6.5"
  }
 },
 "nbformat": 4,
 "nbformat_minor": 1
}
