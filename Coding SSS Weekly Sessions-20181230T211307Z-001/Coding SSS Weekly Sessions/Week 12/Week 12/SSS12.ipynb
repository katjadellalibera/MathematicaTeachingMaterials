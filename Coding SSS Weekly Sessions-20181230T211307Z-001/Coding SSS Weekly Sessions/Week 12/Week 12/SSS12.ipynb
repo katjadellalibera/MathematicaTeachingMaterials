{
 "cells": [
  {
   "cell_type": "markdown",
   "metadata": {
    "colab_type": "text",
    "id": "ICEZeXEdQvX2"
   },
   "source": [
    "# SSS 12. Back to basics\n",
    "### Python tips, conventions, NumPy, Functions"
   ]
  },
  {
   "cell_type": "markdown",
   "metadata": {
    "colab_type": "text",
    "id": "inihdkLPQvX9"
   },
   "source": [
    "# Table of Contents\n",
    "* [A. Python Lab:](#A.-Python-Lab)\n",
    "    * [The Airline Problem Revisited](#The-Airline-Problem-Revisited)\n",
    "    * [Sampling From a Population Revisited](#Sampling-From-a-Population-Revisited)\n",
    "* [B. Exercises](#B.-Exercise)"
   ]
  },
  {
   "cell_type": "markdown",
   "metadata": {
    "colab_type": "text",
    "id": "4ewK6dKyQvX-"
   },
   "source": [
    "# A. Python Lab\n",
    "\n",
    "\n",
    "## A.1 Python Tips\n",
    "\n",
    "\n",
    "Besides having code that works correctly, it is important to keep your code readable by following some established guideline on conventions. Check out [PEP 8](https://www.python.org/dev/peps/pep-0008/), a guide on conventions in Python code. You are encouraged to look at the document in your own time. In this session, we want to highlight two areas in style guide:\n",
    "\n",
    "**A.1.1 White space in a function call**\n",
    "\n",
    "We noticed that some students put a white space immediately before the open parenthesis that starts the argument list of a function call. For example, a print statement is put as\n",
    "\n",
    "`print (3)`,\n",
    "\n",
    "instead of `print(3)`.\n",
    "\n",
    "While works fine practically speaking, it is a pet peeve according to PEP 8.\n",
    "\n",
    "The same convention applies for slicing and indexing: we should not put any whitespace immediately before the open bracket that starts an indexing or slicing. For example:\n",
    "\n",
    "Yes: `list_a[2] = list_a[3]`\n",
    "\n",
    "No: `list_a [2] = list_a [3]`\n",
    "\n",
    "\n",
    "**A.1.2 Variable naming conventions**\n",
    "\n",
    "For function and variable names, PEP 8 recommends:\n",
    "* Never use the characters 'l' (lowercase letter el), 'O' (uppercase letter oh), or 'I' (uppercase letter eye) as single character variable names, as in some fonts they are indistinguishable from 0 (zero) and 1 (one).\n",
    "* Function names and variable names should be lowercase, with words separated by underscores as necessary to improve readability. \n",
    "\n",
    "Although not mentioned in the style guide, it is good practice to name your variables in an informing and meaningful way. For example, the following is a possible excerpt from code for the racket-ball simulation preclass-work:"
   ]
  },
  {
   "cell_type": "code",
   "execution_count": null,
   "metadata": {
    "collapsed": true
   },
   "outputs": [],
   "source": [
    "while (a < 21 or b < 21):  \n",
    "            c = random.random()\n",
    "            if serve: \n",
    "                if (c <= 0.6):\n",
    "                    a += 1 \n",
    "                else:\n",
    "                    serve = False \n",
    "            else: \n",
    "                if (c <= 0.5): \n",
    "                    serve = True \n",
    "                else: \n",
    "                    b += 1 \n",
    "        if a == 21:\n",
    "            f += 1 "
   ]
  },
  {
   "cell_type": "markdown",
   "metadata": {},
   "source": [
    "It is hard to follow what is going on in the code as the variables' names are simple yet cryptic. A better way to name them is explicitly referring to them by their meaning:"
   ]
  },
  {
   "cell_type": "code",
   "execution_count": null,
   "metadata": {
    "collapsed": true
   },
   "outputs": [],
   "source": [
    "while (me < 21 or opponent < 21):  \n",
    "            random_number = random.random()\n",
    "            if is_serving: \n",
    "                if (random_number <= 0.6):\n",
    "                    me += 1 \n",
    "                else:\n",
    "                    is_serving = False \n",
    "            else: \n",
    "                if (random_number <= 0.5): \n",
    "                    is_serving = True \n",
    "                else: \n",
    "                    opponent += 1\n",
    "        if me == 21: \n",
    "            wins += 1 "
   ]
  },
  {
   "cell_type": "markdown",
   "metadata": {},
   "source": [
    "The code above is clearer and it takes the readers less time to familiarize themselves with the meaning of each variable as the names are intuitive. \n",
    "\n",
    "**A.1.3 Comment**\n",
    "\n",
    "One way to put a comment in Python code is to start it with `#`. Inline comments are those on the same line as a statement, like this:"
   ]
  },
  {
   "cell_type": "code",
   "execution_count": null,
   "metadata": {
    "collapsed": true
   },
   "outputs": [],
   "source": [
    "a = 4 # this is an inline comment"
   ]
  },
  {
   "cell_type": "markdown",
   "metadata": {},
   "source": [
    "PEP 8 recommends using inline comments sparingly as they are distracting if stating the obvious. For example,\n",
    "\n",
    "No: `x = x + 1   # Increment x by 1`\n",
    "\n",
    "But sometimes, it is useful:\n",
    "\n",
    "Yes: `x = x + 1   # Update player 1's score`\n",
    "\n",
    "The code below is a function to compute the range of a list of numbers, using two predefined functions, `find_max` and `find_min`, that return the maximum and minimum values of a list. Improve the code style according to the conventions."
   ]
  },
  {
   "cell_type": "code",
   "execution_count": null,
   "metadata": {
    "collapsed": true
   },
   "outputs": [],
   "source": [
    "def A(l):\n",
    "    a = findMax (l) # use findMax\n",
    "    b = findMin (l) # use findMin\n",
    "    return a - b # subtract b from a"
   ]
  },
  {
   "cell_type": "markdown",
   "metadata": {},
   "source": [
    "## A.2 The NumPy Library (continued)\n",
    "\n",
    "We know that NumPy is a library particularly useful for dealing with numbers and THE standard fundamental library for scientific computing. In this section we continue to explore more about the power of this library.\n",
    "\n",
    "Recall that to use the library, we first import it:"
   ]
  },
  {
   "cell_type": "code",
   "execution_count": null,
   "metadata": {
    "collapsed": true
   },
   "outputs": [],
   "source": [
    "# Run this cell\n",
    "import numpy as np"
   ]
  },
  {
   "cell_type": "markdown",
   "metadata": {},
   "source": [
    "### A.2.1 Broadcasting \n",
    "\n",
    "Suppose we have two lists, `heights` and `weights`, that record the heights and weights of 6 students:"
   ]
  },
  {
   "cell_type": "code",
   "execution_count": null,
   "metadata": {
    "collapsed": true
   },
   "outputs": [],
   "source": [
    "weights = [50, 85, 63, 90, 71, 46] # in kilograms\n",
    "heights = [1.6, 1.8, 1.75, 1.7, 1.71, 1.76] # in meters "
   ]
  },
  {
   "cell_type": "markdown",
   "metadata": {},
   "source": [
    "Currently, the two lists are in SI units ($kg$ and $m$). We can do the conversions from kilogram to pounds and from meters to feet using the formula \n",
    "\n",
    "*mass in pounds = 2.2 * mass in kilograms*, and\n",
    "\n",
    "*length in feet = 3.28 * length in meters*\n",
    "\n",
    "In the cell below, create two new lists, `weights_in_pounds` and `heights_in_feet`, that give the heights and weights of the students in pounds and feet, respectively, using a `for` loop."
   ]
  },
  {
   "cell_type": "code",
   "execution_count": null,
   "metadata": {
    "collapsed": true
   },
   "outputs": [],
   "source": [
    "# Your code here"
   ]
  },
  {
   "cell_type": "markdown",
   "metadata": {},
   "source": [
    "Numpy arrays provide a very neat way of doing the same conversions. Let us first create a numpy array named `np_weights` that is a numpy array version of the regular list `weights`:"
   ]
  },
  {
   "cell_type": "code",
   "execution_count": null,
   "metadata": {
    "collapsed": true
   },
   "outputs": [],
   "source": [
    "np_weights = np.array(weights)\n",
    "print(np_weights)\n",
    "print(type(np_weights)) "
   ]
  },
  {
   "cell_type": "markdown",
   "metadata": {},
   "source": [
    "In the above code, notice that to create a numpy array, we pass a Python list to the function `np.array`. \n",
    "\n",
    "Now that we have a numpy array of weights, we can easily convert from kilograms to pounds by one operation:"
   ]
  },
  {
   "cell_type": "code",
   "execution_count": null,
   "metadata": {
    "collapsed": true
   },
   "outputs": [],
   "source": [
    "np_weights_in_pounds = np_weights * 2.2\n",
    "print(np_weights_in_pounds)"
   ]
  },
  {
   "cell_type": "markdown",
   "metadata": {},
   "source": [
    "This method of multiplying a numpy array with a single number is called **broadcasting**. More generally, broadcasting is how NumPy performs arithmetic operations (`+`, `-`, `*`, `/`, etc.) between arrays with different shapes. In the above cell, we perform a multiplication operation between a numpy array and a float. Note that we cannot do this with Python list. Run the following cell and be sure to read the error message."
   ]
  },
  {
   "cell_type": "code",
   "execution_count": null,
   "metadata": {
    "collapsed": true
   },
   "outputs": [],
   "source": [
    "weights_in_pounds = weights * 2.2"
   ]
  },
  {
   "cell_type": "markdown",
   "metadata": {},
   "source": [
    "Now it's your turn. In the cell below, create `np_heights` that is a numpy array version of `heights`, then create `np_heights_in_feet` by means of broadcasting."
   ]
  },
  {
   "cell_type": "code",
   "execution_count": null,
   "metadata": {
    "collapsed": true
   },
   "outputs": [],
   "source": [
    "# Your code here"
   ]
  },
  {
   "cell_type": "markdown",
   "metadata": {},
   "source": [
    "Run the code below and **comment** in the code to explain what it is doing."
   ]
  },
  {
   "cell_type": "code",
   "execution_count": null,
   "metadata": {
    "collapsed": true,
    "scrolled": true
   },
   "outputs": [],
   "source": [
    "np_tall = np_heights > 1.9\n",
    "print(np_tall)"
   ]
  },
  {
   "cell_type": "markdown",
   "metadata": {},
   "source": [
    "We can also perform element wise operations between two arrays of the same length:"
   ]
  },
  {
   "cell_type": "code",
   "execution_count": null,
   "metadata": {
    "collapsed": true
   },
   "outputs": [],
   "source": [
    "height_weight_ratios = np_heights/np_weights\n",
    "print(height_weight_ratios)"
   ]
  },
  {
   "cell_type": "markdown",
   "metadata": {},
   "source": [
    "Again, we cannot do this with lists:"
   ]
  },
  {
   "cell_type": "code",
   "execution_count": null,
   "metadata": {
    "collapsed": true
   },
   "outputs": [],
   "source": [
    "# Run this cell\n",
    "print(heights/weights)"
   ]
  },
  {
   "cell_type": "markdown",
   "metadata": {},
   "source": [
    "### A.2.2 Some Useful Methods\n",
    "\n",
    "**A.2.2.1. Methods that reduce numpy array**\n",
    "\n",
    "These methods reduce a numpy array to a single number. Examples are `np.sum` (computes the sum of an array), `np.mean` (computes the mean), `np.max` and `np.min` (returns the maximum and minimum):"
   ]
  },
  {
   "cell_type": "code",
   "execution_count": null,
   "metadata": {
    "collapsed": true
   },
   "outputs": [],
   "source": [
    "# Run this cell\n",
    "avg_height = np.mean(np_heights)\n",
    "total_weight = np.sum(np_weights)\n",
    "print('Average height:', avg_height)\n",
    "print('Total weight:', total_weight)"
   ]
  },
  {
   "cell_type": "markdown",
   "metadata": {},
   "source": [
    "Your task: Look up online to see which method returns the *position* of a maximum value of a numpy array. For example, the numpy array `np.array([2,1,10,6])` has the maximum value of 10 and that value is at index 2 (*why is it not 3?*), so passing this array to the method should return 2. Then, code below to return which student (indexed 0 to 5) is the tallest."
   ]
  },
  {
   "cell_type": "code",
   "execution_count": null,
   "metadata": {
    "collapsed": true
   },
   "outputs": [],
   "source": [
    "# Your code here"
   ]
  },
  {
   "cell_type": "markdown",
   "metadata": {},
   "source": [
    "**A.2.2.2. Methods that create numpy arrays**\n",
    "\n",
    "These methods are used to generate or initialize a numpy array. Examples are `np.zeros` and `np.ones`, which create numpy arrays filled with 0's or 1's, respectively."
   ]
  },
  {
   "cell_type": "code",
   "execution_count": null,
   "metadata": {
    "collapsed": true
   },
   "outputs": [],
   "source": [
    "# Run this cell\n",
    "print(np.zeros(5))\n",
    "print(np.zeros(10))\n",
    "print(np.ones(5))\n",
    "print(np.ones(10))"
   ]
  },
  {
   "cell_type": "markdown",
   "metadata": {},
   "source": [
    "Let us create an array, `categorical_heights`, that encodes those whose heights are less than 1.75m with 1 and those whose heights are greater than or equal to 1.75m with 2. One such way to do that is first we initialize the array with all 1's, and then look up for the ones taller than 1.7m and change the value at those indices to 2. Examine carefully the following three cells:"
   ]
  },
  {
   "cell_type": "code",
   "execution_count": null,
   "metadata": {
    "collapsed": true
   },
   "outputs": [],
   "source": [
    "categorical_heights = np.ones(6)\n",
    "print(categorical_heights)"
   ]
  },
  {
   "cell_type": "code",
   "execution_count": null,
   "metadata": {
    "collapsed": true
   },
   "outputs": [],
   "source": [
    "mask = np_heights >= 1.75\n",
    "print(mask)"
   ]
  },
  {
   "cell_type": "code",
   "execution_count": null,
   "metadata": {
    "collapsed": true
   },
   "outputs": [],
   "source": [
    "categorical_heights[mask] = 2\n",
    "print(categorical_heights)"
   ]
  },
  {
   "cell_type": "markdown",
   "metadata": {},
   "source": [
    "Your task now is to create the array `categorical_weights` that encodes those whose weights are below the average weight with 0's and those whose weights are above average with 1's, using the method introduced above."
   ]
  },
  {
   "cell_type": "code",
   "execution_count": null,
   "metadata": {
    "collapsed": true
   },
   "outputs": [],
   "source": [
    "# Your code here"
   ]
  },
  {
   "cell_type": "markdown",
   "metadata": {},
   "source": [
    "Another useful creation method is `np.linspace`, which returns an array of evenly spaced numbers. For example, suppose we want to create an array of 7 numbers that range from 1 to 19 and are evenly spaced out, we can do so with the function call `np.linspace(1, 19, 7)`: "
   ]
  },
  {
   "cell_type": "code",
   "execution_count": null,
   "metadata": {
    "collapsed": true
   },
   "outputs": [],
   "source": [
    "np.linspace(1, 19, 7)"
   ]
  },
  {
   "cell_type": "markdown",
   "metadata": {},
   "source": [
    "Create an array of 1000 evenly spaced numbers ranging from -5 to 5 in the cell below."
   ]
  },
  {
   "cell_type": "code",
   "execution_count": null,
   "metadata": {
    "collapsed": true
   },
   "outputs": [],
   "source": [
    "# Your code here"
   ]
  },
  {
   "cell_type": "markdown",
   "metadata": {},
   "source": [
    "Notice that the first argument is the starting value, the second argument is the ending value, and the last one is the number of values we want to be in the resulted array.\n",
    "\n",
    "One application of `np.linspace` is to create a domain to plot a function. Suppose we want to plot the function $y=x^2$, the graph of which should look like that in the image below:\n",
    "![Graph of y=x^2](images/plot.png)\n",
    "The code below generates the plot."
   ]
  },
  {
   "cell_type": "code",
   "execution_count": null,
   "metadata": {
    "collapsed": true
   },
   "outputs": [],
   "source": [
    "import matplotlib.pyplot as plt\n",
    "domain = np.linspace(-5,5,100) # create 100 values of x. \n",
    "function_values = domain**2 # broadcast to compute x^2\n",
    "plt.plot(domain, function_values) \n",
    "plt.xlabel('$x$')\n",
    "plt.ylabel('$y$')"
   ]
  },
  {
   "cell_type": "markdown",
   "metadata": {},
   "source": [
    "Why you think did we need a large number of $x$ values (100 in the code above)? Experiment by replacing 100 with 5, 10, and 50 in the code above."
   ]
  },
  {
   "cell_type": "markdown",
   "metadata": {},
   "source": [
    "## A.3 Functions Revisited\n",
    "\n",
    "### A.3.1 Defining functions\n",
    "\n",
    "Recall that the syntax to define a function is\n",
    "\n",
    "```\n",
    "def function_name(argument1, argument2, argument3):\n",
    "    statements\n",
    "```\n",
    "**Reminders**:\n",
    "* A function can take in as many arguments as you want it to. In the syntax above, you could have had more than 3 arguments.\n",
    "* A function is useless until you call it. That said, Python does nothing but storing the function after you define it. To use the function, you must call it by replacing the arguments (`argument1`, `argument2`, `argument3` in the syntax) with values. For example:"
   ]
  },
  {
   "cell_type": "code",
   "execution_count": null,
   "metadata": {
    "collapsed": true
   },
   "outputs": [],
   "source": [
    "# define greet\n",
    "def greet(name):\n",
    "    greeting_msg = 'Hi ' + name\n",
    "    print(greeting_msg)\n",
    "\n",
    "# call function greet by directly replacing `name` with string 'Mia'\n",
    "greet('Mia')\n",
    "\n",
    "# alternatively, we can assigning the string to a variable and then \n",
    "# replacing `name` in the function definition with the variable `name`\n",
    "name = 'Mia'\n",
    "greet(name)"
   ]
  },
  {
   "cell_type": "markdown",
   "metadata": {},
   "source": [
    "In the second way of calling `greet` in the cell above, we assign `'Mia'` to the variable `name`. However, you could have used any other name for the variable (a common beginner misconception is that when calling a function with variables, the variables must have the same name as those used when defining the function):"
   ]
  },
  {
   "cell_type": "code",
   "execution_count": null,
   "metadata": {
    "collapsed": true
   },
   "outputs": [],
   "source": [
    "another_name = 'Sebastian'\n",
    "greet(another_name)"
   ]
  },
  {
   "cell_type": "markdown",
   "metadata": {},
   "source": [
    "Define a function of your own choice and call the function three times: the first time using (direct) literal values, the second time assigning values to variables whose names are the same as those used in the function's definition, and to different names in the third time."
   ]
  },
  {
   "cell_type": "code",
   "execution_count": null,
   "metadata": {
    "collapsed": true
   },
   "outputs": [],
   "source": [
    "# Your code here"
   ]
  },
  {
   "cell_type": "markdown",
   "metadata": {},
   "source": [
    "### A.3.2 Reusing functions\n",
    "\n",
    "Instead of printing the string, in the function `greet` we could return it:"
   ]
  },
  {
   "cell_type": "code",
   "execution_count": null,
   "metadata": {
    "collapsed": true
   },
   "outputs": [],
   "source": [
    "def greet(name):\n",
    "    greeting_msg = 'Hi ' + name\n",
    "    return greeting_msg"
   ]
  },
  {
   "cell_type": "markdown",
   "metadata": {},
   "source": [
    "We can do many things with this returned string. We can print it, as the original `greet` function does."
   ]
  },
  {
   "cell_type": "code",
   "execution_count": null,
   "metadata": {
    "collapsed": true
   },
   "outputs": [],
   "source": [
    "print(greet('Mia'))"
   ]
  },
  {
   "cell_type": "markdown",
   "metadata": {},
   "source": [
    "We can use the returned string to create another string:"
   ]
  },
  {
   "cell_type": "code",
   "execution_count": null,
   "metadata": {
    "collapsed": true
   },
   "outputs": [],
   "source": [
    "new_greet = greet('Mia') + '. How was the audition?'\n",
    "print(new_greet)"
   ]
  },
  {
   "cell_type": "markdown",
   "metadata": {},
   "source": [
    "Or, we can use it in another function:"
   ]
  },
  {
   "cell_type": "code",
   "execution_count": null,
   "metadata": {
    "collapsed": true
   },
   "outputs": [],
   "source": [
    "def phone_call(name):\n",
    "    speech = greet(name) + '! I am calling to inform you that \\\n",
    "    you have been chosen to play the main character in our movie.'\n",
    "    return speech"
   ]
  },
  {
   "cell_type": "markdown",
   "metadata": {},
   "source": [
    "Try calling the function `phone_call` several times with different values of `name`."
   ]
  },
  {
   "cell_type": "code",
   "execution_count": null,
   "metadata": {
    "collapsed": true
   },
   "outputs": [],
   "source": [
    "# Your code here"
   ]
  },
  {
   "cell_type": "markdown",
   "metadata": {},
   "source": [
    "Create a string that using the returned value from the function `phone_call`"
   ]
  },
  {
   "cell_type": "code",
   "execution_count": null,
   "metadata": {
    "collapsed": true
   },
   "outputs": [],
   "source": [
    "# Your code here"
   ]
  },
  {
   "cell_type": "markdown",
   "metadata": {},
   "source": [
    "Define a function of your choice that uses the function `phone_call`, just as the function `phone_call` uses `greet`."
   ]
  },
  {
   "cell_type": "code",
   "execution_count": null,
   "metadata": {
    "collapsed": true
   },
   "outputs": [],
   "source": [
    "# Your code here"
   ]
  },
  {
   "cell_type": "markdown",
   "metadata": {},
   "source": [
    "# B. Exercises"
   ]
  },
  {
   "cell_type": "markdown",
   "metadata": {},
   "source": [
    "## Exercise 1. BMI \n",
    "\n",
    "Body mass index (BMI) is a measure of body fat based on height and weight. The index is given by:\n",
    "$$BMI=\\frac{mass}{height^2}$$\n",
    "where mass is in kilograms and height is in meters. Interpretation of BMI:\n",
    "* Below 18.5 = Underweight\n",
    "* 18.5-24.9 = Normal or Healthy Weight\n",
    "* 25.0-29.9 = Overweight\n",
    "* 30.0 or Above = Obese  \n",
    "\n",
    "In the lab you created two numpy arrays `np_weights` and `np_heights`. Use these to return a new numpy array of Boolean values that indicate whether each student is underweight. The result should be `[False False False False False  True]`"
   ]
  },
  {
   "cell_type": "code",
   "execution_count": null,
   "metadata": {
    "collapsed": true
   },
   "outputs": [],
   "source": [
    "# Your code here"
   ]
  },
  {
   "cell_type": "markdown",
   "metadata": {},
   "source": [
    "## Exercise 2. BMI Plot\n",
    "\n",
    "For a person whose height is 1.70m, their BMI depends on their weight according to the formula:\n",
    "$$BMI=\\frac{mass}{1.7^2}$$\n",
    "Create a plot for this function and infer from the graph what the weight has to be in order for the person to be in the normal health range."
   ]
  },
  {
   "cell_type": "code",
   "execution_count": null,
   "metadata": {
    "collapsed": true
   },
   "outputs": [],
   "source": [
    "# Your code here"
   ]
  },
  {
   "cell_type": "markdown",
   "metadata": {},
   "source": [
    "## Exercise 3. BMI Plot Function\n",
    "\n",
    "Create/define function `bmi_plot` that takes the height as its input and generates a graph describing the dependence of the BMI on the weight. "
   ]
  },
  {
   "cell_type": "code",
   "execution_count": null,
   "metadata": {
    "collapsed": true
   },
   "outputs": [],
   "source": [
    "# Your code here"
   ]
  },
  {
   "cell_type": "markdown",
   "metadata": {},
   "source": [
    "## Exercise 4. Recommendation Function\n",
    "\n",
    "Define a function that takes in the height as input and outputs the weight at which the person starts to gets obese. "
   ]
  },
  {
   "cell_type": "code",
   "execution_count": null,
   "metadata": {
    "collapsed": true
   },
   "outputs": [],
   "source": [
    "# Your code here"
   ]
  },
  {
   "cell_type": "markdown",
   "metadata": {},
   "source": [
    "## Exercise 5. Reusing Recommendation Function\n",
    "\n",
    "Define a function that takes in the height and weight as its input and outputs a boolean value that checks whether the person is obese by using the returned value from the function you created in exercise 4. "
   ]
  },
  {
   "cell_type": "code",
   "execution_count": null,
   "metadata": {
    "collapsed": true
   },
   "outputs": [],
   "source": [
    "# Your code here"
   ]
  },
  {
   "cell_type": "markdown",
   "metadata": {},
   "source": [
    "## [Optional] Exercise 6. BMI Plots\n",
    "\n",
    "Create a graph of the dependence of BMI on three different values of heights of your choice (i.e., three curves in the same graph)."
   ]
  },
  {
   "cell_type": "code",
   "execution_count": null,
   "metadata": {
    "collapsed": true
   },
   "outputs": [],
   "source": [
    "# Your code here"
   ]
  },
  {
   "cell_type": "markdown",
   "metadata": {},
   "source": [
    "## [Optional] Exercise 7. BMI Calculator\n",
    "\n",
    "Create a function that takes in two **lists** (not numpy arrays) of heights and weights of the same length, and outputs a numpy list that encodes the result of each student's BMI:\n",
    "* 0 if underweight\n",
    "* 1 if healthy\n",
    "* 2 if over weight\n",
    "* 3 if obese"
   ]
  },
  {
   "cell_type": "code",
   "execution_count": null,
   "metadata": {
    "collapsed": true
   },
   "outputs": [],
   "source": [
    "# Your code here"
   ]
  },
  {
   "cell_type": "markdown",
   "metadata": {},
   "source": [
    "## [Optional] Exercise 8. Recursion\n",
    "In SSS week 9 you were given a function that computes factorial:"
   ]
  },
  {
   "cell_type": "code",
   "execution_count": null,
   "metadata": {
    "collapsed": true
   },
   "outputs": [],
   "source": [
    "def factorial(n):\n",
    "    if n==0:\n",
    "        return 1\n",
    "    out = 1\n",
    "    for i in range(1,n+1):\n",
    "        out = out*i\n",
    "    return out"
   ]
  },
  {
   "cell_type": "markdown",
   "metadata": {},
   "source": [
    "Another way of defining the function is recursively calling itself but on a smaller problem size. Noting that $n!=n\\times(n-1)!$ and, therefore, `factorial(n)`=n*`factorial(n-1)`, we can define `factorial` as below:"
   ]
  },
  {
   "cell_type": "code",
   "execution_count": null,
   "metadata": {
    "collapsed": true
   },
   "outputs": [],
   "source": [
    "def factorial(n):\n",
    "    if n==0:\n",
    "        return 1\n",
    "    return n*factorial(n-1)"
   ]
  },
  {
   "cell_type": "markdown",
   "metadata": {},
   "source": [
    "How cool is that?! Using recursion, define the function `fib(n)` that computes the $n-th$ [Fibonacci number](https://en.wikipedia.org/wiki/Fibonacci_number). `fib(1)` should return 1, `fib(2)` should return 2 and `fib(11)` should return 89. "
   ]
  },
  {
   "cell_type": "code",
   "execution_count": null,
   "metadata": {
    "collapsed": true
   },
   "outputs": [],
   "source": [
    "# YOur code here"
   ]
  }
 ],
 "metadata": {
  "colab": {
   "collapsed_sections": [],
   "name": "SSS7.ipynb",
   "provenance": [],
   "version": "0.3.2"
  },
  "kernelspec": {
   "display_name": "Python 3",
   "language": "python",
   "name": "python3"
  },
  "language_info": {
   "codemirror_mode": {
    "name": "ipython",
    "version": 3
   },
   "file_extension": ".py",
   "mimetype": "text/x-python",
   "name": "python",
   "nbconvert_exporter": "python",
   "pygments_lexer": "ipython3",
   "version": "3.6.2"
  }
 },
 "nbformat": 4,
 "nbformat_minor": 1
}
