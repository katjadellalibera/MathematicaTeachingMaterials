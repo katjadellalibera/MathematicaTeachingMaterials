{
 "cells": [
  {
   "cell_type": "markdown",
   "metadata": {
    "colab_type": "text",
    "id": "ICEZeXEdQvX2"
   },
   "source": [
    "# SSS 10. More with #distributions and #simulation!"
   ]
  },
  {
   "cell_type": "markdown",
   "metadata": {
    "colab_type": "text",
    "id": "DYJUGHORQvX3"
   },
   "source": [
    "This SSS serves the dual purpose of improving your stats knowledge and your familiarity with Python at the same time. We continue practicing using code to apply the HCs in the Probability and Statistics unit (**#probability**, **#distribution**, and **#simulation**). We also have a preview of **#confidenceintervals** which will be introduced in 11.1. "
   ]
  },
  {
   "cell_type": "markdown",
   "metadata": {
    "colab_type": "text",
    "id": "inihdkLPQvX9"
   },
   "source": [
    "# Table of Contents\n",
    "* [A. Python Lab:](#A.-Python-Lab)\n",
    "    * [The Airline Problem Revisited](#The-Airline-Problem-Revisited)\n",
    "    * [Sampling From a Population Revisited](#Sampling-From-a-Population-Revisited)\n",
    "* [B. Exercises](#B.-Exercise)"
   ]
  },
  {
   "cell_type": "markdown",
   "metadata": {
    "colab_type": "text",
    "id": "4ewK6dKyQvX-"
   },
   "source": [
    "# A. Python Lab\n",
    "\n",
    "\n",
    "## A.1 The Airline Problem Revisited\n",
    "\n",
    "*This section reviews using SciPy and MatPlotLib and walks you through the process of coding up the solution to the Airline problem from [this blog](http://corysimon.github.io/articles/by-how-many-flights-should-an-airline-overbook/)*\n",
    "\n",
    "Consider an airplane with 100 seats. If the airline sells 100 tickets but fewer than 100 passengers show up, the airline incurs an opportunity cost of lost revenue from the no-show customers. Therefore, the airline actually wants to overbook the flight. However, if it overbooks by too much and more than 100 passengers show up, it must fork out costly vouchers and hotel rooms to the passengers that get bumped from the flight, which decreases revenue. **By how many customers should the airplane overbook?** We will give a complete answer to this question in this section by computing the **maximum expected value of the revenue**.\n",
    "\n",
    "Recall from last week that if the airline overbooks 20 tickets (meaning they sell 120 tickets in total), we can model the probability that a certain number of customers will show as a binomial distribution. Suppose that for each customer, the probability they he/she will show up is 90%, then the probability that exactly 100 customers will show can be computed as follows:"
   ]
  },
  {
   "cell_type": "code",
   "execution_count": 2,
   "metadata": {
    "collapsed": true
   },
   "outputs": [],
   "source": [
    "from scipy import stats\n",
    "p = 0.9 \n",
    "n = 120\n",
    "k = 100\n",
    "print(stats.binom.pmf(k,n,p))"
   ]
  },
  {
   "cell_type": "markdown",
   "metadata": {},
   "source": [
    "What if the airline only overbooks 10 tickets (meaning they sell 110 tickets in total)? What is the probability that exactly 100 people will show up? Modify the cell below to print your answer. "
   ]
  },
  {
   "cell_type": "code",
   "execution_count": null,
   "metadata": {
    "collapsed": true
   },
   "outputs": [],
   "source": [
    "# Your code here"
   ]
  },
  {
   "cell_type": "markdown",
   "metadata": {},
   "source": [
    "For the sake of convenience, we'd like to work in terms of the number of tickets overbooked instead of the total number of tickets sold. Write a function, `prob`, that takes in `k` (the number of people who show up), `x` (the number of tickets overbooked), and `p` (the probability that an individual customer shows up) as arguments and returns the probability that `k` customers will show. Calling `prob(100, 10, 0.9)` should give the same number printed by your code in the previous cell."
   ]
  },
  {
   "cell_type": "code",
   "execution_count": null,
   "metadata": {
    "collapsed": true
   },
   "outputs": [],
   "source": [
    "def prob(k, x, p):\n",
    "    # Your 1 line of code here"
   ]
  },
  {
   "cell_type": "markdown",
   "metadata": {},
   "source": [
    "Let's focus on a specific case in which the airline decides to sell 120 tickets total (i.e., overbook by `x`=20). \n",
    "\n",
    "*How many customers do we expect to show up?* \n",
    "\n",
    "This is just a problem of calculating the *expected value* of a random variable. Recall that the EV is computed by multiplying the value of every outcome by its corresponding probability, then summing up the results. Our random variable in this case is \"the number of customers who show up\", and therefore it can take any value from 0 (no-show) to 120. The code below is used to calculate the expected number of customers who show up, but contains some errors. Find and fix them."
   ]
  },
  {
   "cell_type": "code",
   "execution_count": null,
   "metadata": {
    "collapsed": true
   },
   "outputs": [],
   "source": [
    "expected_value = 0\n",
    "for k in range(120): # loop over 0, 1, 2, ..., 120\n",
    "    expected_value = expected_value + k*prob(k, 20, 0.9)\n",
    "print(expected_value)"
   ]
  },
  {
   "cell_type": "markdown",
   "metadata": {},
   "source": [
    "In fact, we could have used the formula for the mean of a binomial distribution to compute the same quantity. The mean of binomial distribution is $$\\mu=np=120*0.9=108,$$ so your code should print 108 (or a value very close to that, due to rounding issues). The formula $\\mu=np$ is just a derivation from the way of calculating expected value you implemented above. Make sure you understand the code, as you will be asked to compute another expected value again in one of the steps below.\n",
    "\n",
    "--\n",
    "\n",
    "Now, rather than just consider the expected number of passengers, what the airline *really* wants to consider is the expected value of the revenue. So, let's switch gears and consider revenue as our random variable.\n",
    "\n",
    "Suppose that the price of a ticket is \\$250, so the airline receives \\$250 per ticket sold. However, when more than 100 customers show, the airline must spend \\$800 per overbooked passenger to compensate them. Therefore, if we call $r(k)$ to be the revenue the airplane gets depending on the number of passengers $k$ that actually show up, we have the following relationship:\n",
    "\n",
    "* $r(k)=250k$  if $k<100$ [if less than 100 show, we get \\$250 for each passenger that shows, and we don’t lose any revenue since no customers were bumped.]\n",
    "\n",
    "* $r(k)=(250)(100)−800(k−100)$ if $k≥100$ [if more than 100 show, we get \\$250 only for first 100 passengers, and we lose \\$800 for each of the $(k−100)$ customers that were bumped.].\n",
    "\n",
    "Your task now is to write the function `r` that reflects this situation. The function `r` takes `k` (the number of passengers that show) as an argument and returns the corresponding revenue."
   ]
  },
  {
   "cell_type": "code",
   "execution_count": null,
   "metadata": {
    "collapsed": true
   },
   "outputs": [],
   "source": [
    "def r(k):\n",
    "    # Your code here, using if-else statement.\n",
    "    \n",
    "print(r(20))  # should print 5000\n",
    "print(r(100))  # should print 25000\n",
    "print(r(110))  # should print 17000"
   ]
  },
  {
   "cell_type": "markdown",
   "metadata": {},
   "source": [
    "Having overbooked by 20 tickets, the airline wishes to know the **expected revenue**. To calculate this expected value, we first need to know all the possible values of the revenue. We know that for each number of customers showing `k`, there is a corresponding revenue `r(k)`. The code below constructs a list of all the possible values of revenue."
   ]
  },
  {
   "cell_type": "code",
   "execution_count": null,
   "metadata": {
    "collapsed": true
   },
   "outputs": [],
   "source": [
    "possible_values = []\n",
    "for k in range(121): # since the airline overbooks by 20 tickets, \n",
    "                     # there could be 0, 1, 2, ..., or 120 customers that show\n",
    "    possible_values.append(r(k)) # append the corresponding revenue\n",
    "print(possible_values)"
   ]
  },
  {
   "cell_type": "markdown",
   "metadata": {},
   "source": [
    "Using the method of calculating the expected value discussed before, we can calculate the expected revenue. Fill in the correct value multiplied by the corresponding probability."
   ]
  },
  {
   "cell_type": "code",
   "execution_count": null,
   "metadata": {
    "collapsed": true
   },
   "outputs": [],
   "source": [
    "expected_value = 0\n",
    "for k in range(121): # loop over r(0), r(1), r(2), ..., r(120)\n",
    "    expected_value = expected_value + # your code here\n",
    "print(expected_value)"
   ]
  },
  {
   "cell_type": "markdown",
   "metadata": {},
   "source": [
    "The output, which should be 18584.5374279, is the expected revenue in the specific case that the airline overbooks by $x=20$. To generalize, can you write a function that takes in an arbitrary number of tickets the airline overbooks ($x$) and return the respective expected revenue?"
   ]
  },
  {
   "cell_type": "code",
   "execution_count": null,
   "metadata": {
    "collapsed": true
   },
   "outputs": [],
   "source": [
    "def expected_r(x):\n",
    "    possible_values = []\n",
    "    # TODO: construct the list of possible values of the revenue here\n",
    "    \n",
    "    \n",
    "    \n",
    "    # End of your code\n",
    "    expected_value = 0\n",
    "    # TODO: Use a for loop to calculate the expected value here\n",
    "    \n",
    "    \n",
    "    # End of your code\n",
    "    return expected_value"
   ]
  },
  {
   "cell_type": "markdown",
   "metadata": {},
   "source": [
    "Putting everything together!! We have just created the function `expected_r(x)` that returns the expected revenue given the number of tickets $x$ beyond capacity. Since the airline wants to find the value of $x$ that maximizes the expected revenue, we can plot the expected revenue as a function of $x$ to see at which value of $x$, the graph reaches its peak. That is the desired value of $x$. Fill in the code below to make the plot."
   ]
  },
  {
   "cell_type": "code",
   "execution_count": null,
   "metadata": {
    "collapsed": true
   },
   "outputs": [],
   "source": [
    "# import the function pyplot from matplotlib here \n",
    "%matplotlib inline \n",
    "X = [] # initialize values of the x-axis\n",
    "expected_revenue = [] # initialize values of the y-axis\n",
    "for x in range(50): # try 50 different values of x \n",
    "    # TODO: Your code here \n",
    "    \n",
    "    \n",
    "    # End of your code\n",
    "plt.plot(X, expected_revenue)\n",
    "plt.xlabel('# tickets beyond capacity ($x$)')\n",
    "plt.ylabel('Expected revenue ($)')"
   ]
  },
  {
   "cell_type": "markdown",
   "metadata": {},
   "source": [
    "Judging by the graph, **by how many customers should the airplane overbook?**"
   ]
  },
  {
   "cell_type": "markdown",
   "metadata": {},
   "source": [
    "** Your answer here **"
   ]
  },
  {
   "cell_type": "markdown",
   "metadata": {},
   "source": [
    "## A.2 Sampling From a Population Revisited\n",
    "### Confidence Interval Preview\n",
    "\n",
    "The list of the number of times a Minerva uses \"It depends\" or \"Actually I have a question\" in their answer in each of the last 300 class sessions is reprinted below:\n",
    "\n",
    "\n"
   ]
  },
  {
   "cell_type": "code",
   "execution_count": null,
   "metadata": {
    "collapsed": true
   },
   "outputs": [],
   "source": [
    "A =[5, 5, 3, 0, 1, 11, 0, 8, 6, 6, 6, 3, 4, 8, 1, 16, 15, 12, 1, 10, 3, \n",
    "    10, 0, 36, 3, 1, 1, 0, 6, 12, 6, 11, 9, 3, 5, 18, 6, 5, 1, 7, 2, 28,\n",
    "    3, 3, 5, 3, 0, 2, 1, 5, 23, 1, 4, 10, 4, 5, 1, 3, 18, 6, 12, 18, 15,\n",
    "    13, 15, 3, 9, 5, 0, 6, 22, 3, 7, 22, 16, 7, 2, 15, 4, 4, 0, 13, 6, 7,\n",
    "    0, 10, 1, 0, 9, 0, 4, 6, 17, 11, 2, 8, 15, 5, 1, 6, 5, 16, 0, 3, 5,\n",
    "    10, 7, 4, 5, 3, 2, 9, 10, 13, 1, 4, 13, 10, 7, 9, 9, 10, 16, 7, 3, \n",
    "    8, 8, 1, 13, 12, 8, 4, 14, 3, 23, 13, 3, 10, 6, 7, 9, 5, 27, 12, 6,\n",
    "    10, 6, 25, 10, 5, 7, 10, 7, 11, 2, 4, 0, 15, 13, 6, 11, 6, 6, 6, 13, \n",
    "    4, 1, 7, 26, 6, 17, 10, 7, 5, 1, 2, 4, 8, 9, 9, 24, 9, 16, 2, 12, 7,\n",
    "    6, 0, 5, 17, 1, 1, 3, 29, 1, 7, 22, 15, 10, 6, 5, 10, 27, 6, 5, 7, 5,\n",
    "    6, 14, 34, 9, 9, 2, 2, 2, 13, 5, 4, 3, 16, 15, 9, 6, 4, 17, 5, 12, 4,\n",
    "    11, 6, 7, 2, 3, 7, 3, 12, 9, 5, 8, 1, 12, 14, 7, 1, 0, 9, 6, 7, 2, 35,\n",
    "    23, 16, 11, 7, 5, 16, 0, 17, 0, 5, 1, 0, 10, 13, 8, 1, 1, 0, 6, 5, 1,\n",
    "    24, 11, 1, 0, 6, 15, 4, 0, 9, 1, 2, 16, 6, 7, 8, 7, 1, 11, 5, 18, 4,\n",
    "    0, 13, 4, 8, 0, 1, 2, 0]"
   ]
  },
  {
   "cell_type": "markdown",
   "metadata": {},
   "source": [
    "The mean of the list is:"
   ]
  },
  {
   "cell_type": "code",
   "execution_count": null,
   "metadata": {
    "collapsed": true
   },
   "outputs": [],
   "source": [
    "import numpy as np\n",
    "print(np.mean(A))"
   ]
  },
  {
   "cell_type": "markdown",
   "metadata": {},
   "source": [
    "That means on average, during the last 300 sessions, students use those frustrating phrases about 7.7 times per session. \n",
    "\n",
    "In reality, collecting such data for such a large number of sessions is very consuming. So usually, list `A` above, representing the population data, is totally unknown to you. Therefore, assume that *we don't know list* `A`, yet we'd like to *estimate the mean* to get a sense of the extent to which Minerva students abuse these phrases. To do so, you collect data for 30 random sessions (which is easily doable) and use the mean of those 30 sessions as an estimate for the true mean. \n",
    "\n",
    "How accurate do you think this estimation would be? For example, if you sample the 30 sessions like this repeatedly for, say, 10 times, how many times would you expect the sample mean to differ from the true mean by less than or equal to 1 session? The code below simulate this situation."
   ]
  },
  {
   "cell_type": "code",
   "execution_count": null,
   "metadata": {
    "collapsed": true
   },
   "outputs": [],
   "source": [
    "def interval(mean):\n",
    "    lower_bound = mean - 1\n",
    "    upper_bound = mean + 1\n",
    "    return [lower_bound, upper_bound]\n",
    "\n",
    "def sample_procedure(dist, sample_size, sample_repeats):\n",
    "    sample_means = []\n",
    "    for _ in range(sample_repeats):\n",
    "        sample = np.random.choice(dist, (sample_size,))\n",
    "        this_mean = np.mean(sample)\n",
    "        sample_means.append(this_mean)\n",
    "    return sample_means\n",
    "\n",
    "sample_size = 30\n",
    "sample_repeats = 10\n",
    "sample_means = sample_procedure(A, sample_size, sample_repeats)\n",
    "count = 0\n",
    "for i in range(sample_repeats):\n",
    "    this_mean = sample_means[i]\n",
    "    lower_bound = interval(this_mean)[0]\n",
    "    upper_bound = interval(this_mean)[1]\n",
    "    if (7.726 > lower_bound) and (7.726 < upper_bound):\n",
    "        count = count + 1\n",
    "print(count)"
   ]
  },
  {
   "cell_type": "markdown",
   "metadata": {},
   "source": [
    "Read the code above carefully and notice the similarities to the CLT simulation we saw in FA class this week.\n",
    "\n",
    "Run the code a few times and notice the output is different every time. Why?\n",
    "\n",
    "Modify two lines so that it prints the *percentage of times* your sample means differ from the true mean by less than or equal to 1 session when you sample not 10 times, but *10000 times*. The printed percentage should be around 60%."
   ]
  },
  {
   "cell_type": "markdown",
   "metadata": {},
   "source": [
    "# B. Exercise"
   ]
  },
  {
   "cell_type": "markdown",
   "metadata": {},
   "source": [
    "## Exercise 1. The Airline Problem (Continued)\n",
    "\n",
    "\n",
    "1. In the **Airline problem** section, you determined the number of customers by which the airline should overbooks by visually inspect the graph. In fact, you could have used the lists `X` and `expected_revenue` to determine the optimal value in `X`. Modify the last cell in **The Airline Problem Revisited** section to print out the optimal value of $x$.\n",
    "\n",
    "\n",
    "2. Modify the last cell in **The Airline Problem Revisited** section to print out the value of $x$ at which the expected revenue begins to take negative values.\n",
    "\n",
    "\n",
    "3. Modify the last cell in **The Airline Problem Revisited** section so that the plot it creates has a black dashed horizontal line that intersects the $y-axis$ at 0. The plot should look something like the plot in [the blog](http://corysimon.github.io/articles/by-how-many-flights-should-an-airline-overbook/)."
   ]
  },
  {
   "cell_type": "markdown",
   "metadata": {},
   "source": [
    "## Exercise 2. The Airline Problem Variation\n",
    "\n",
    "What if for a given customer, the probability of him/her showing up is 60%, not 90%? Write code similar to that in **The Airline Problem Revisited** section to make a plot and determine the optimal value of $x$ in that case. "
   ]
  },
  {
   "cell_type": "code",
   "execution_count": null,
   "metadata": {
    "collapsed": true
   },
   "outputs": [],
   "source": [
    "# Your code here"
   ]
  },
  {
   "cell_type": "markdown",
   "metadata": {},
   "source": [
    "## Exercise 3. Code Engineering \n",
    "The author of the blog on the airline problem actually uploaded the code [here](https://github.com/CorySimon/CorySimon.github.io/blob/master/codes/overboarding.py). In his solution, he approximated normal distribution to the binomial one to find the probability that `k` customers will show up. Your challenge is to (1) find the lines of code that do this and (2) modify them so that they directly use binomial distribution in calculations (like what we did in the lab). Paste the modified code in the cell below."
   ]
  },
  {
   "cell_type": "code",
   "execution_count": null,
   "metadata": {
    "collapsed": true
   },
   "outputs": [],
   "source": [
    "# Your code here"
   ]
  },
  {
   "cell_type": "markdown",
   "metadata": {},
   "source": [
    "## [Optional] Exercise 4. Reducing Fractions\n",
    "\n",
    "Write a function that takes in `a1` and `b1` as arguments, where `a1` and `b1` are numerator and denominator of a fraction, respectively. The function then returns `a2` and `b2`, where a2/b2 is the function a1/b1 reduced to its lowest terms.\n",
    "For example:\n",
    "\n",
    "Input: 4, 6\n",
    "\n",
    "Output: 2, 3\n"
   ]
  },
  {
   "cell_type": "code",
   "execution_count": null,
   "metadata": {
    "collapsed": true
   },
   "outputs": [],
   "source": [
    "# Your code here"
   ]
  },
  {
   "cell_type": "markdown",
   "metadata": {},
   "source": [
    "## [Optional] Exercise 5. Decompression\n",
    "\n",
    "The string S consisting of only alphabetical lowercase characters (a-z) can be 'compressed' into another string by counting the number of consecutive same characters in the string. For example. the string `'aaaabbaddddd'` can be compressed into the string `'4a2ba5d'`. Create a function `decomp` that decompresses a compressed string. For example, `decomp('3a5bc')` should return `'aaabbbbbc'`."
   ]
  },
  {
   "cell_type": "code",
   "execution_count": null,
   "metadata": {
    "collapsed": true
   },
   "outputs": [],
   "source": [
    "# Your code here"
   ]
  }
 ],
 "metadata": {
  "colab": {
   "collapsed_sections": [],
   "name": "SSS7.ipynb",
   "provenance": [],
   "version": "0.3.2"
  },
  "kernelspec": {
   "display_name": "Python 3",
   "language": "python",
   "name": "python3"
  },
  "language_info": {
   "codemirror_mode": {
    "name": "ipython",
    "version": 3
   },
   "file_extension": ".py",
   "mimetype": "text/x-python",
   "name": "python",
   "nbconvert_exporter": "python",
   "pygments_lexer": "ipython3",
   "version": "3.6.2"
  }
 },
 "nbformat": 4,
 "nbformat_minor": 1
}
