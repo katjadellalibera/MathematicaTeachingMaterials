{
 "cells": [
  {
   "cell_type": "markdown",
   "metadata": {
    "colab_type": "text",
    "id": "1bmdv457SCmc"
   },
   "source": [
    "# SSS5. Review and catch up. *Exercises Only*.\n",
    "\n",
    "This SSS provides an opportunity to review the fundamentals from the last four weeks. There is no \"Lab\" section, only *Exercises!* \n",
    "\n",
    "The exercises below are taken from the previous weeks' sessions, giving you a chance to work on any exercises that you skipped or didn't have time for. You may choose to start with the exercises from weeks 1-2 if you need more practice with the basics, or challenge yourself with the optional problems. If you need more practice with a specific concept, consider asking your peer tutors to recommend which exercise would be relevant. For example, \"I'm still confused about functions, which problems should I try?\""
   ]
  },
  {
   "cell_type": "markdown",
   "metadata": {
    "colab_type": "text",
    "id": "fkJ-5_5KSCme"
   },
   "source": [
    "# Table of Contents\n",
    "* [WEEK 1](#WEEK-1)\n",
    "* [WEEK 2](#WEEK-2)\n",
    "* [WEEK 3](#WEEK-3)\n",
    "* [WEEK 4](#WEEK-4)\n",
    "* [OPTIONAL EXERCISES](#OPTIONAL-EXERCISES)"
   ]
  },
  {
   "cell_type": "markdown",
   "metadata": {
    "colab_type": "text",
    "id": "QJGKvRbGSCn-"
   },
   "source": [
    "# WEEK 1"
   ]
  },
  {
   "cell_type": "markdown",
   "metadata": {
    "colab_type": "text",
    "id": "QzGz9q0lSCmf"
   },
   "source": [
    "## Exercise 1.1\n",
    "\n",
    "What does the following function do? In what situations may it be helpful?"
   ]
  },
  {
   "cell_type": "code",
   "execution_count": 0,
   "metadata": {
    "colab": {},
    "colab_type": "code",
    "collapsed": true,
    "id": "FktK2mYAA5dl"
   },
   "outputs": [],
   "source": [
    "def equal_check(x,y):\n",
    "    if x-y<0:\n",
    "        return (y-x)<.0001\n",
    "    else:\n",
    "        return (x-y)<.0001\n",
    "      \n",
    "print(equal_check(3,3))"
   ]
  },
  {
   "cell_type": "markdown",
   "metadata": {
    "colab_type": "text",
    "id": "_3_LBpH_A5do"
   },
   "source": [
    "**Your answer here:**"
   ]
  },
  {
   "cell_type": "code",
   "execution_count": 0,
   "metadata": {
    "colab": {},
    "colab_type": "code",
    "collapsed": true,
    "id": "ez3TXq3qA5du"
   },
   "outputs": [],
   "source": [
    "# Your code here"
   ]
  },
  {
   "cell_type": "markdown",
   "metadata": {
    "colab_type": "text",
    "id": "lTnWQ687pgeB"
   },
   "source": [
    "# WEEK 2"
   ]
  },
  {
   "cell_type": "markdown",
   "metadata": {
    "colab_type": "text",
    "id": "PWqm76Mq9IMV"
   },
   "source": [
    "## Exercise 2.1. Decisions with `if-elif-else`"
   ]
  },
  {
   "cell_type": "markdown",
   "metadata": {
    "colab_type": "text",
    "id": "OaE85KEP9SOw"
   },
   "source": [
    "You are deciding whether to take an absence from the FA class this morning. Suppose at the moment the only two feelings you can have is `\"tired\"` or `\"not tired\"`. You have a special set of rules to follow in this decision-making process:\n",
    "* You will definitely go to class if you have no permitted absences left.\n",
    "* You will go to class if you have at least one permitted absences left and you are not feeling tired.\n",
    "* If you are feeling tired, and there is at least one permitted absences left, you won't go to class.\n",
    "\n",
    "Use the information above to complete the following question:"
   ]
  },
  {
   "cell_type": "code",
   "execution_count": 0,
   "metadata": {
    "colab": {},
    "colab_type": "code",
    "collapsed": true,
    "id": "UKGFD5kq9VlD"
   },
   "outputs": [],
   "source": [
    "absences = 1\n",
    "feeling = 'not tired' \n",
    "\n",
    "############################################################################################\n",
    "#  TODO: Write code that reflects the above rules (i.e., print a decision based on the     #\n",
    "#  values of the variables absences and feeling. The variable absences indicates the       #\n",
    "#  number of permitted absences. The variable feeling indicate the feeling you are having. #\n",
    "#  Your code should use the if-elif-else structure.                                        #\n",
    "############################################################################################\n",
    "\n"
   ]
  },
  {
   "cell_type": "markdown",
   "metadata": {
    "colab_type": "text",
    "id": "ffyrDu8cSCoC"
   },
   "source": [
    "## Exercise 2.2. Function Matching"
   ]
  },
  {
   "cell_type": "markdown",
   "metadata": {
    "colab_type": "text",
    "id": "raAntTNLSCn-"
   },
   "source": [
    "Each of the five functions A, B, C, D, E (defined below) does one of the following tasks:\n",
    "\n",
    "1. Finding the average of numbers in a given list\n",
    "\n",
    "1. Finding the smallest number in a given list\n",
    "\n",
    "2. Finding the second smallest number in a given list\n",
    "\n",
    "3. Finding the second odd number in a given list\n",
    "\n",
    "4. Finding the smallest number that is greater than 2 in a given list."
   ]
  },
  {
   "cell_type": "code",
   "execution_count": 0,
   "metadata": {
    "colab": {},
    "colab_type": "code",
    "collapsed": true,
    "id": "Suim8L8SSCn-"
   },
   "outputs": [],
   "source": [
    "def A(L):\n",
    "    output = float(\"inf\") #infinity\n",
    "    for num in L:\n",
    "        if num < output:\n",
    "            output = num\n",
    "    return output"
   ]
  },
  {
   "cell_type": "code",
   "execution_count": 0,
   "metadata": {
    "colab": {},
    "colab_type": "code",
    "collapsed": true,
    "id": "j5YvNQXaSCn_"
   },
   "outputs": [],
   "source": [
    "def B(L):\n",
    "    count = 0\n",
    "    for num in L:\n",
    "        if num%2: # Recall what 0 and 1 mean in terms of booleans\n",
    "            count += 1\n",
    "        if count == 2:\n",
    "            return num\n",
    "    return None # Could not find the number satisfying the requirement"
   ]
  },
  {
   "cell_type": "code",
   "execution_count": 0,
   "metadata": {
    "colab": {},
    "colab_type": "code",
    "collapsed": true,
    "id": "8UH0vFpMSCoA"
   },
   "outputs": [],
   "source": [
    "def C(L):\n",
    "    tentative_output = 0\n",
    "    count = 0\n",
    "    for num in L:\n",
    "        tentative_output += num\n",
    "        count += 1\n",
    "    return tentative_output/count"
   ]
  },
  {
   "cell_type": "code",
   "execution_count": 0,
   "metadata": {
    "colab": {},
    "colab_type": "code",
    "collapsed": true,
    "id": "RCpUX-2LSCoA"
   },
   "outputs": [],
   "source": [
    "def D(L):\n",
    "    output = float(\"inf\") #infinity\n",
    "    for num in L:\n",
    "        if num <= 2:\n",
    "            pass\n",
    "        elif num < output:\n",
    "            output = num \n",
    "    if output == float(\"inf\"):\n",
    "        return None # Could not find the number satisfying the requirement\n",
    "    else:\n",
    "        return output\n",
    "        "
   ]
  },
  {
   "cell_type": "code",
   "execution_count": 0,
   "metadata": {
    "colab": {},
    "colab_type": "code",
    "collapsed": true,
    "id": "Gs_JV3IRSCoB"
   },
   "outputs": [],
   "source": [
    "def E(L):\n",
    "    output = float(\"inf\") # infinity\n",
    "    smallest =  float(\"inf\")\n",
    "    for num in L:\n",
    "        if num >= output:\n",
    "            pass # do nothing\n",
    "        elif num >= smallest:\n",
    "            output = num\n",
    "        else:            \n",
    "            output = smallest\n",
    "            smallest = num\n",
    "    #Note: this function relies on the assumption that all elements in the given list are distinct\n",
    "    return output "
   ]
  },
  {
   "cell_type": "markdown",
   "metadata": {
    "colab_type": "text",
    "id": "5e9mDBgeSCoC"
   },
   "source": [
    "Which function does what?"
   ]
  },
  {
   "cell_type": "markdown",
   "metadata": {
    "colab_type": "text",
    "id": "Lell784TSCoC"
   },
   "source": [
    "**Your answer here**"
   ]
  },
  {
   "cell_type": "markdown",
   "metadata": {
    "colab_type": "text",
    "id": "iJJntp08SCoC"
   },
   "source": [
    "## Exercise 2.3. Function Designing"
   ]
  },
  {
   "cell_type": "markdown",
   "metadata": {
    "colab_type": "text",
    "id": "mKylbXLvSCoD"
   },
   "source": [
    "Create a function that finds the largest or the smallest number (idicated by the time of calling) in a given list."
   ]
  },
  {
   "cell_type": "code",
   "execution_count": 0,
   "metadata": {
    "colab": {},
    "colab_type": "code",
    "collapsed": true,
    "id": "jQRTNIgsSCoD"
   },
   "outputs": [],
   "source": [
    "# Your code here"
   ]
  },
  {
   "cell_type": "markdown",
   "metadata": {
    "colab_type": "text",
    "id": "tRx0qepWSCoD"
   },
   "source": [
    "## Exercise 2.4. Function Engineering (for Worse)"
   ]
  },
  {
   "cell_type": "markdown",
   "metadata": {
    "colab_type": "text",
    "id": "kPTdQEZMSCoD"
   },
   "source": [
    "Rewrite function `E` above using no `elif`"
   ]
  },
  {
   "cell_type": "code",
   "execution_count": 0,
   "metadata": {
    "colab": {},
    "colab_type": "code",
    "collapsed": true,
    "id": "ItlU_jy7SCoE"
   },
   "outputs": [],
   "source": [
    "# Your code here"
   ]
  },
  {
   "cell_type": "markdown",
   "metadata": {
    "colab_type": "text",
    "id": "ORj31WUBpgeP"
   },
   "source": [
    "# WEEK 3\n",
    "\n",
    "Note: Refrain from using lists in the week 3 exercises as the goal is to familiarize yourself with string operations. "
   ]
  },
  {
   "cell_type": "markdown",
   "metadata": {
    "colab_type": "text",
    "id": "cjZT5J0lpgeP"
   },
   "source": [
    "## Exercise 3.1. Exclusive Or (XOR)\n",
    "\n",
    "From Wikipedia: \"Exclusive or or exclusive disjunction is a logical operation that outputs true only when inputs differ (one is true, the other is false)\"\n",
    "\n",
    "*You may find this concept useful for the logic puzzle portion of the FA logical thinking assignment!*\n",
    "\n",
    "Which of the following functions (A, B, C, or D) perform this operation (P and Q are boolean values)? Explain your answer"
   ]
  },
  {
   "cell_type": "code",
   "execution_count": 0,
   "metadata": {
    "colab": {},
    "colab_type": "code",
    "collapsed": true,
    "id": "F0bKjIUypgeP"
   },
   "outputs": [],
   "source": [
    "def A(P, Q):\n",
    "    return not (P or Q)\n",
    "\n",
    "def B(P, Q):\n",
    "    return (P or Q) and (not (P and Q))\n",
    "\n",
    "def C(P, Q):\n",
    "    return (P or Q) and ((not P) or (not Q))\n",
    "\n",
    "def D(P, Q):\n",
    "    return True or False\n",
    "\n",
    "# Optional\n",
    "def E(P, Q):\n",
    "    return (P + Q)==1"
   ]
  },
  {
   "cell_type": "markdown",
   "metadata": {
    "colab_type": "text",
    "id": "lRHku24ApgeQ"
   },
   "source": [
    "** Your answer here**"
   ]
  },
  {
   "cell_type": "markdown",
   "metadata": {
    "colab_type": "text",
    "id": "xp07EHmqpgeR"
   },
   "source": [
    "## Exercise 3.2. Search Engine Upgrade\n",
    "\n",
    "Write a function that searches a word `word` of arbitrary length in another string-- the `big_string`. The function should return a message indicating whether the word could be found in `big_string` or not. Assume that `len(big_string)` > `len(word)`"
   ]
  },
  {
   "cell_type": "code",
   "execution_count": 0,
   "metadata": {
    "colab": {},
    "colab_type": "code",
    "collapsed": true,
    "id": "0EqLjBhupgeR"
   },
   "outputs": [],
   "source": [
    "# Your code here"
   ]
  },
  {
   "cell_type": "markdown",
   "metadata": {
    "colab_type": "text",
    "id": "XtA5X-Ej7mTi"
   },
   "source": [
    "## Exercise 3.3. Word Count\n",
    "\n",
    "Write a function that counts the number of words in a given string. For example, the function outputs `3` given the text \"I love Python\". You can make some assumptions about the input in your solution (e.g., the text does not end with a white space)"
   ]
  },
  {
   "cell_type": "code",
   "execution_count": 0,
   "metadata": {
    "colab": {},
    "colab_type": "code",
    "collapsed": true,
    "id": "MLlcF4zT7rqn"
   },
   "outputs": [],
   "source": [
    "# Your code here"
   ]
  },
  {
   "cell_type": "markdown",
   "metadata": {
    "colab_type": "text",
    "id": "9gSsMzu6pgeS"
   },
   "source": [
    "# WEEK 4"
   ]
  },
  {
   "cell_type": "markdown",
   "metadata": {
    "colab_type": "text",
    "id": "8oUXWPQopgeV"
   },
   "source": [
    "## Exercise 4.1. Count from Scratch\n",
    "\n",
    "In Python, `count` is a built-in function to count the number of occurences of an element in a list. The cell below will print the number of times the number 5 appears in list `A`:"
   ]
  },
  {
   "cell_type": "code",
   "execution_count": 0,
   "metadata": {
    "colab": {},
    "colab_type": "code",
    "id": "suQUjlyypgeW",
    "outputId": "e8483f32-1adf-4d6d-98c9-b5307dedced1"
   },
   "outputs": [
    {
     "name": "stdout",
     "output_type": "stream",
     "text": [
      "3\n"
     ]
    }
   ],
   "source": [
    "A = [5,4,3,5,6,3,5]\n",
    "print(A.count(5))"
   ]
  },
  {
   "cell_type": "markdown",
   "metadata": {
    "colab_type": "text",
    "id": "AGnG2QX3pgeZ"
   },
   "source": [
    "But we can definitely build a function on our own that could do such jobs! Write a function that inputs a list and a value, `my_count(lst,val)`, and counts the number of occurences of the value (`val`) in the list (`lst`). Make sure to compare what your function returns with that of the built-in function.  "
   ]
  },
  {
   "cell_type": "code",
   "execution_count": 0,
   "metadata": {
    "colab": {},
    "colab_type": "code",
    "collapsed": true,
    "id": "zq_IZF4SpgeU"
   },
   "outputs": [],
   "source": [
    "# Your code here"
   ]
  },
  {
   "cell_type": "markdown",
   "metadata": {
    "colab_type": "text",
    "id": "C5OFoOn6pgeT"
   },
   "source": [
    "## Exercise 4.2. Truth Table\n",
    "\n",
    "The truth table for evaluating `(P  and  Q)  or  P` is given below:\n",
    "\n",
    "Row no. | P | Q | P and Q | (P and Q) or P \n",
    "--- | --- | --- | --- | ---\n",
    "1 | T | T | T | T \n",
    "2 | T | F | F | T\n",
    "3 | F | T | F | F\n",
    "4 | F | F | F | F\n",
    "\n",
    "Each row in the table above can be represented by a Python list. For example, the list `[True, False, False, True]` can be used to represent the second row. \n",
    "Our task now is to fill in the 2 missing values of such lists if the first two values are known. For example, if A = `[True, False]` is intended to represent part of the second row (just the truth values for P and Q), it has two missing values at the end, `False` and `True`. Write a function that takes a two-element list as arguments and return a complete list that represents a row in the table."
   ]
  },
  {
   "cell_type": "code",
   "execution_count": 0,
   "metadata": {
    "colab": {},
    "colab_type": "code",
    "collapsed": true,
    "id": "K_eJ_YeDpgeZ"
   },
   "outputs": [],
   "source": [
    "# Your code here"
   ]
  },
  {
   "cell_type": "markdown",
   "metadata": {
    "colab_type": "text",
    "id": "b2qalktI5tD7"
   },
   "source": [
    "## Exercise 4.3. Mode from Scratch\n",
    "\n",
    "From Wikipedia: \"The mode of a set of data values is the value that appears most often\". For example, the mode of [3,1,4,4,1,1,1,1,2] is 1 since 1 is the most common value (appearing 5 times). Write a function that finds **a** mode of a given list of numbers. You may find the function you created in the counting exercise above helpful."
   ]
  },
  {
   "cell_type": "code",
   "execution_count": 0,
   "metadata": {
    "colab": {},
    "colab_type": "code",
    "collapsed": true,
    "id": "--1Zs3WP51Rz"
   },
   "outputs": [],
   "source": [
    "# Your code here"
   ]
  },
  {
   "cell_type": "markdown",
   "metadata": {
    "colab_type": "text",
    "id": "6YSJzlLX50L-"
   },
   "source": []
  },
  {
   "cell_type": "markdown",
   "metadata": {
    "colab_type": "text",
    "id": "CIGPUkxl69TL"
   },
   "source": [
    "# OPTIONAL EXERCISES\n",
    "\n",
    "*Try these too!*"
   ]
  },
  {
   "cell_type": "markdown",
   "metadata": {
    "colab_type": "text",
    "id": "1mmHguh87KDO"
   },
   "source": [
    "## 1. Variables: Augmented Assignment"
   ]
  },
  {
   "cell_type": "markdown",
   "metadata": {
    "colab_type": "text",
    "id": "a_tPbAH47mmE"
   },
   "source": [
    "Suppose you already have a variable with value 0.5, like this:"
   ]
  },
  {
   "cell_type": "code",
   "execution_count": 0,
   "metadata": {
    "colab": {},
    "colab_type": "code",
    "collapsed": true,
    "id": "ohYiTAX17ov9"
   },
   "outputs": [],
   "source": [
    "my_level_of_confidence = 5/10"
   ]
  },
  {
   "cell_type": "markdown",
   "metadata": {
    "colab_type": "text",
    "id": "TQ5vw-bK7zpm"
   },
   "source": [
    "Now you want to increment the variable a bit, say, by 0.2, you can code like this:"
   ]
  },
  {
   "cell_type": "code",
   "execution_count": 0,
   "metadata": {
    "colab": {},
    "colab_type": "code",
    "collapsed": true,
    "id": "PigyqcgC7pKW"
   },
   "outputs": [],
   "source": [
    "my_level_of_confidence = my_level_of_confidence + 0.2"
   ]
  },
  {
   "cell_type": "markdown",
   "metadata": {
    "colab_type": "text",
    "id": "yTWvMojv72a2"
   },
   "source": [
    "The above line could be shortened:"
   ]
  },
  {
   "cell_type": "code",
   "execution_count": 0,
   "metadata": {
    "colab": {},
    "colab_type": "code",
    "collapsed": true,
    "id": "3bFh93uy7q0e"
   },
   "outputs": [],
   "source": [
    "my_level_of_confidence += 0.2"
   ]
  },
  {
   "cell_type": "markdown",
   "metadata": {
    "colab_type": "text",
    "id": "RBu36AtY77h7"
   },
   "source": [
    "That is called the an \"augmented assignment\"-- a shorthand for combining an assignment and an expression. It turns out you can use this pattern for some other operators:"
   ]
  },
  {
   "cell_type": "code",
   "execution_count": 0,
   "metadata": {
    "colab": {},
    "colab_type": "code",
    "collapsed": true,
    "id": "RzqwT9yU7sa_"
   },
   "outputs": [],
   "source": [
    "my_level_of_confidence -= .1\n",
    "my_level_of_confidence *= 2 # Divine!\n",
    "my_level_of_confidence /= 2 # :(\n",
    "my_level_of_confidence //= 2 \n",
    "my_level_of_confidence **= 2 # <3<3<3"
   ]
  },
  {
   "cell_type": "markdown",
   "metadata": {
    "colab_type": "text",
    "id": "AUf1zsps8Dz9"
   },
   "source": [
    "Now, create a variable by assigning the integer 0 to it, and increase the variable by 2 a hundred times (recall which tool in Python can help you with this repetitive, tedious job.) This is to practice using augmented assignments, so make sure you use them."
   ]
  },
  {
   "cell_type": "code",
   "execution_count": 0,
   "metadata": {
    "colab": {},
    "colab_type": "code",
    "collapsed": true,
    "id": "zYSJjFNF7tzt"
   },
   "outputs": [],
   "source": [
    "# Your code here"
   ]
  },
  {
   "cell_type": "markdown",
   "metadata": {
    "colab_type": "text",
    "id": "SMijH3NjA5fI"
   },
   "source": [
    "## 2. Pyramid building\n",
    "\n",
    "Create a function `build_even_pyramid` which receives a positive integer `n` as an argument and prints a pyramid of that level if `n` is even, and prints `\"n is not even\"` otherwise. For example,\n",
    "`build_even_pyramid(2)` should print:\n",
    "![Pyramid2](images/pyramid2.png)\n",
    "`build_even_pyramid(6)` should print:\n",
    "![Pyramid6](images/pyramid6.png)\n",
    "`build_even_pyramid(50)` should print:\n",
    "![Pyramid50](images/pyramid50.png)\n",
    "`build_even_pyramid(3)` should print:\n",
    "\n",
    "`n is not even`"
   ]
  },
  {
   "cell_type": "code",
   "execution_count": 0,
   "metadata": {
    "colab": {},
    "colab_type": "code",
    "collapsed": true,
    "id": "mUwvDTT9A5fI"
   },
   "outputs": [],
   "source": [
    "# Your code here\n"
   ]
  },
  {
   "cell_type": "markdown",
   "metadata": {
    "colab_type": "text",
    "id": "2RijYE4OA5fL"
   },
   "source": [
    "## 3. Leap years\n",
    "A *leap year* occurs on any year evenly divisible by 4, but not on a century (100) unless it is divisible by 400. Write a function that inputs a year and outputs whether or not it is a leap year."
   ]
  },
  {
   "cell_type": "code",
   "execution_count": 0,
   "metadata": {
    "colab": {},
    "colab_type": "code",
    "collapsed": true,
    "id": "yuVr-HGpA5fM"
   },
   "outputs": [],
   "source": [
    "# Your code here\n"
   ]
  },
  {
   "cell_type": "markdown",
   "metadata": {
    "colab_type": "text",
    "id": "Hx8ChlNrA5fO"
   },
   "source": [
    "## 4. Palindromes (Project Euler \\#4)\n",
    "\n",
    "A palindromic number reads the same both ways. The largest palindrome made from the product of two 2-digit numbers is 9009 = 91 × 99. Find the largest palindrome made from the product of two 3-digit numbers"
   ]
  },
  {
   "cell_type": "code",
   "execution_count": 0,
   "metadata": {
    "colab": {},
    "colab_type": "code",
    "collapsed": true,
    "id": "7awE6W9Upgek"
   },
   "outputs": [],
   "source": [
    "# Your code here"
   ]
  },
  {
   "cell_type": "markdown",
   "metadata": {
    "colab_type": "text",
    "id": "VCz9J8BYpgel"
   },
   "source": [
    "## 5. Deleting characters\n",
    "\n",
    "Write a function that removes all occurrences of a given letter from a string."
   ]
  },
  {
   "cell_type": "code",
   "execution_count": 0,
   "metadata": {
    "colab": {},
    "colab_type": "code",
    "collapsed": true,
    "id": "hfLjxYiBpgel"
   },
   "outputs": [],
   "source": [
    "# Your code here"
   ]
  },
  {
   "cell_type": "markdown",
   "metadata": {
    "colab_type": "text",
    "id": "PEtpsCGvpgem"
   },
   "source": [
    "## 6. Longest Homogeneous Sublist\n",
    "\n",
    "Given a list, find a longest sublist whose elements are the same. For example, given the list `[1,2,3,2,2,4,5,5,5,5,2,2]` your function should return `[5,5,5,5]`. Note that this is not the same as the mode!"
   ]
  },
  {
   "cell_type": "code",
   "execution_count": 0,
   "metadata": {
    "colab": {},
    "colab_type": "code",
    "collapsed": true,
    "id": "-r2Uq1yipgem"
   },
   "outputs": [],
   "source": [
    "# Your code here"
   ]
  },
  {
   "cell_type": "markdown",
   "metadata": {
    "colab_type": "text",
    "id": "jqbCWDnH6D3G"
   },
   "source": [
    "## 7. Modus Tollens Evaluator\n",
    "\n",
    "Recall that if an argument is valid by modus ponens, it takes the form:\n",
    "\n",
    "1. $P\\rightarrow Q$ (premise)\n",
    "2. $P$ (premise)\n",
    "3. $Q$ (conclusion)\n",
    "\n",
    "And if an argument is valid by modus tollens, it takes the form:\n",
    "\n",
    "1. $P\\rightarrow Q$ (premise)\n",
    "2. $\\neg Q$ (premise)\n",
    "3. $\\neg P$ (conclusion)\n",
    "\n",
    "Recall that in FA class session 3.1, we created a function that evaluates whether or not an argument is valid by modus ponens. One such function is provided below:"
   ]
  },
  {
   "cell_type": "code",
   "execution_count": 0,
   "metadata": {
    "colab": {},
    "colab_type": "code",
    "collapsed": true,
    "id": "MNUaFV1_6E1O"
   },
   "outputs": [],
   "source": [
    "def modus_ponens_evaluator(p1_1, p1_2, p2, c):\n",
    "    if p1_1==p2 and p1_2==c:\n",
    "        return(\"Valid by modus ponens\")\n",
    "    else:\n",
    "        return(\"Not valid by modus ponens\")\n",
    "\n",
    "p1_1 = \"one attends the school\"\n",
    "p1_2 = \"one will become a leader\"\n",
    "p2 = \"one attends the school\"\n",
    "c = \"one will not become a leader\"\n",
    "\n",
    "print(modus_ponens_evaluator(p1_1, p1_2, p2, c))"
   ]
  },
  {
   "cell_type": "markdown",
   "metadata": {
    "colab_type": "text",
    "id": "sHV_X9WO6P1r"
   },
   "source": [
    "Create a function (`modus_tollens_evaluator`) that evaluates whether or not an argument is valid by modus tollens. The test at the end of the following cell should print `True`."
   ]
  },
  {
   "cell_type": "code",
   "execution_count": 0,
   "metadata": {
    "colab": {},
    "colab_type": "code",
    "collapsed": true,
    "id": "AuqHeE2l6QTk"
   },
   "outputs": [],
   "source": [
    "def modus_tollens_evaluator(p1_1, p1_2, p2, c):\n",
    "    # fill in here\n",
    "\n",
    "    \n",
    "    \n",
    "    \n",
    "    \n",
    "    \n",
    "    # end of your code\n",
    "p1_1 = \"one attends the school\"\n",
    "p1_2 = \"one will become a leader\"\n",
    "p2 = \"it is not the case that one will become a leader\"\n",
    "c = \"it is not the case that one attends the school\"\n",
    "print(modus_tollens_evaluator(p1_1, p1_2, p2, c))"
   ]
  },
  {
   "cell_type": "markdown",
   "metadata": {
    "colab_type": "text",
    "id": "bam_JEZV6hOI"
   },
   "source": [
    "## 8. List Overlap\n",
    "\n",
    "(Adapted from [Practice Python](https://www.practicepython.org/exercise/2014/03/05/05-list-overlap.html))\n",
    "\n",
    "Given two lists containing distinct elements (no duplicates within each list), return a list containing elements that are common between the lists."
   ]
  },
  {
   "cell_type": "code",
   "execution_count": 0,
   "metadata": {
    "colab": {},
    "colab_type": "code",
    "collapsed": true,
    "id": "zPvIz0_z6hv6"
   },
   "outputs": [],
   "source": [
    "# Your code here"
   ]
  }
 ],
 "metadata": {
  "colab": {
   "collapsed_sections": [],
   "name": "SSS5 (1).ipynb",
   "provenance": [],
   "version": "0.3.2"
  },
  "kernelspec": {
   "display_name": "Python 3",
   "language": "python",
   "name": "python3"
  },
  "language_info": {
   "codemirror_mode": {
    "name": "ipython",
    "version": 3
   },
   "file_extension": ".py",
   "mimetype": "text/x-python",
   "name": "python",
   "nbconvert_exporter": "python",
   "pygments_lexer": "ipython3",
   "version": "3.6.2"
  }
 },
 "nbformat": 4,
 "nbformat_minor": 1
}
