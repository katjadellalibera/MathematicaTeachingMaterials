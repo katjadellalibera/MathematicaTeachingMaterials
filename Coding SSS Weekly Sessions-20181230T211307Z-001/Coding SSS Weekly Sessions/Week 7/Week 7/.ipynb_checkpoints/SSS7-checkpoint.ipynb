{
 "cells": [
  {
   "cell_type": "markdown",
   "metadata": {
    "colab_type": "text",
    "id": "ICEZeXEdQvX2"
   },
   "source": [
    "# SSS 7. Synthesis (Lists, Strings, Libraries, #descriptivestats, #correlation)"
   ]
  },
  {
   "cell_type": "markdown",
   "metadata": {
    "colab_type": "text",
    "id": "DYJUGHORQvX3"
   },
   "source": [
    "In this session, we continue gaining familiarity with the libraries we learned in the last sessions, practicing more on list methods, string methods, #descriptivestats, and #correlation along the way.\n"
   ]
  },
  {
   "cell_type": "markdown",
   "metadata": {
    "colab_type": "text",
    "id": "DpyP8WQV1dfr"
   },
   "source": [
    "## YOUR FIRST TASK: \n",
    "\n",
    "In the cell below, write the import statements for the libraries we used last week:\n",
    "* Import the library `csv`\n",
    "* Import the library `numpy` in a way that allows you to refer to this library as `np` in the future\n",
    "* Import the function `pyplot` from the library `matplotlib` in a way that allows you to refer to this function as `plt` in the future."
   ]
  },
  {
   "cell_type": "code",
   "execution_count": null,
   "metadata": {
    "colab": {},
    "colab_type": "code",
    "collapsed": true,
    "id": "Ps8wV-hQ2QHR"
   },
   "outputs": [],
   "source": [
    "# IMPORT EVERYTHING HERE. THIS IS IMPORTANT FOR ALL OF YOUR WORK THROUGHOUT \n",
    "# THIS SESSION.\n",
    "\n",
    "\n",
    "\n",
    "\n",
    "\n",
    "\n",
    "\n",
    "\n"
   ]
  },
  {
   "cell_type": "code",
   "execution_count": null,
   "metadata": {
    "colab": {},
    "colab_type": "code",
    "collapsed": true,
    "id": "CFwqFjH7QvX5"
   },
   "outputs": [],
   "source": [
    "# RUN THIS SET-UP CELL TOO\n",
    "%matplotlib inline\n",
    "import pandas as pd # a NEW library this week"
   ]
  },
  {
   "cell_type": "markdown",
   "metadata": {
    "colab_type": "text",
    "id": "caBxDap22f90"
   },
   "source": [
    "## YOUR SECOND TASK:\n",
    "Ask one peer tutor to check if you have imported the libraries correctly."
   ]
  },
  {
   "cell_type": "markdown",
   "metadata": {
    "colab_type": "text",
    "id": "inihdkLPQvX9"
   },
   "source": [
    "# Table of Contents\n",
    "* [A. Python Lab](#A.-Python-Lab)\n",
    "    * [Cleaning Data](#Cleaning-Data)\n",
    "\t* [Analyzing Data](#Analyzing-Data)\n",
    "    * [Visualizing Data](#Visualizing-Data)\n",
    "    * [Random Library](#Random-Library)\n",
    "* [B. Exercises](#B.-Exercise)"
   ]
  },
  {
   "cell_type": "markdown",
   "metadata": {
    "colab_type": "text",
    "id": "4ewK6dKyQvX-"
   },
   "source": [
    "# A. Python Lab\n",
    "\n",
    "In this session we will work mainly with the data set \"Where it pays to attend college\", downloaded from [Kaggle](https://www.kaggle.com/wsj/college-salaries#salaries-by-region.csv). This data set lists salaries of graduates from many US colleges by schools and regions (California, Western, Southern, etc.). The data set is in .csv format and is already in the zip file you downloaded."
   ]
  },
  {
   "cell_type": "markdown",
   "metadata": {
    "colab_type": "text",
    "id": "SKXknECiQvX_"
   },
   "source": [
    "## Cleaning Data \n",
    "\n",
    "*This section is to practice strings and lists manipulation.*\n",
    "\n",
    "Before working with the data, we need to load it into Python. Can you fill in the code below to load the data set using the `csv` library like we did last week? \n",
    "\n"
   ]
  },
  {
   "cell_type": "code",
   "execution_count": null,
   "metadata": {
    "colab": {},
    "colab_type": "code",
    "collapsed": true,
    "id": "IKJ-gpm0QvYA"
   },
   "outputs": [],
   "source": [
    "file = csv.reader(open('')) # fill in the file name in this line\n",
    "\n",
    "schools = []\n",
    "regions = []\n",
    "start_med = [] # starting median salary\n",
    "mid_med = [] # mid-career median salary\n",
    "\n",
    "for row in file:\n",
    "    schools.append(row[0])\n",
    "    regions.append(row[1])\n",
    "    start_med.append(row[2])\n",
    "    mid_med.append(row[3])\n"
   ]
  },
  {
   "cell_type": "markdown",
   "metadata": {
    "colab_type": "text",
    "id": "htVULTYBQvYC"
   },
   "source": [
    "The variables `schools`, `regions`, `start_med`, and `mid_med` are the lists that contain the names of schools, the regions, the starting median salary, and the mid-career median salary, respectively. It is always good to view the actual values of the data set, so let's print out the 4 lists"
   ]
  },
  {
   "cell_type": "code",
   "execution_count": null,
   "metadata": {
    "colab": {},
    "colab_type": "code",
    "collapsed": true,
    "id": "_o4i1ua8QvYC"
   },
   "outputs": [],
   "source": [
    "# Run this cell \n",
    "print('List of schools:', schools)\n",
    "print('List of regions:', regions)\n",
    "print('List of starting median salary:', start_med)\n",
    "print('List of mid-career median salary:', mid_med)"
   ]
  },
  {
   "cell_type": "markdown",
   "metadata": {
    "colab_type": "text",
    "id": "_2hDqV2VQvYE"
   },
   "source": [
    "That is a mess, since ours is a very big data set. Do you think you could modify the below cell so that it only prints the first 10 elements of each list? (*Hint: slicing*)"
   ]
  },
  {
   "cell_type": "code",
   "execution_count": null,
   "metadata": {
    "colab": {},
    "colab_type": "code",
    "collapsed": true,
    "id": "lK-vtYiKQvYF"
   },
   "outputs": [],
   "source": [
    "# Modify this cell for a neater data preview\n",
    "print('List of the first 10 schools:', schools)\n",
    "print('List of the first 10 regions:', regions)\n",
    "print('List of the first 10 starting median salaries:', start_med)\n",
    "print('List of the first 10 mid-career median salaries:', mid_med)"
   ]
  },
  {
   "cell_type": "markdown",
   "metadata": {
    "colab_type": "text",
    "id": "rndqu801QvYK"
   },
   "source": [
    "If you did it correctly, the three printed lists should look like this:\n",
    "\n",
    "`List of the first 10 schools: ['school', 'Stanford University', 'California Institute of Technology (CIT)', 'Harvey Mudd College', 'University of California, Berkeley', 'Occidental College', 'Cal Poly San Luis Obispo', 'University of California at Los Angeles (UCLA)', 'University of California, San Diego (UCSD)', 'Pomona College']`\n",
    "\n",
    "`List of the first 10 regions: ['region', 'California', 'California', 'California', 'California', 'California', 'California', 'California', 'California', 'California']`\n",
    "\n",
    "`List of the first 10 starting median salaries: ['start_med', '$70,400.00', '$75,500.00', '$71,800.00', '$59,900.00', '$51,900.00', '$57,200.00', '$52,600.00', '$51,100.00', '$48,600.00']`\n",
    "\n",
    "`List of the first 10 mid-career median salaries: ['mid_med', '$129,000.00 ', '$123,000.00 ', '$122,000.00 ', '$112,000.00 ', '$105,000.00 ', '$101,000.00 ', '$101,000.00 ', '$101,000.00 ', '$101,000.00 ']`\n",
    "\n",
    "Recall the problem that we discovered last week: the first element of each list should not be part of the processed data. For example, the first element of `schools` is `'school'`, which is just a header for a data column and not an actual name of a school. You can modify the below cell to delete the first element of each list. (*Hint: Google 'python remove first element from a list'*)"
   ]
  },
  {
   "cell_type": "code",
   "execution_count": null,
   "metadata": {
    "colab": {},
    "colab_type": "code",
    "collapsed": true,
    "id": "ECa8x-PpQvYL"
   },
   "outputs": [],
   "source": [
    "# Modify this cell to remove the first element of each list. \n"
   ]
  },
  {
   "cell_type": "markdown",
   "metadata": {
    "colab_type": "text",
    "id": "c9zQFVwNQvYN"
   },
   "source": [
    "If we load the data set using the `pandas` library, it provides us with a direct way to view the data set."
   ]
  },
  {
   "cell_type": "code",
   "execution_count": null,
   "metadata": {
    "colab": {},
    "colab_type": "code",
    "id": "psmUTxIEQvYN"
   },
   "outputs": [],
   "source": [
    "# Run this cell\n",
    "import pandas as pd\n",
    "df = pd.read_csv(\"./salaries-by-region.csv\", sep=',')\n",
    "df.head(10)"
   ]
  },
  {
   "cell_type": "markdown",
   "metadata": {
    "colab_type": "text",
    "id": "vUTlwobcQvYR"
   },
   "source": [
    "See how great pandas can be? Note: pandas = \"Python Data Analysis Library,” not the cute fluffy black and white bears. \n",
    "\n",
    "![panda](images/panda.jpg)\n",
    "\n",
    "After loading the data and having a quick view, the next step is to check **data types**. Recall that in Python, this check can be done with the `type` function:"
   ]
  },
  {
   "cell_type": "code",
   "execution_count": null,
   "metadata": {
    "colab": {},
    "colab_type": "code",
    "collapsed": true,
    "id": "LJVZArlFQvYS"
   },
   "outputs": [],
   "source": [
    "# Run this cell\n",
    "print(type(schools[0])) # This will print the data type of the first element of \n",
    "                        # schools. But since all the elements in this list \n",
    "                        # should be of the same type, this represents the data \n",
    "                        # type of the whole list. \n",
    "print(type(regions[0]))\n",
    "print(type(start_med[0]))\n",
    "print(type(mid_med[0]))\n"
   ]
  },
  {
   "cell_type": "markdown",
   "metadata": {
    "colab_type": "text",
    "id": "7J7iG6iaQvYT"
   },
   "source": [
    "As you can see, the elements of all four lists are strings. That is **not** OK for the `start_med` and `mid_med` lists!! What if we want to compute the mean or the standard deviation of the starting median? Clearly, we cannot perform math operations on strings, so we need to convert them into floating point number data type (`float`) (You may need to do this for your FA assignments as well). Fill in the code below to do so."
   ]
  },
  {
   "cell_type": "code",
   "execution_count": null,
   "metadata": {
    "colab": {},
    "colab_type": "code",
    "collapsed": true,
    "id": "EwRHL55kQvYT"
   },
   "outputs": [],
   "source": [
    "for i in range(len(start_med)): # for each index of the start_med list\n",
    "    start_med[i] = start_med[i].replace('$','') # delete the Dollar sign $\n",
    "    start_med[i] = start_med[i].replace(',','') # delete the comma sign in the number\n",
    "    # Your code here to convert start_med[i] to float. This should be only one line of code\n",
    "\n",
    "    # end of your code\n",
    "    \n",
    "    mid_med[i] = mid_med[i].replace('$','') # delete the Dollar sign $\n",
    "    mid_med[i] = mid_med[i].replace(',','') # delete the comma sign in the number\n",
    "    # Your code here to convert mid_med[i] to float. This should be only one line of code\n",
    "\n",
    "    # end of your code\n",
    "\n",
    "print(type(start_med[0])) # this should print <class 'float'>\n",
    "print(type(mid_med[0])) # this should also print <class 'float'>"
   ]
  },
  {
   "cell_type": "markdown",
   "metadata": {
    "colab_type": "text",
    "id": "voglVXpGQvYV"
   },
   "source": [
    "## Analyzing Data\n",
    "\n",
    "*This section is to practice using libraries and reading their documentation*\n",
    "\n",
    "Now after we have cleaned our data and have the lists `start_med` and `mid_med` ready for any numerical operations, let's proceed to analyze the data, using our knowledge about #descriptivestats and #correlation from FA.\n",
    "\n",
    "First, use the `numpy` library to calculate the mean, median, and standard deviation of both `start_med` and `mid_med`. Feel free to google the syntax of functions you don't remember."
   ]
  },
  {
   "cell_type": "code",
   "execution_count": null,
   "metadata": {
    "colab": {},
    "colab_type": "code",
    "collapsed": true,
    "id": "BrSRj0t2QvYV"
   },
   "outputs": [],
   "source": [
    "import numpy as np\n",
    "# Your code here to compute mean, median, and SD\n",
    "mean_start_med = \n",
    "median_start_med = \n",
    "sd_start_med = \n",
    "\n",
    "mean_mid_med = \n",
    "median_mid_med = \n",
    "sd_mid_med = \n",
    "\n",
    "print(mean_start_med) # should print ~ 46253.4\n",
    "print(median_start_med) # should print ~ 45100\n",
    "print(sd_start_med) # should print ~ 6606.7\n",
    "print(mean_mid_med) # should print ~ 83934.4\n",
    "print(median_mid_med) # should print 82700\n",
    "print(sd_mid_med) # should print 15167.7"
   ]
  },
  {
   "cell_type": "markdown",
   "metadata": {
    "colab_type": "text",
    "id": "TYBorTL2QvYW"
   },
   "source": [
    "What about the mode? Recall that the module `stats` from the library `SciPy` can help us with that. The code below is to compute the modes of `start_med` and `mid_med`. "
   ]
  },
  {
   "cell_type": "code",
   "execution_count": null,
   "metadata": {
    "colab": {},
    "colab_type": "code",
    "collapsed": true,
    "id": "4R98MuyPQvYX"
   },
   "outputs": [],
   "source": [
    "from scipy import stats\n",
    "\n",
    "mode_start_med = stats.mode(start_med)[0][0]\n",
    "mode_mid_med = stats.mode(mid_med)[0][0]\n",
    "\n",
    "print(mode_start_med)\n",
    "print(mode_mid_med)"
   ]
  },
  {
   "cell_type": "markdown",
   "metadata": {
    "colab_type": "text",
    "id": "EfcZzFx3QvYa"
   },
   "source": [
    "Examine the [documentation for the function `stats.mode`](https://docs.scipy.org/doc/scipy-0.19.0/reference/generated/scipy.stats.mode.html) and explain why in the code above we need to append `[0][0]` to every call to `stats.mode` (This is what you should **ALWAYS** do if you plan to use available libraries to aid you with computing descriptive stats in your assignments ). "
   ]
  },
  {
   "cell_type": "markdown",
   "metadata": {
    "colab_type": "text",
    "id": "MYvn1RIaQvYb"
   },
   "source": [
    "**Your answer here:**"
   ]
  },
  {
   "cell_type": "markdown",
   "metadata": {
    "colab_type": "text",
    "id": "UtyFG_I3QvYb"
   },
   "source": [
    "Next, calculate the quantity $mean-median$ for both of the lists `start_med` and `mid_med`. "
   ]
  },
  {
   "cell_type": "code",
   "execution_count": null,
   "metadata": {
    "colab": {},
    "colab_type": "code",
    "collapsed": true,
    "id": "GYZgVv6ZQvYc"
   },
   "outputs": [],
   "source": [
    "# Your code here\n"
   ]
  },
  {
   "cell_type": "markdown",
   "metadata": {
    "colab_type": "text",
    "id": "RyAuazvbQvYd"
   },
   "source": [
    "From what you've computed, decribe what you expect the histograms for the two lists would look like."
   ]
  },
  {
   "cell_type": "markdown",
   "metadata": {
    "colab_type": "text",
    "id": "BR4aykU3QvYe"
   },
   "source": [
    "**Your answer here:**"
   ]
  },
  {
   "cell_type": "markdown",
   "metadata": {
    "colab_type": "text",
    "id": "hhpdZ9sxQvYe"
   },
   "source": [
    "## Visualizing Data\n",
    "\n",
    "*This section is to practice using the matplotlib library and review **#correlation***\n",
    "\n",
    "We will now create the histograms for `start_med` and `mid_med`. This is done for you in the cell below. Your tasks are:\n",
    "\n",
    "* Add title and axis labels for the plots\n",
    "* Experiment with the number of bins\n",
    "* Compare what you see with your prediction in the last question "
   ]
  },
  {
   "cell_type": "code",
   "execution_count": null,
   "metadata": {
    "colab": {},
    "colab_type": "code",
    "collapsed": true,
    "id": "4m85uS18QvYe"
   },
   "outputs": [],
   "source": [
    "import matplotlib.pyplot as plt\n",
    "plt.hist(start_med, 5) # the second argument is the number of bins"
   ]
  },
  {
   "cell_type": "code",
   "execution_count": null,
   "metadata": {
    "colab": {},
    "colab_type": "code",
    "collapsed": true,
    "id": "Z1WhOsbTQvYg"
   },
   "outputs": [],
   "source": [
    "import matplotlib.pyplot as plt\n",
    "plt.hist(mid_med,5) # the second argument is the number of bins"
   ]
  },
  {
   "cell_type": "markdown",
   "metadata": {
    "colab_type": "text",
    "id": "hwieNgPrQvYi"
   },
   "source": [
    "Are the starting median salary and mid-career salary correlated? To answer this question, let us plot the scatter plot with starting median salary and mid-career salary as our two variables. Modify the cell below to do so. Don't forget the title and labels! "
   ]
  },
  {
   "cell_type": "code",
   "execution_count": null,
   "metadata": {
    "colab": {},
    "colab_type": "code",
    "collapsed": true,
    "id": "CPPdZkN-QvYj"
   },
   "outputs": [],
   "source": [
    "plt.scatter() # fill in the arguments for this function\n",
    "plt.title() # fill in to set title for the plot\n",
    "plt.xlabel() # fill in to set the label for the x axis\n",
    "plt.ylabel() # fill in to set the label for the y axis\n",
    "plt.show()"
   ]
  },
  {
   "cell_type": "markdown",
   "metadata": {
    "colab_type": "text",
    "id": "c0XdHD_vQvYl"
   },
   "source": [
    "We will now further review homoscedasticity, an important concept in correlation."
   ]
  },
  {
   "cell_type": "markdown",
   "metadata": {
    "colab_type": "text",
    "id": "eVURUOFrQvYl"
   },
   "source": [
    "### Homoscedasticity and Heteroscedasticity\n",
    "\n",
    "When given a scatter plot for values of Y and X, we can imagine sliding a vertical window along the X axis and examine the standard deviation of the values of Y in each window. If the standard deviations stay roughly the same through all the windows, the data is homoscedastic.  If there are a great variation in the standard deviations, then the data is heteroscedastic. Also recall that standard deviation is a measure of show spread out the data are. The below images help explain these concepts.\n",
    "![homoscedasticity](images/homo.png) ![heteroscedasticity](images/hetero.png)\n",
    "\n",
    "The scatter plot for starting median salary and mid-career median salary is generated below. Does it depict homoscedasticity or heteroscedasticity? What is your justification?"
   ]
  },
  {
   "cell_type": "code",
   "execution_count": null,
   "metadata": {
    "colab": {},
    "colab_type": "code",
    "collapsed": true,
    "id": "HO-v59u6QvYm"
   },
   "outputs": [],
   "source": [
    "plt.scatter(start_med, mid_med)\n",
    "plt.show()"
   ]
  },
  {
   "cell_type": "markdown",
   "metadata": {
    "colab_type": "text",
    "id": "SXlAJnXHQvYy"
   },
   "source": [
    "What is your overall comment on the relationship between starting median salary and mid-career median salary? Does it make sense? Is any causation implied?"
   ]
  },
  {
   "cell_type": "markdown",
   "metadata": {
    "colab_type": "text",
    "id": "ugLiiR9dQvYz"
   },
   "source": [
    "**Your answer here:**"
   ]
  },
  {
   "cell_type": "markdown",
   "metadata": {
    "colab_type": "text",
    "id": "lvXoN480xquL"
   },
   "source": [
    "## Random Library\n",
    "\n",
    "*This is a super brief intro to `random` library which you need to use next week for **#simulation** and **#probability***\n",
    "\n",
    "A lot of functions in the `random` library are helpful when we deal with simulations and probability. For example, it can generate a random number between 0 and 1, choose a random element of a list, or shuffle a given list: "
   ]
  },
  {
   "cell_type": "code",
   "execution_count": null,
   "metadata": {
    "colab": {},
    "colab_type": "code",
    "collapsed": true,
    "id": "sg1ZrzFCxquM"
   },
   "outputs": [],
   "source": [
    "import random\n",
    "print(random.random()) # generates a random number between 0 and 1\n",
    "print(random.choice([1,2,3])) # picks 1, 2, or 3 randomly\n",
    "A = [4,5,6,7,8,9]\n",
    "random.shuffle(A) # shuffles list A \n",
    "print(A)"
   ]
  },
  {
   "cell_type": "markdown",
   "metadata": {
    "colab_type": "text",
    "id": "W4aHYoCsxquP"
   },
   "source": [
    "Question: What is the probability that `random.random()` gives a number less than 0.3?"
   ]
  },
  {
   "cell_type": "markdown",
   "metadata": {
    "colab_type": "text",
    "id": "SlYlwgNwxquP"
   },
   "source": [
    "**Your answer here:**"
   ]
  },
  {
   "cell_type": "markdown",
   "metadata": {
    "colab_type": "text",
    "id": "GHQNYLAoQvYz"
   },
   "source": [
    "# B. Exercise"
   ]
  },
  {
   "cell_type": "markdown",
   "metadata": {
    "colab_type": "text",
    "id": "osWf6zZQQvYz"
   },
   "source": [
    "## Exercise 1. Standard Deviation From Scratch\n",
    "\n",
    "Recall that the formula for standard deviation of the data set $\\{x_1,x_2,x_3,...,x_n\\}$ is:\n",
    "\n",
    "$$SD=\\sqrt{\\frac{({x_{1}-\\overline{x})}^{2}+({x_{2}-\\overline{x})}^{2}+({x_{3}-\\overline{x})}^{2}+\\cdot\\cdot\\cdot+({x_{n}-\\overline{x})}^{2}}{n}}$$\n",
    "\n",
    "where $\\overline{x}$ is the mean of the data set and is given by:\n",
    "$$\\overline{x}=\\frac{x_{1}+x_{2}+x_{3}+...+x_{n}}{n}$$\n",
    "\n",
    "Calculate the standard deviation of starting median salaries of all schools in `salaries-by-region.csv` using Python functions that you **create yourself**. To see if you did it correctly, compare what your function returns with that of `np.std`."
   ]
  },
  {
   "cell_type": "code",
   "execution_count": null,
   "metadata": {
    "colab": {},
    "colab_type": "code",
    "collapsed": true,
    "id": "w6Jz_itiQvY0"
   },
   "outputs": [],
   "source": [
    "import numpy as np\n",
    "# Your code here"
   ]
  },
  {
   "cell_type": "markdown",
   "metadata": {
    "colab_type": "text",
    "id": "_kF1hWY0QvY1"
   },
   "source": [
    "## Exercise 2. Outliers\n",
    "\n",
    "Recognizing if bivariate data is \"football-shaped\" is important in describing the type and the strength of association of the two variables (more on this in the spring term.) If a scatterplot does not show nonlinearity, heteroscedasticity, or outliers, it is \"football-shaped.\" \n",
    "\n",
    "In the lab we've explored heteroscedasticity. In this exercise, we will write a function that helps us spot outliers (if any) in a data set. \n",
    "\n",
    "According to [SticiGui](https://www.stat.berkeley.edu/~stark/SticiGui/Text/correlation.htm), \"a datum that does not fit the overall pattern in the data or that is many SD from the other data in at least one of its coordinates is called an **outlier**.\" We will use the second criteria (\"[being] many SD from the other data in at least one of its coordinates\") in creating our function. \n",
    "\n",
    "Write a Python function that receives two lists of the same length that represent two variables X and Y. The elements at the same index in two list form a data point in the scatter plot for the two variables. The function returns the number of outliers in the scatter plot. For the purpose of this activity, a data point (x,y) is considered an outlier if x is 2.5 standard deviations away from the mean of X **or** if y is 2.5 standard deviations away from the mean of Y. Feel free to use library functions in this exercise."
   ]
  },
  {
   "cell_type": "code",
   "execution_count": null,
   "metadata": {
    "colab": {},
    "colab_type": "code",
    "collapsed": true,
    "id": "1rfFbjLCQvY1"
   },
   "outputs": [],
   "source": [
    "# Your code here"
   ]
  },
  {
   "cell_type": "markdown",
   "metadata": {
    "colab_type": "text",
    "id": "lXk7ny15QvY2"
   },
   "source": [
    "## Exercise 3. It's John Again (Review from SSS6)\n",
    "\n",
    "Remember our friend John, a data scientist who is interested in his friend's ice-cream consumption? He is now interested to know if there is any association between how old we are and the amount of ice-cream we eat per month. Make a scatter plot for the two variables (age and ice-cream consumption), using the csv file `student_data.csv`. Follow these steps:\n",
    "1. Load the data using the `csv` library\n",
    "2. Read and store data in lists\n",
    "3. Data type check \n",
    "4. Generate the scatter plot using `plt.scatter` (Don't forget the title and labels)"
   ]
  },
  {
   "cell_type": "code",
   "execution_count": null,
   "metadata": {
    "colab": {},
    "colab_type": "code",
    "collapsed": true,
    "id": "xk7wgmYgQvY2"
   },
   "outputs": [],
   "source": [
    "import csv \n",
    "import matplotlib.pyplot as plt\n",
    "# Your code here "
   ]
  },
  {
   "cell_type": "markdown",
   "metadata": {
    "colab_type": "text",
    "id": "qq43m6P_xquX"
   },
   "source": [
    "## [Optional] Exercise 4. Frequentist You\n",
    "\n",
    "From a frequentist point of view, how would you test your answer to the question in the lab \"What is the probability that `random.random()` gives a number less than 0.3?\" Run the actual test."
   ]
  },
  {
   "cell_type": "code",
   "execution_count": null,
   "metadata": {
    "colab": {},
    "colab_type": "code",
    "collapsed": true,
    "id": "sn-AMz6IxquX"
   },
   "outputs": [],
   "source": [
    "# Your code here"
   ]
  },
  {
   "cell_type": "markdown",
   "metadata": {
    "colab_type": "text",
    "id": "8StsBGRyQvY6"
   },
   "source": [
    "## [Optional] Exercise 5. The Monotonous Numbers\n",
    "\n",
    "Suppose a positive integer is called a \"monotonous number\" if its digits form a list of non-decreasing 1-digit numbers from left to right. For example, 15779 is a monotonous number because $1\\leq5\\leq7\\leq7\\leq9$. Write a function that checks if a positive integer is a monotonous number."
   ]
  },
  {
   "cell_type": "code",
   "execution_count": null,
   "metadata": {
    "colab": {},
    "colab_type": "code",
    "collapsed": true,
    "id": "B0k8n6oDQvY6"
   },
   "outputs": [],
   "source": [
    "# Your code here"
   ]
  },
  {
   "cell_type": "markdown",
   "metadata": {
    "colab_type": "text",
    "id": "mIER9RS2QvY7"
   },
   "source": [
    "## [Optional] Exercise 6. The Magic Numbers\n",
    "\n",
    "Suppose a positive integer is called a \"magic number\" if it is created from three numbers 2, 25, and 255 (a magic number is not necessarily created by all of those three numbers). For example, 252 is a magic number, since it is created from numbers 25 and 2. Write a function that checks if a positive integer is a magic number."
   ]
  },
  {
   "cell_type": "code",
   "execution_count": null,
   "metadata": {
    "colab": {},
    "colab_type": "code",
    "collapsed": true,
    "id": "susEawSNQvY7"
   },
   "outputs": [],
   "source": [
    "# Your code here"
   ]
  }
 ],
 "metadata": {
  "colab": {
   "collapsed_sections": [],
   "name": "SSS7.ipynb",
   "provenance": [],
   "version": "0.3.2"
  },
  "kernelspec": {
   "display_name": "Python 3",
   "language": "python",
   "name": "python3"
  },
  "language_info": {
   "codemirror_mode": {
    "name": "ipython",
    "version": 3
   },
   "file_extension": ".py",
   "mimetype": "text/x-python",
   "name": "python",
   "nbconvert_exporter": "python",
   "pygments_lexer": "ipython3",
   "version": "3.6.2"
  }
 },
 "nbformat": 4,
 "nbformat_minor": 1
}
