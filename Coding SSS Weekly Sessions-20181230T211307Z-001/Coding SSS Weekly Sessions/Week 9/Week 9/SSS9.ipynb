{
 "cells": [
  {
   "cell_type": "markdown",
   "metadata": {
    "colab_type": "text",
    "id": "ICEZeXEdQvX2"
   },
   "source": [
    "# SSS 9. #distributions and #simulation"
   ]
  },
  {
   "cell_type": "markdown",
   "metadata": {
    "colab_type": "text",
    "id": "DYJUGHORQvX3"
   },
   "source": [
    "The main goal for today's session is to practice #simulation and #distributions in Python. To do so, we make use of the SciPy library. We will also review some fundamental coding concepts (loops, functions, accumulator pattern, etc.) along the way."
   ]
  },
  {
   "cell_type": "markdown",
   "metadata": {
    "colab_type": "text",
    "id": "inihdkLPQvX9"
   },
   "source": [
    "# Table of Contents\n",
    "* [A. Python Lab:](#A.-Python-Lab)\n",
    "    * [The SciPy Library](#The-SciPy-Library)\n",
    "        * [stats.geom.pmf and stats.binom.pmf](#stats.geom.pmf-and-stats.binom.pmf)\n",
    "        * [z-score and stats.norm.cdf](#z-score-and-stats.norm.cdf)\n",
    "    * [Sampling from a Population](#Sampling-from-a-Population)\n",
    "* [B. Exercises](#B.-Exercise)"
   ]
  },
  {
   "cell_type": "markdown",
   "metadata": {
    "colab_type": "text",
    "id": "4ewK6dKyQvX-"
   },
   "source": [
    "# A. Python Lab\n",
    "\n",
    "*BACK STORY: Throughout this section we will work on a problem adapted from [this blog](http://corysimon.github.io/articles/by-how-many-flights-should-an-airline-overbook/). You are highly encouraged to work through the example in that article in your own time as it is a good problem that puts all of the concepts we learn in this unit into practice (probability, expected value, binomial distribution, conditional probability, etc.)*\n",
    "\n",
    "There is a nonzero probability that travellers will miss their booked flight due to missed connections or other situations. Given that, consider an airplane with 100 seats. If the airline sells 100 tickets but fewer than 100 passengers show up, the airline incurs an opportunity cost of lost revenue from the no-show customers. Therefore, the airline actually wants to overbook the flight. However, if it overbooks by too much and more than 100 passengers show up, it must fork out costly vouchers and hotel rooms to the passengers that get bumped from the flight, which decreases revenue. **By how many cutomers should the airplane overbook?** We will not answer this big question in this session, but we will partly analyze the decision of selling 120 tickets. We'll come back to this problem next week.\n",
    "\n",
    "## The SciPy Library\n",
    "\n",
    "To explore this problem in Python we'll import the SciPy library for scientific computing. Note that we'll use the [scipy.stats](https://docs.scipy.org/doc/scipy/reference/tutorial/stats.html) package extensively throughout the FA statistics unit.\n",
    "\n",
    "Before exploring what we can do with `scipy.stats`, let's recall that we've seen this library already when we had to compute the mode of a list. Fill in the cell below to print the mode of list A."
   ]
  },
  {
   "cell_type": "code",
   "execution_count": 0,
   "metadata": {
    "colab": {},
    "colab_type": "code",
    "collapsed": true,
    "id": "WJvunIEyQnOM"
   },
   "outputs": [],
   "source": [
    "# First, import the module stats from scipy\n",
    "\n",
    "A = [105, 109, 102, 105, 106, 108, 105, 107, 108, 110, 104, \n",
    "     113, 111, 111, 104, 105, 104, 112, 114, 110, 108, 105, \n",
    "     105, 110, 107, 114, 106, 106, 111, 105, 105, 111, 105, \n",
    "     110, 110, 107, 111, 110, 111, 106, 109, 113, 106, 113, \n",
    "     110, 110, 107, 111, 109, 110, 110, 111, 111, 108, 107, \n",
    "     110, 102, 105, 109, 109, 110, 104, 101, 101, 106, 107, \n",
    "     107, 106, 114, 113, 104, 108, 111, 100, 110, 104, 111]\n",
    "# compute the mode of A here, recall that the module stats has function mode\n",
    "\n"
   ]
  },
  {
   "cell_type": "markdown",
   "metadata": {
    "colab_type": "text",
    "id": "Xuw1R_tHQnOR"
   },
   "source": [
    "### stats.geom.pmf and stats.binom.pmf\n",
    "In the pre-class work from FA session 9.1, we saw that SciPy is also used to compute probability associated with binomial and geometric distributions. The code for the pre-class work is reprinted below:"
   ]
  },
  {
   "cell_type": "code",
   "execution_count": 0,
   "metadata": {
    "colab": {},
    "colab_type": "code",
    "collapsed": true,
    "id": "-Ugwk3zZQnOS"
   },
   "outputs": [],
   "source": [
    "# Geometric Distribution\n",
    "p = 0.4 \n",
    "n = 5\n",
    "print(\"Probability of first success on the\",n,\"th trial:\",stats.geom.pmf(n,p),\"\\n\")\n",
    "# Binomial Distribution\n",
    "p = 0.4 \n",
    "n = 100\n",
    "k = 45\n",
    "print(\"Probability of\",k,\"success in\",n,\"trials:\",stats.binom.pmf(k,n,p),\"\\n\")\n",
    "\n"
   ]
  },
  {
   "cell_type": "markdown",
   "metadata": {
    "colab_type": "text",
    "id": "IOjE9bIhQnOY"
   },
   "source": [
    "Suppose that for each customer, **there is a 90% chance that they will show up to their flight**. Further assume that this chance is independent among the customers. What is the probability that among the 120 customers who booked the flight, no one shows up? Store the result in variable `prob1`. Be sure that you use the correct distribution (binomial vs. geometric)."
   ]
  },
  {
   "cell_type": "code",
   "execution_count": 0,
   "metadata": {
    "colab": {},
    "colab_type": "code",
    "collapsed": true,
    "id": "VyyLtBrDQnOZ"
   },
   "outputs": [],
   "source": [
    "prob1 = # Your code here"
   ]
  },
  {
   "cell_type": "markdown",
   "metadata": {
    "colab_type": "text",
    "id": "DvEX2zOlQnOb"
   },
   "source": [
    "What is the probability that among the 120 customers who booked the flight, exactly 100 customers show up? Store the result in variable `prob2`."
   ]
  },
  {
   "cell_type": "code",
   "execution_count": 0,
   "metadata": {
    "colab": {},
    "colab_type": "code",
    "collapsed": true,
    "id": "solkdgiSQnOc"
   },
   "outputs": [],
   "source": [
    "prob2 = # Your code here"
   ]
  },
  {
   "cell_type": "markdown",
   "metadata": {
    "colab_type": "text",
    "id": "1Siql4NbQnOf"
   },
   "source": [
    "We will now compare `prob1` and `prob2` with the analytical formulas in the textbook. Recall that if the probability of a success in one trial is $p$ and the probability of a failure is $1-p$:\n",
    "* (geometric distribution) the probability of finding the first success in the $n^{th}$ trial is given by\n",
    "$$(1-p)^{n-1}p$$\n",
    "* (binomial distribution) the probability of observing exactly $k$ successes in $n$ independent trials is given by:\n",
    "$$\\frac{n!}{k!(n-k)!}p^k(1-p)^{n-k} $$\n",
    "\n",
    "You are given the function `factorial` that calculates the factorial of a given integer below. Use that function to create two other functions, `my_geom` and `my_binom`, that compute the corresponding probabilities using the two formula above."
   ]
  },
  {
   "cell_type": "code",
   "execution_count": 0,
   "metadata": {
    "colab": {},
    "colab_type": "code",
    "collapsed": true,
    "id": "n6vTaDa_QnOg"
   },
   "outputs": [],
   "source": [
    "def factorial(n):\n",
    "    if n==0:\n",
    "        return 1\n",
    "    out = 1\n",
    "    for i in range(1,n+1):\n",
    "        out = out*i\n",
    "    return out\n",
    "\n",
    "def my_geom(p,n):\n",
    "    # Your 1 line of code here\n",
    "\n",
    "def my_binom(k,n,p):\n",
    "    # Your 1 line of code here   \n"
   ]
  },
  {
   "cell_type": "markdown",
   "metadata": {
    "colab_type": "text",
    "id": "FEYeO3pFQnOi"
   },
   "source": [
    "Use one of the two functions above (depending on which distribution you chose to compute `prob1` and `prob2`) to check if your `prob1` and `prob2` are correct according to the formula in the textbook. There is one catch: if you use the `==` statement to check, it surely returns `False` due to precision and rounding issues with floating point numbers. So we only want to compare the two numbers up to a certain number of fractional digits. Recall that in SSS1, we have the following function that does the exact same job:"
   ]
  },
  {
   "cell_type": "code",
   "execution_count": 0,
   "metadata": {
    "colab": {},
    "colab_type": "code",
    "collapsed": true,
    "id": "LQYW0xQAQnOj"
   },
   "outputs": [],
   "source": [
    "def equal_check(x,y):\n",
    "    \"\"\"Check if two numbers are equal up to 3 decimal digits\"\"\"\n",
    "    if x-y<0:\n",
    "        return (y-x)<.0001\n",
    "    else:\n",
    "        return (x-y)<.0001\n",
    "print(equal_check(0.1111,0.1112))"
   ]
  },
  {
   "cell_type": "markdown",
   "metadata": {
    "colab_type": "text",
    "id": "to7jtaiHQnOl"
   },
   "source": [
    "Use that function to do the check."
   ]
  },
  {
   "cell_type": "code",
   "execution_count": 0,
   "metadata": {
    "colab": {},
    "colab_type": "code",
    "collapsed": true,
    "id": "fj2msOfQQnOm"
   },
   "outputs": [],
   "source": [
    "# Your code here, using equal_check\n",
    "\n"
   ]
  },
  {
   "cell_type": "markdown",
   "metadata": {
    "colab_type": "text",
    "id": "HXScOZlvQnOn"
   },
   "source": [
    "The airline wants to know the probability that fewer than 100 customers show up. To compute this probability, we can compute the probabilities that exactly 0 customers show up, 1 customers shows up, 2 customers show up, etc., all the way to 99 customers, then add up these results. The code given below is doing just this:"
   ]
  },
  {
   "cell_type": "code",
   "execution_count": 0,
   "metadata": {
    "colab": {},
    "colab_type": "code",
    "collapsed": true,
    "id": "3p3Q3rrSQnOn"
   },
   "outputs": [],
   "source": [
    "prob = 0 #initialize the sum probabilities\n",
    "for i in range(100): # i = 0, 1, 2, ... , 99\n",
    "    prob = prob + stats.binom.pmf(i,120,0.9) # update prob\n",
    "print(prob)    "
   ]
  },
  {
   "cell_type": "markdown",
   "metadata": {
    "colab_type": "text",
    "id": "yyZJeoSUQnOq"
   },
   "source": [
    "The airline suspects that if the number of customers showing up is between 70 and 110, they will surely make profit, so the airline is interested in the probability that 70 to 110 customers show up. Use code to compute that probability in the cell below."
   ]
  },
  {
   "cell_type": "code",
   "execution_count": 0,
   "metadata": {
    "colab": {},
    "colab_type": "code",
    "collapsed": true,
    "id": "4Abx0ER1QnOr"
   },
   "outputs": [],
   "source": [
    "# Your code here"
   ]
  },
  {
   "cell_type": "markdown",
   "metadata": {
    "colab_type": "text",
    "id": "XxmPS_ENQnOs"
   },
   "source": [
    "If you've done everything correctly, you should get a probability of around **0.77**."
   ]
  },
  {
   "cell_type": "markdown",
   "metadata": {
    "colab_type": "text",
    "id": "felpjwywQnOs"
   },
   "source": [
    "\n",
    "\n",
    "### z-score and stats.norm.cdf\n",
    "\n",
    "However, calculating the probability by adding all the component probabilities this way is cumbersome (especially if you do it by hand). Recall that to have an easier computation, we can approximate normal distribution to the binomial distribution. We can make this approximation because the following conditions for doing so are satisfied:\n",
    "* np > 10 (since np = 120 * 0.9 = 108 > 10)\n",
    "* n(1-p) > 10  (since n(1-p) = 120 * 0.1 = 12 > 10)\n",
    "\n",
    "This approximated normal distribution has the mean of $\\mu = np=108$ and the standard deviation of $\\sigma = \\sqrt{np(1-p)} = 3.28633$. \n",
    "\n",
    "We can use this normal distribution to approximate the probability that fewer than or exactly 100 customers show up. Another thing worth noting is that for binomial model, normal approximation may fail with small intervals. But our interval is from 0 to 100, so that is not a concern. "
   ]
  },
  {
   "cell_type": "code",
   "execution_count": 0,
   "metadata": {
    "colab": {},
    "colab_type": "code",
    "collapsed": true,
    "id": "jeOxaf_kQnOs"
   },
   "outputs": [],
   "source": [
    "from scipy import stats\n",
    "n = 120\n",
    "p = 0.9\n",
    "x = 100\n",
    "mean = n*p #compute the mean, which is 108\n",
    "sd = (n*p*(1-p))**.5 #compute the sd, which is 3.28633\n",
    "z = (x - mean)/sd #compute z score\n",
    "prob = stats.norm.cdf(z) #compute the probability using scipy\n",
    "print('The probability of less than 100 is:', prob)"
   ]
  },
  {
   "cell_type": "markdown",
   "metadata": {
    "colab_type": "text",
    "id": "Jxy8TsjGQnOu"
   },
   "source": [
    "In the code above, we see that `stats.norm.cdf` is used to calculate the probability given the z score. \n",
    "\n",
    "Fill in the code below to approximate the probability that between 70 and 110 customers will show up. Hint: it may be helpful to draw a distribution first and shade in the relevant area under the curve. You should get a result around **0.73**. "
   ]
  },
  {
   "cell_type": "code",
   "execution_count": 0,
   "metadata": {
    "colab": {},
    "colab_type": "code",
    "collapsed": true,
    "id": "2SBi72VUQnOv"
   },
   "outputs": [],
   "source": [
    "# Your code here"
   ]
  },
  {
   "cell_type": "markdown",
   "metadata": {
    "colab_type": "text",
    "id": "c-epe3L7QnOw"
   },
   "source": [
    "## Sampling from a Population\n",
    "\n",
    "*This is a quick introduction to the concept of a **sampling distribution**, which you will learn more in-depth next week.*\n",
    "\n",
    "The number times a Minervan use either \"It depends\" or \"Actually I have a question [insert a question totally irrelevant to what Prof just asked here]\" in their answer in class in each of the last 300 class sessions is recorded in the list `A` below. \n"
   ]
  },
  {
   "cell_type": "code",
   "execution_count": 0,
   "metadata": {
    "colab": {},
    "colab_type": "code",
    "collapsed": true,
    "id": "wQ4YSWGmQnOx"
   },
   "outputs": [],
   "source": [
    "A =[5, 5, 3, 0, 1, 11, 0, 8, 6, 6, 6, 3, 4, 8, 1, 16, 15, 12, 1, 10, 3, \n",
    "    10, 0, 36, 3, 1, 1, 0, 6, 12, 6, 11, 9, 3, 5, 18, 6, 5, 1, 7, 2, 28,\n",
    "    3, 3, 5, 3, 0, 2, 1, 5, 23, 1, 4, 10, 4, 5, 1, 3, 18, 6, 12, 18, 15,\n",
    "    13, 15, 3, 9, 5, 0, 6, 22, 3, 7, 22, 16, 7, 2, 15, 4, 4, 0, 13, 6, 7,\n",
    "    0, 10, 1, 0, 9, 0, 4, 6, 17, 11, 2, 8, 15, 5, 1, 6, 5, 16, 0, 3, 5,\n",
    "    10, 7, 4, 5, 3, 2, 9, 10, 13, 1, 4, 13, 10, 7, 9, 9, 10, 16, 7, 3, \n",
    "    8, 8, 1, 13, 12, 8, 4, 14, 3, 23, 13, 3, 10, 6, 7, 9, 5, 27, 12, 6,\n",
    "    10, 6, 25, 10, 5, 7, 10, 7, 11, 2, 4, 0, 15, 13, 6, 11, 6, 6, 6, 13, \n",
    "    4, 1, 7, 26, 6, 17, 10, 7, 5, 1, 2, 4, 8, 9, 9, 24, 9, 16, 2, 12, 7,\n",
    "    6, 0, 5, 17, 1, 1, 3, 29, 1, 7, 22, 15, 10, 6, 5, 10, 27, 6, 5, 7, 5,\n",
    "    6, 14, 34, 9, 9, 2, 2, 2, 13, 5, 4, 3, 16, 15, 9, 6, 4, 17, 5, 12, 4,\n",
    "    11, 6, 7, 2, 3, 7, 3, 12, 9, 5, 8, 1, 12, 14, 7, 1, 0, 9, 6, 7, 2, 35,\n",
    "    23, 16, 11, 7, 5, 16, 0, 17, 0, 5, 1, 0, 10, 13, 8, 1, 1, 0, 6, 5, 1,\n",
    "    24, 11, 1, 0, 6, 15, 4, 0, 9, 1, 2, 16, 6, 7, 8, 7, 1, 11, 5, 18, 4,\n",
    "    0, 13, 4, 8, 0, 1, 2, 0]"
   ]
  },
  {
   "cell_type": "markdown",
   "metadata": {
    "colab_type": "text",
    "id": "Mypyi4DTQnOy"
   },
   "source": [
    "The distribution of A is generated below."
   ]
  },
  {
   "cell_type": "code",
   "execution_count": 0,
   "metadata": {
    "colab": {},
    "colab_type": "code",
    "collapsed": true,
    "id": "R8w-qMSfQnOz"
   },
   "outputs": [],
   "source": [
    "from matplotlib import pyplot as plt\n",
    "plt.hist(A)"
   ]
  },
  {
   "cell_type": "markdown",
   "metadata": {
    "colab_type": "text",
    "id": "5gJoywywQnO1"
   },
   "source": [
    "Let's now consider taking samples from the above distribution. If you randomly pick a sample of 30 sessions and calculate the mean of the sessions in that sample, how much do you expect the mean to be? We can solve this by simulation. Fill in the code below to do that."
   ]
  },
  {
   "cell_type": "code",
   "execution_count": 0,
   "metadata": {
    "colab": {},
    "colab_type": "code",
    "collapsed": true,
    "id": "JoZcskYwQnO1"
   },
   "outputs": [],
   "source": [
    "sample_size =  # TODO: sample 30 sessions\n",
    "sample_repeats =  # TODO: fill in a large number of iterations for the simulation\n",
    "sample_means = [] # to store the means of the samples of 30 sessions\n",
    "for _ in range(sample_repeats): \n",
    "\n",
    "    sample = np.random.choice(A, sample_size) # choose randomly 30 elements from list A\n",
    "    this_mean = # TODO: calculate the mean of the 'sample' list \n",
    "    # TODO: append this_mean to sample_means\n",
    "\n",
    "print(\"The mean of the sample means is:\", np.mean(sample_means)) # calculate the mean of the \n",
    "                                                                 # sample means. Should print 7.76"
   ]
  },
  {
   "cell_type": "markdown",
   "metadata": {
    "colab_type": "text",
    "id": "lCxwbXfqQnO3"
   },
   "source": [
    "It might seem very weird to repeat this sampling process many times. Why are we doing this? What is the point of computing the mean of the sample means? \n",
    "\n",
    "*Don't worry!* This seemingly odd repetitive sampling process lies at the heart of the most important theorem in inferential statistics, *The Central Limit Theorem (CLT)*. You will learn all about it in FA session 10.1 during which you will explore a more detailed simulation. This is just a preview.\n",
    "\n",
    "Now that we have a list of many sample means, we can visualize their distribution. This is called the \"*sample mean distribution*\" or \"*sampling distribution*.\" Check that the mean printed in the cell above makes sense with the graph below."
   ]
  },
  {
   "cell_type": "code",
   "execution_count": 0,
   "metadata": {
    "colab": {},
    "colab_type": "code",
    "collapsed": true,
    "id": "yCIG8K2GQnO4"
   },
   "outputs": [],
   "source": [
    "print(\"Here's what the sample mean distribution looks like.\")\n",
    "\n",
    "plt.hist(sample_means)\n",
    "plt.title('Sample Means')\n",
    "plt.show()"
   ]
  },
  {
   "cell_type": "markdown",
   "metadata": {
    "colab_type": "text",
    "id": "jLUwOpEAQnO5"
   },
   "source": [
    "# B. Exercise \n",
    "\n",
    "## Exercise 1. The Airline Problem\n",
    "\n",
    "Create a function that allows the airline compute the probability that between `a` to `b` of their 120 customers will show up, with arbitrary values of `a` and `b`. The probability that each customer shows up is $p=0.9$."
   ]
  },
  {
   "cell_type": "code",
   "execution_count": 0,
   "metadata": {
    "colab": {},
    "colab_type": "code",
    "collapsed": true,
    "id": "fDyxx3u8QnO6"
   },
   "outputs": [],
   "source": [
    "# Your code here"
   ]
  },
  {
   "cell_type": "markdown",
   "metadata": {
    "colab_type": "text",
    "id": "neqsLkLsQnO7"
   },
   "source": [
    "## Exercise 2. Expected Standard Deviation \n",
    "\n",
    "For the data about Minervan students' answers in class, if you pick/sample randomly 30 sessions and calculate the *standard deviation* of the data associated with those sessions, how much do you expect the standard deviation to be? Solve this my simulation."
   ]
  },
  {
   "cell_type": "code",
   "execution_count": 0,
   "metadata": {
    "colab": {},
    "colab_type": "code",
    "collapsed": true,
    "id": "w45DNVhpQnO7"
   },
   "outputs": [],
   "source": [
    "sample_size =  # TODO: sample 30 sessions\n",
    "sample_repeats =  # TODO: fill in a large number of iterations for the simulation\n",
    "sample_SDs = [] # to store the means of the samples of 30 sessions\n",
    "for _ in range(sample_repeats): \n",
    "    sample = np.random.choice(A, sample_size) # choose randomly 30 elements from list A\n",
    "    this_mean = # TODO: calculate the mean of the 'sample' list \n",
    "    # TODO: append this_mean to sample_SDs\n",
    "\n",
    "print(\"The mean of the sample SDs is:\", ) # TODO: fill in to print the mean "
   ]
  },
  {
   "cell_type": "markdown",
   "metadata": {
    "colab_type": "text",
    "id": "J8iJF6HaQnO9"
   },
   "source": [
    "## Exercise 3. Sampling Distribution of the Standard Deviation\n",
    "\n",
    "Create a histogram to visualize the distribution of the list `sample_SDs` in the previous exercise.\n"
   ]
  },
  {
   "cell_type": "code",
   "execution_count": 0,
   "metadata": {
    "colab": {},
    "colab_type": "code",
    "collapsed": true,
    "id": "SaNNORbYQnO9"
   },
   "outputs": [],
   "source": [
    "# Your code here "
   ]
  },
  {
   "cell_type": "markdown",
   "metadata": {
    "colab_type": "text",
    "id": "FnhVDca3QnO-"
   },
   "source": [
    "## Exercise 4. A Friend in Need\n",
    "\n",
    "So as supposed in the LBA, you mixed up the napkins and don't know which corresponds to which block. However, your friend, who went with you for the LBA and has a great memory, does know which napkin goes with which block. She asks you to randomly shuffle the napkins repeatedly and will tell you to stop if it is in the right order (the napkin that corresponds to the first block is on top, the one that corresponds to the second block lies immediately underneath, etc., and the one that corresponds to the last block is on the bottom). How many times do you expect to shuffle before your friend tells you to stop? Solve this by simulation and analytically. *Hint: geometric distribution *"
   ]
  },
  {
   "cell_type": "code",
   "execution_count": 0,
   "metadata": {
    "colab": {},
    "colab_type": "code",
    "collapsed": true,
    "id": "pYElHE9mQnO_"
   },
   "outputs": [],
   "source": [
    "# Your code here"
   ]
  },
  {
   "cell_type": "markdown",
   "metadata": {
    "colab_type": "text",
    "id": "xyiuZzivQnPA"
   },
   "source": [
    "## [Optional] Exercise 5. Volleyball\n",
    "\n",
    "In volleyball, a team continues to serve for the next rally as long as they win the current rally. A team who wins a rally scores 1 point. If a team reaches 25 points first and its score is at least 2 points higher than the score of the other team, that team wins the game. However, if one team has reached 25 points and their difference is lower than 2, the game continues until the difference in team scores is at least 2; then, whichever team has a higher score wins.\n",
    "\n",
    "Suppose team A and team B play against each other. Team A have 54% of winning when serving, and 69% of winning when not serving. Is there a big difference between the probability of team A winning the game when team A serves first than when team B serves first? Estimate by simulation."
   ]
  },
  {
   "cell_type": "code",
   "execution_count": 0,
   "metadata": {
    "colab": {},
    "colab_type": "code",
    "collapsed": true,
    "id": "SNnbQUyKQnPA"
   },
   "outputs": [],
   "source": [
    "# Your code here"
   ]
  }
 ],
 "metadata": {
  "colab": {
   "collapsed_sections": [],
   "name": "SSS9.ipynb",
   "provenance": [],
   "version": "0.3.2"
  },
  "kernelspec": {
   "display_name": "Python 3",
   "language": "python",
   "name": "python3"
  },
  "language_info": {
   "codemirror_mode": {
    "name": "ipython",
    "version": 3
   },
   "file_extension": ".py",
   "mimetype": "text/x-python",
   "name": "python",
   "nbconvert_exporter": "python",
   "pygments_lexer": "ipython3",
   "version": "3.6.2"
  }
 },
 "nbformat": 4,
 "nbformat_minor": 1
}
