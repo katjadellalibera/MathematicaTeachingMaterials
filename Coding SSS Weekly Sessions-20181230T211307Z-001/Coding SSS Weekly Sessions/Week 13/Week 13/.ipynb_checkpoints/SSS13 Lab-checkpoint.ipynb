{
 "cells": [
  {
   "cell_type": "markdown",
   "metadata": {
    "colab_type": "text",
    "id": "ICEZeXEdQvX2"
   },
   "source": [
    "# SSS 13. Debugging Tips, List Review, Pandas for Statistical Inference\n",
    "Today we review some basics regarding debugging and lists, and then introduce the Pandas package. This package will be very useful if you choose to use Python for the FA Statistical Inference assignment."
   ]
  },
  {
   "cell_type": "markdown",
   "metadata": {
    "colab_type": "text",
    "id": "inihdkLPQvX9"
   },
   "source": [
    "# Table of Contents\n",
    "* [A. Python Lab:](#A.-Python-Lab)\n",
    "    * [A.1 Python Tips](#A.1-Python-Tips)\n",
    "    * [A.2 Lists Revisited](#A.2-Lists-Revisited)\n",
    "    * [A.3 Pandas Basics](#A.3-Assignment-3-Help.-Pandas-Basics)\n",
    "* [B. Exercises](#B.-Exercises)"
   ]
  },
  {
   "cell_type": "markdown",
   "metadata": {
    "colab_type": "text",
    "id": "4ewK6dKyQvX-"
   },
   "source": [
    "# A. Python Lab\n",
    "\n",
    "\n",
    "\n",
    "## A.1 Python Tips\n",
    "\n",
    "Debugging can be stressful sometimes. Below are some tips that may help you speed up the process.\n",
    "\n",
    "**A.1.1. Read the error message**\n",
    "\n",
    "This is a must and a good start to understand what is wrong with the code. The error message specifies the type of error and points to the problematic line of code. Oftentimes, inspecting the message can help you fix the problems right away. The code below contains a common error with condition checking."
   ]
  },
  {
   "cell_type": "code",
   "execution_count": null,
   "metadata": {
    "collapsed": true
   },
   "outputs": [],
   "source": [
    "# Run this cell\n",
    "num = 4\n",
    "if num = 4:\n",
    "    print('Divisible by 2') "
   ]
  },
  {
   "cell_type": "markdown",
   "metadata": {},
   "source": [
    "By reading the error message, we know that, in line 3, there is a syntax error, and the source of problem lies with the character `=` (notice the pointer \"^\"). To make the code syntactically correct, we just need to change `=` to `==`. Your task now is to debug the following cell. The goal is to have the cell run successfully without any error message thrown.\n",
    "\n",
    "*Tip: If your notebook currently does not show the line numbers, go to View -> Toggle line numbers.*"
   ]
  },
  {
   "cell_type": "code",
   "execution_count": null,
   "metadata": {
    "collapsed": true
   },
   "outputs": [],
   "source": [
    "def find_sum(n): \n",
    "    tot = 0\n",
    "    for i in range(n):\n",
    "    tot = tot + 1\n",
    "        return tot\n",
    "print(find_sum(1))"
   ]
  },
  {
   "cell_type": "markdown",
   "metadata": {},
   "source": [
    "**A.1.2. Use `print` statements**\n",
    "\n",
    "Sometimes your code runs perfectly fine without any error message, but it still contains errors. The following code is an example. The function `find_sum(n)` is to compute $1+2+3+...+n$, but it does not do what it's supposed to. "
   ]
  },
  {
   "cell_type": "code",
   "execution_count": null,
   "metadata": {
    "collapsed": true
   },
   "outputs": [],
   "source": [
    "def find_sum(n): \n",
    "    tot = 0\n",
    "    for i in range(n):\n",
    "        tot = tot + 1\n",
    "        return tot\n",
    "print(find_sum(3)) # supposed to print 6"
   ]
  },
  {
   "cell_type": "markdown",
   "metadata": {},
   "source": [
    "You suspect that the error has something to do with your `for` loop. You can add a print statement inside the loop like below:"
   ]
  },
  {
   "cell_type": "code",
   "execution_count": null,
   "metadata": {
    "collapsed": true
   },
   "outputs": [],
   "source": [
    "def find_sum(n): \n",
    "    tot = 0\n",
    "    for i in range(n):\n",
    "        print('Hello')\n",
    "        tot = tot + 1\n",
    "        return tot\n",
    "print(find_sum(3)) # supposed to print 1+2+3=6"
   ]
  },
  {
   "cell_type": "markdown",
   "metadata": {},
   "source": [
    "`Hello` was printed only once, when it was supposed to be printed three times. We conclude that the `for` loop stopped prematurely. It turns out that that is because the `return` statement was put inside the loop, so the function `find_sum` returns right after the first iteration of the loop. Let us un-indent it:"
   ]
  },
  {
   "cell_type": "code",
   "execution_count": null,
   "metadata": {
    "collapsed": true
   },
   "outputs": [],
   "source": [
    "def find_sum(n): \n",
    "    tot = 0\n",
    "    for i in range(n):\n",
    "        print('Hello')\n",
    "        tot = tot + 1\n",
    "    return tot # unindented\n",
    "print(find_sum(3)) # supposed to print 1+2+3=6"
   ]
  },
  {
   "cell_type": "markdown",
   "metadata": {},
   "source": [
    "Now `Hello` is correctly printed three times, but the final result is still incorrect. We continue to suspect the problem lies with how we updated the variable `tot`. It turns out that we should have incremented `tot` by `i`, not by 1. However, pretending that we didn't known that, in the cell below, could you add a `print` statement inside the `for` loop to print out the value of `tot` after each iteration? What is wrong with the printed values (i.e., what is being printed and what is supposed to be printed)? Finally, fix the code."
   ]
  },
  {
   "cell_type": "code",
   "execution_count": null,
   "metadata": {
    "collapsed": true
   },
   "outputs": [],
   "source": [
    "def find_sum(n): \n",
    "    tot = 0\n",
    "    for i in range(n):\n",
    "        tot = tot + 1\n",
    "    return tot \n",
    "print(find_sum(3)) # supposed to print 6"
   ]
  },
  {
   "cell_type": "markdown",
   "metadata": {},
   "source": [
    "## A.2 Lists Revisited\n",
    "\n",
    "### A.2.1 Indexing and Slicing\n",
    "\n",
    "A list is created by putting all **elements**, separated by commas, inside square brackets:"
   ]
  },
  {
   "cell_type": "code",
   "execution_count": null,
   "metadata": {
    "collapsed": true
   },
   "outputs": [],
   "source": [
    "A = ['a', 'b', 'c', 'd', 'e']"
   ]
  },
  {
   "cell_type": "markdown",
   "metadata": {},
   "source": [
    "In the code above, `A` is a list with elements `'a'`, `'b'`, `'c'`, `'d'`, and `'e'`. Each element in a list has an **index** associated with it. The index of an element tells the element's position in a list. In Python, lists start with index 0, meaning the first element has index 0, the second one has index 1, the third one has index 2, etc. \n",
    "![0-index-based](images/index_0_based.png)\n",
    "\n",
    "To access an element of a list, we starts with the name of the list, followed by square brackets with the element's index inside. Accessing an element is also called **indexing**. The following code gets the second element of list `A` (the string `'b'`) and stores it in the variable `second_letter`."
   ]
  },
  {
   "cell_type": "code",
   "execution_count": null,
   "metadata": {
    "collapsed": true
   },
   "outputs": [],
   "source": [
    "second_letter = A[1]\n",
    "print(second_letter)"
   ]
  },
  {
   "cell_type": "markdown",
   "metadata": {},
   "source": [
    "In the cell below, index the first and the last elements of list `A` and store them in the variables `first_letter` and `last_letter`, respectively."
   ]
  },
  {
   "cell_type": "code",
   "execution_count": null,
   "metadata": {
    "collapsed": true
   },
   "outputs": [],
   "source": [
    "# Your code here"
   ]
  },
  {
   "cell_type": "markdown",
   "metadata": {},
   "source": [
    "One trick to index the last element of a list is using the index -1:"
   ]
  },
  {
   "cell_type": "code",
   "execution_count": null,
   "metadata": {
    "collapsed": true
   },
   "outputs": [],
   "source": [
    "last_letter = A[-1]\n",
    "print(last_letter)"
   ]
  },
  {
   "cell_type": "markdown",
   "metadata": {},
   "source": [
    "Similarly, the second-to-last element has index -2:"
   ]
  },
  {
   "cell_type": "code",
   "execution_count": null,
   "metadata": {
    "collapsed": true
   },
   "outputs": [],
   "source": [
    "last_letter = A[-2]\n",
    "print(last_letter)"
   ]
  },
  {
   "cell_type": "markdown",
   "metadata": {},
   "source": [
    "To access more than one elements (i.e., **slicing**), we do exactly in the case of indexing, but inside the square brackets, we put in two indices: the starting index `i` and the end index `j`. This syntax will return a list of consecutive elements in the original list starting at index `i` up to, but not including, index `j`:"
   ]
  },
  {
   "cell_type": "code",
   "execution_count": null,
   "metadata": {
    "collapsed": true
   },
   "outputs": [],
   "source": [
    "first_four_letters = A[0:4] # will slice A[0], A[1], A[2], A[3], but NOT A[4].\n",
    "print(first_four_letters)"
   ]
  },
  {
   "cell_type": "markdown",
   "metadata": {},
   "source": [
    "Slicing does not affect the original list. In other words, no elements have been removed from list `A` after we slice it in the cell above: "
   ]
  },
  {
   "cell_type": "code",
   "execution_count": null,
   "metadata": {
    "collapsed": true
   },
   "outputs": [],
   "source": [
    "print(A)"
   ]
  },
  {
   "cell_type": "markdown",
   "metadata": {},
   "source": [
    "In the cell below, slice list `A` to get a list of consecutive letters from the second letter to the second-to-last letter, using at least one negative index. "
   ]
  },
  {
   "cell_type": "code",
   "execution_count": null,
   "metadata": {
    "collapsed": true
   },
   "outputs": [],
   "source": [
    "# Your code here"
   ]
  },
  {
   "cell_type": "markdown",
   "metadata": {},
   "source": [
    "### A.2.2 `range` function"
   ]
  },
  {
   "cell_type": "markdown",
   "metadata": {},
   "source": [
    "Firstly, **`range` is a function.** When calling it, we must pass at least one argument. Calling `range()` without passing any arguments inside the parentheses will not work. Try it:"
   ]
  },
  {
   "cell_type": "code",
   "execution_count": null,
   "metadata": {
    "collapsed": true
   },
   "outputs": [],
   "source": [
    "range()"
   ]
  },
  {
   "cell_type": "markdown",
   "metadata": {},
   "source": [
    "`range` is used most often in a `for` loop. The number we put in the parentheses is the number of times we want the loop to iterate:"
   ]
  },
  {
   "cell_type": "code",
   "execution_count": null,
   "metadata": {
    "collapsed": true
   },
   "outputs": [],
   "source": [
    "for i in range(4):\n",
    "    print('Hello')"
   ]
  },
  {
   "cell_type": "markdown",
   "metadata": {},
   "source": [
    "What will the following code print? Check your answer by coding.\n",
    "\n",
    "```python\n",
    "for _ in range(0):\n",
    "    print('Hello')\n",
    "```"
   ]
  },
  {
   "cell_type": "markdown",
   "metadata": {},
   "source": [
    "**Your answer here**"
   ]
  },
  {
   "cell_type": "code",
   "execution_count": null,
   "metadata": {
    "collapsed": true
   },
   "outputs": [],
   "source": [
    "# Your code here"
   ]
  },
  {
   "cell_type": "markdown",
   "metadata": {},
   "source": [
    "Although closely related, `range` does **NOT** create a Python list. "
   ]
  },
  {
   "cell_type": "code",
   "execution_count": null,
   "metadata": {
    "collapsed": true
   },
   "outputs": [],
   "source": [
    "A = range(5) # is not an equivalent of [0,1,2,3,4]\n",
    "print(A)"
   ]
  },
  {
   "cell_type": "markdown",
   "metadata": {},
   "source": [
    "Instead, calling the function `range` creates an object of data type `range` (recall that we have learned several data types in Python, including `string`, `list`, `int`, `float`)"
   ]
  },
  {
   "cell_type": "code",
   "execution_count": null,
   "metadata": {
    "collapsed": true
   },
   "outputs": [],
   "source": [
    "type(range(5))"
   ]
  },
  {
   "cell_type": "markdown",
   "metadata": {},
   "source": [
    "To convert a range to a list, we can use the function `list`:"
   ]
  },
  {
   "cell_type": "code",
   "execution_count": null,
   "metadata": {
    "collapsed": true
   },
   "outputs": [],
   "source": [
    "A = list(range(5))\n",
    "print(A)"
   ]
  },
  {
   "cell_type": "markdown",
   "metadata": {},
   "source": [
    "In the cell below, create a list of the first 100 whole numbers ( [0,1,2,...,99] ) using function `range`."
   ]
  },
  {
   "cell_type": "code",
   "execution_count": null,
   "metadata": {
    "collapsed": true
   },
   "outputs": [],
   "source": [
    "# Your code here"
   ]
  },
  {
   "cell_type": "markdown",
   "metadata": {},
   "source": [
    "## A.3 Pandas Basics [Assignment 3 Help]\n",
    "\n",
    "Pandas package is very helpful for data analysis and we recommend using it in Assignment 3. In this section, we will learn basic use of the package, including reading in a .csv file, dealing with missing values, accessing column data, and querying.\n",
    "\n",
    "We will work with two data sets, the \"[Automobile](https://www.kaggle.com/toramky/automobile-dataset)\" and the \"[Black Friday](https://www.kaggle.com/mehdidag/black-friday#BlackFriday.csv)\" data sets downloaded from Kaggle. The data sets are in .csv format and are already in the zip file you downloaded. The \"Automobile\" data set consists of various characteristics of automobiles, and the \"Black Friday\" one records transactions made in a retail store. \n",
    "\n",
    "First, let us import the package:"
   ]
  },
  {
   "cell_type": "code",
   "execution_count": null,
   "metadata": {
    "collapsed": true
   },
   "outputs": [],
   "source": [
    "import pandas as pd "
   ]
  },
  {
   "cell_type": "markdown",
   "metadata": {},
   "source": [
    "**A.3.1. Preprocessing Data**\n",
    "\n",
    "To read in the data set, we use the `pd.read_csv` function:"
   ]
  },
  {
   "cell_type": "code",
   "execution_count": null,
   "metadata": {
    "collapsed": true
   },
   "outputs": [],
   "source": [
    "auto_df = pd.read_csv(\"./Automobile_data.csv\", na_values = '?')\n",
    "# \"df\" stands for \"dataframe\"\n",
    "auto_df.head(10) # showing the first 10 rows of the data set"
   ]
  },
  {
   "cell_type": "markdown",
   "metadata": {},
   "source": [
    "Some notes on the arguments of the function `pd.read_csv` above:\n",
    "* The first argument (`\"./Automobile_data.csv\"`) is the path to the .csv file (where the file is stored). In this case, the file is stored in the same folder as this notebook.\n",
    "* Notice that `auto_df` looks like a table. Technically, it's not a multidimensional *list* or an *array*, but rather a special kind of new object called a **dataframe**. Run the next code cell below to see the type.\n",
    "* The `na_values` argument shows how the missing \"not available\" values are recognized. To know what to set to this argument, open the .csv file `Automobile_data.csv` in a normal spreadsheet and inspect manually how the missing values are represented. The below image is a screenshot of the file opened in Microsoft Excel. Notice that the missing values are shown as \"?\" in the spreadsheet. That is why for the argument `na_values`, we set it to the string `\"?\"`, and pandas will treat every cell with \"?\" as an `NaN` (not a number) value.\n",
    "![na values](images/na_vals.png)"
   ]
  },
  {
   "cell_type": "code",
   "execution_count": null,
   "metadata": {
    "collapsed": true
   },
   "outputs": [],
   "source": [
    "print(type(auto_df))"
   ]
  },
  {
   "cell_type": "markdown",
   "metadata": {},
   "source": [
    "Now it's your turn: Read in the file \"BlackFriday.csv\" and display the first 10 rows of the data set. The screenshot of the file opened in Excel is provided below for your convenience.\n",
    "![black friday data screenshot](images/black_friday_screenshot.png)"
   ]
  },
  {
   "cell_type": "code",
   "execution_count": null,
   "metadata": {
    "collapsed": true
   },
   "outputs": [],
   "source": [
    "# Your code here"
   ]
  },
  {
   "cell_type": "markdown",
   "metadata": {},
   "source": [
    "To know the size of the data sets (i.e., how many rows and how many columns), we can use the `shape` attribute of the dataframe like below:"
   ]
  },
  {
   "cell_type": "code",
   "execution_count": null,
   "metadata": {
    "collapsed": true
   },
   "outputs": [],
   "source": [
    "auto_df.shape # will print (201,26), which means there are 201 rows and 26 columns"
   ]
  },
  {
   "cell_type": "markdown",
   "metadata": {},
   "source": [
    "What is the shape of the Black Friday data set?"
   ]
  },
  {
   "cell_type": "code",
   "execution_count": null,
   "metadata": {
    "collapsed": true
   },
   "outputs": [],
   "source": [
    "# Your code here"
   ]
  },
  {
   "cell_type": "markdown",
   "metadata": {},
   "source": [
    "Suppose we want to do some analysis with the cars' prices and therefore want to remove any car whose price is unknown (a missing value in the `price` column). One way to do it is to use the `dropna` function:"
   ]
  },
  {
   "cell_type": "code",
   "execution_count": null,
   "metadata": {
    "collapsed": true
   },
   "outputs": [],
   "source": [
    "auto_df = auto_df.dropna(subset = ['price'])\n",
    "auto_df.head(10)"
   ]
  },
  {
   "cell_type": "markdown",
   "metadata": {},
   "source": [
    "The dataframe `auto_df` now contains no `NaN` (missing values) in the column `price`.\n",
    "\n",
    "Now, for the black Friday data set, try removing any customer whose value for any of the columns `Product_Category_1`, `Product_Category_2`, and `Product_Category_3` is missing. After that, display the first 10 rows of the updated dataframe. *Hint: You will need to pass in more than one column name to the list of `subset` argument).*"
   ]
  },
  {
   "cell_type": "code",
   "execution_count": null,
   "metadata": {
    "collapsed": true
   },
   "outputs": [],
   "source": [
    "# Your code here"
   ]
  },
  {
   "cell_type": "markdown",
   "metadata": {},
   "source": [
    "In your assignment, although not required, it would be nice to discuss the extent to which removing entirely the missing values may affect the validity of your analyses and conclusions."
   ]
  },
  {
   "cell_type": "markdown",
   "metadata": {},
   "source": [
    "**A.3.2. Accessing a Column and Querying**\n",
    "\n",
    "**Querying** is specifically helpful when you want to do a difference-in-means test. Suppose for the automobile data, you want to see if there is any significant difference in price between cars with two doors and those with four doors. The first thing you want to know (before computing any statistics) is to know the prices of 2-door cars and those of 4-door cars. We can get the prices of all the 2-door cars as below:"
   ]
  },
  {
   "cell_type": "code",
   "execution_count": null,
   "metadata": {
    "collapsed": true
   },
   "outputs": [],
   "source": [
    "two_door_price = auto_df['price'][auto_df['num-of-doors'] == 'two']\n",
    "print(two_door_price)"
   ]
  },
  {
   "cell_type": "markdown",
   "metadata": {},
   "source": [
    "Let us break down the code above:\n",
    "* `auto_df['price']` would have given us the entire column of `price` in the automobile data set (create a new cell and see it for yourself). But that is not what we want. We want to retrieve only the prices of cars whose number of doors is two. \n",
    "* That is why we need an additional pair of square brackets inside which we state the constraint for the query: `auto_df['num-of-doors'] == 'two'`. \n",
    "\n",
    "Similarly, we can get all the prices for 4-door cars:"
   ]
  },
  {
   "cell_type": "code",
   "execution_count": null,
   "metadata": {
    "collapsed": true
   },
   "outputs": [],
   "source": [
    "four_door_price = auto_df['price'][auto_df['num-of-doors'] == 'four']\n",
    "print(four_door_price)"
   ]
  },
  {
   "cell_type": "markdown",
   "metadata": {},
   "source": [
    "Suppose for the Black Friday data set, you want to see if there is a significant difference in the amount of purchase in dollars (shown in the column `Purchase`) between male and female customers. Could you get the purchase values for males and females separately? Follow these steps:\n",
    "1. Drop any missing values for the columns `Gender` and `Purchase` (there could be none, but just to make sure).\n",
    "2. Query the values in the `Purchase` column corresponding to each gender."
   ]
  },
  {
   "cell_type": "code",
   "execution_count": null,
   "metadata": {
    "collapsed": true
   },
   "outputs": [],
   "source": [
    "# Your code here"
   ]
  },
  {
   "cell_type": "markdown",
   "metadata": {},
   "source": [
    "**A.3.3. Converting to lists**\n",
    "\n",
    "The process of accessing data in specific columns and querying them should give us all the cleaned and filtered data we need for the assignment. However, if we check the type of the filtered data in the section above, it is not in Python list. Recall that the entire table is a **dataframe** rather than a list. An individual one-dimensional column of the dataframe is a **series**. Run the code below to see:"
   ]
  },
  {
   "cell_type": "code",
   "execution_count": null,
   "metadata": {
    "collapsed": true
   },
   "outputs": [],
   "source": [
    "print(type(two_door_price))\n",
    "print(type(four_door_price))"
   ]
  },
  {
   "cell_type": "markdown",
   "metadata": {},
   "source": [
    "If we ever need to go back to our comfort zone of Python lists (which you all now know how to manipulate like a pro), we can always convert a series to a list. Recalling how we converted a range to a list earlier this session, convert the series `two_door_price` and `four_door_price` to lists in the cell below. "
   ]
  },
  {
   "cell_type": "code",
   "execution_count": null,
   "metadata": {
    "collapsed": true
   },
   "outputs": [],
   "source": [
    "# Fill in the code below\n",
    "list_two_door_price = \n",
    "list_four_door_price = "
   ]
  },
  {
   "cell_type": "markdown",
   "metadata": {},
   "source": [
    "If you need more help on using Pandas, [this lab](https://github.com/cs109/2015lab1/blob/master/Lab1-pythonpandas.ipynb) from a Havard course is a nice resource. "
   ]
  }
 ],
 "metadata": {
  "colab": {
   "collapsed_sections": [],
   "name": "SSS7.ipynb",
   "provenance": [],
   "version": "0.3.2"
  },
  "kernelspec": {
   "display_name": "Python 3",
   "language": "python",
   "name": "python3"
  },
  "language_info": {
   "codemirror_mode": {
    "name": "ipython",
    "version": 3
   },
   "file_extension": ".py",
   "mimetype": "text/x-python",
   "name": "python",
   "nbconvert_exporter": "python",
   "pygments_lexer": "ipython3",
   "version": "3.6.2"
  }
 },
 "nbformat": 4,
 "nbformat_minor": 1
}
