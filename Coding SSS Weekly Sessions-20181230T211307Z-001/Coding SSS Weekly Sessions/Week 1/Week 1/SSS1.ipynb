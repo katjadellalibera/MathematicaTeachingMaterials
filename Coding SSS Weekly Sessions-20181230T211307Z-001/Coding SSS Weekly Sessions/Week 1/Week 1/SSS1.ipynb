{
 "cells": [
  {
   "cell_type": "markdown",
   "metadata": {
    "colab_type": "text",
    "id": "UHboGMaN-lUP"
   },
   "source": [
    "# SSS1. Python Basics"
   ]
  },
  {
   "cell_type": "markdown",
   "metadata": {
    "colab_type": "text",
    "id": "7UsU9bC6-lUR"
   },
   "source": [
    "# Table of Contents\n",
    "* [A. Python Lab](#A.-Python-Lab)\n",
    "\t* [DATA TYPES](#DATA-TYPES)\n",
    "        * [Strings](#Strings)\n",
    "        * [Booleans](#Booleans)\n",
    "    * [VARIABLES](#VARIABLES)\n",
    "    * [IF STATEMENTS](#IF-STATEMENTS)\n",
    "        * [Logical Operators](#Logical-Operators)\n",
    "    * [FUNCTIONS](#FUNCTIONS)\n",
    "* [B. Exercise](#B.-Exercise)\n",
    "    * [Exercise 1](#Exercise-1)\n",
    "    * [Exercise 2](#Exercise-2)"
   ]
  },
  {
   "cell_type": "markdown",
   "metadata": {
    "colab_type": "text",
    "id": "vsYG7yXKr9I5"
   },
   "source": []
  },
  {
   "cell_type": "markdown",
   "metadata": {
    "colab_type": "text",
    "id": "Qbzsv2Cg-lUS"
   },
   "source": [
    "Welcome to your first **S**tructured **S**tudy **S**ession! SSS's give you an opportunity to gain the Python skills you need for your Cornerstone courses. As for this session, you will learn basics in Python, including various data types, variables, functions, selections, and iterations. Mastery of these contents is critical for your understanding of next week's Formal Analyses in-class activities. \n",
    "\n",
    "Every session will be divided into two sections: **Lab** (A) and **Exercise** (B). The purpose of the **Lab** section is to familiarize you with new Python skills that are needed for courses and assignments. The practice questions within the lab are your chance to experiment around to understand the material better. By the end of the lab you should have enough knowledge to easily complete the problems in the **Exercise** section.\n",
    "\n",
    "Save your work as you go. At the end of the session, you will email this Jupyter Notebook (an .ipynb file) to the peer tutors who are assigned to your SSS group. It is not graded, simply checked for the level of completion.\n",
    "\n",
    "**Have fun!**"
   ]
  },
  {
   "cell_type": "markdown",
   "metadata": {
    "colab_type": "text",
    "id": "X-PD0Tbm-lUS"
   },
   "source": [
    "# A. Python Lab"
   ]
  },
  {
   "cell_type": "markdown",
   "metadata": {
    "colab_type": "text",
    "id": "jzuKj66B-lUU"
   },
   "source": [
    "## DATA TYPES"
   ]
  },
  {
   "cell_type": "markdown",
   "metadata": {
    "colab_type": "text",
    "id": "CdEJLDJx-lUU"
   },
   "source": [
    "Python has some basic data types (you can also call them object types):\n",
    "* Numbers \n",
    "* Strings\n",
    "* Lists\n",
    "* Dictionaries\n",
    "* Tuples\n",
    "* Files\n",
    "* Booleans\n",
    "* Sets\n",
    "* ...\n",
    "\n",
    "In this lab, we will look into **strings** and **booleans**."
   ]
  },
  {
   "cell_type": "markdown",
   "metadata": {
    "colab_type": "text",
    "id": "K7TYGdfb-lUV"
   },
   "source": [
    "### Strings"
   ]
  },
  {
   "cell_type": "markdown",
   "metadata": {
    "colab_type": "text",
    "id": "0QBpxbJ3-lUX"
   },
   "source": [
    "In Python, a string is a sequence of characters inside quotes. The following cell prints a string:"
   ]
  },
  {
   "cell_type": "code",
   "execution_count": 0,
   "metadata": {
    "colab": {
     "base_uri": "https://localhost:8080/",
     "height": 34
    },
    "colab_type": "code",
    "executionInfo": {
     "elapsed": 11095,
     "status": "ok",
     "timestamp": 1532434407635,
     "user": {
      "displayName": "Quang Tran",
      "photoUrl": "https://lh3.googleusercontent.com/a/default-user=s128",
      "userId": "103528044432244998451"
     },
     "user_tz": -420
    },
    "id": "VHC3ajOk-lUY",
    "outputId": "2ea5fa5f-520d-47dc-a462-9fa15f5f1f5e"
   },
   "outputs": [
    {
     "name": "stdout",
     "output_type": "stream",
     "text": [
      "Hello. This is the first SSS...\n"
     ]
    }
   ],
   "source": [
    "print(\"Hello. This is the first SSS...\")"
   ]
  },
  {
   "cell_type": "markdown",
   "metadata": {
    "colab_type": "text",
    "id": "SJzeGskD-lUe"
   },
   "source": [
    " `\"Hello. This is the first SSS...\"` is a string, while the entire previous cell `print(\"Hello. This is the first SSS...\")` is called a **print statement**. A print statement prints out whatever is inside the parentheses. Try printing out a nice message that pays your peer tutor a compliment, something like `print(\"YOUR COMPLIMENT GOES HERE\")`. As always, if you're stuck in this exercise or don't know what to compliment your peer tutor, ask him/her for help!"
   ]
  },
  {
   "cell_type": "code",
   "execution_count": 0,
   "metadata": {
    "colab": {
     "base_uri": "https://localhost:8080/",
     "height": 34
    },
    "colab_type": "code",
    "executionInfo": {
     "elapsed": 705,
     "status": "ok",
     "timestamp": 1532434413428,
     "user": {
      "displayName": "Quang Tran",
      "photoUrl": "https://lh3.googleusercontent.com/a/default-user=s128",
      "userId": "103528044432244998451"
     },
     "user_tz": -420
    },
    "id": "Wnt910Os-lUf",
    "outputId": "d983722e-514b-4e84-e9b7-20f29dd88404"
   },
   "outputs": [
    {
     "name": "stdout",
     "output_type": "stream",
     "text": [
      "HELLO THERE\n"
     ]
    }
   ],
   "source": [
    "print(\"HELLO THERE\")"
   ]
  },
  {
   "cell_type": "markdown",
   "metadata": {
    "colab_type": "text",
    "id": "NkMoPbSB-lUi"
   },
   "source": [
    "You can also print multiple strings in a print statement:"
   ]
  },
  {
   "cell_type": "code",
   "execution_count": 0,
   "metadata": {
    "colab": {
     "base_uri": "https://localhost:8080/",
     "height": 34
    },
    "colab_type": "code",
    "executionInfo": {
     "elapsed": 729,
     "status": "ok",
     "timestamp": 1532434416412,
     "user": {
      "displayName": "Quang Tran",
      "photoUrl": "https://lh3.googleusercontent.com/a/default-user=s128",
      "userId": "103528044432244998451"
     },
     "user_tz": -420
    },
    "id": "c95ucv3Z-lUj",
    "outputId": "fd1f4655-cd7e-4c69-a148-73aa11378423"
   },
   "outputs": [
    {
     "name": "stdout",
     "output_type": "stream",
     "text": [
      "Hello. This is the first SSS...\n"
     ]
    }
   ],
   "source": [
    "print(\"Hello.\",\"This is the\",\"first SSS...\")"
   ]
  },
  {
   "cell_type": "markdown",
   "metadata": {
    "colab_type": "text",
    "id": "hyM8T0gk-lUn"
   },
   "source": [
    "It does not matter what's inside the quotes. If you see a number wrapped inside quotes, it's still a string. For example, the following cell prints 3 strings:"
   ]
  },
  {
   "cell_type": "code",
   "execution_count": 0,
   "metadata": {
    "colab": {
     "base_uri": "https://localhost:8080/",
     "height": 68
    },
    "colab_type": "code",
    "executionInfo": {
     "elapsed": 704,
     "status": "ok",
     "timestamp": 1532434420233,
     "user": {
      "displayName": "Quang Tran",
      "photoUrl": "https://lh3.googleusercontent.com/a/default-user=s128",
      "userId": "103528044432244998451"
     },
     "user_tz": -420
    },
    "id": "iO0rMGX9-lUn",
    "outputId": "9ea4764a-b6cb-40e0-e3d7-93866ecae61e"
   },
   "outputs": [
    {
     "name": "stdout",
     "output_type": "stream",
     "text": [
      "7\n",
      "12%\n",
      "75.5/2\n"
     ]
    }
   ],
   "source": [
    "print(\"7\")\n",
    "print(\"12%\")\n",
    "print(\"75.5/2\")"
   ]
  },
  {
   "cell_type": "markdown",
   "metadata": {
    "colab_type": "text",
    "id": "xsaQHzJV-lUq"
   },
   "source": [
    "To check whether `\"7\"` is actually a string, we can use `type(\"7\")`. If it says `str` then `\"7\"` is a string indeed."
   ]
  },
  {
   "cell_type": "code",
   "execution_count": 0,
   "metadata": {
    "colab": {
     "base_uri": "https://localhost:8080/",
     "height": 34
    },
    "colab_type": "code",
    "executionInfo": {
     "elapsed": 750,
     "status": "ok",
     "timestamp": 1532434423439,
     "user": {
      "displayName": "Quang Tran",
      "photoUrl": "https://lh3.googleusercontent.com/a/default-user=s128",
      "userId": "103528044432244998451"
     },
     "user_tz": -420
    },
    "id": "3pa4w5sD-lUs",
    "outputId": "79de0467-d593-4e8c-c36a-7f3e563d0385"
   },
   "outputs": [
    {
     "data": {
      "text/plain": [
       "str"
      ]
     },
     "execution_count": 5,
     "metadata": {
      "tags": []
     },
     "output_type": "execute_result"
    }
   ],
   "source": [
    "type(\"7\")"
   ]
  },
  {
   "cell_type": "markdown",
   "metadata": {
    "colab_type": "text",
    "id": "GbQF9Iwj-lUv"
   },
   "source": [
    "Would you expect `type(7)` to also return `str`? Why or why not? Check your answer by coding in the cell below. You can *run* the code cell by pressing SHIFT+ENTER."
   ]
  },
  {
   "cell_type": "code",
   "execution_count": 0,
   "metadata": {
    "colab": {},
    "colab_type": "code",
    "collapsed": true,
    "id": "rRHEdfU4-lUw"
   },
   "outputs": [],
   "source": [
    "# your code here\n"
   ]
  },
  {
   "cell_type": "markdown",
   "metadata": {
    "colab_type": "text",
    "id": "LtYW8KQx-lUz"
   },
   "source": [
    "You can replace the double quotes with single quotes or tripple quotes in a string. "
   ]
  },
  {
   "cell_type": "code",
   "execution_count": 0,
   "metadata": {
    "colab": {
     "base_uri": "https://localhost:8080/",
     "height": 34
    },
    "colab_type": "code",
    "executionInfo": {
     "elapsed": 738,
     "status": "ok",
     "timestamp": 1532434428793,
     "user": {
      "displayName": "Quang Tran",
      "photoUrl": "https://lh3.googleusercontent.com/a/default-user=s128",
      "userId": "103528044432244998451"
     },
     "user_tz": -420
    },
    "id": "Do78elvy-lUz",
    "outputId": "5b66ac82-73a3-4962-bd32-a586711a0cc5"
   },
   "outputs": [
    {
     "data": {
      "text/plain": [
       "str"
      ]
     },
     "execution_count": 6,
     "metadata": {
      "tags": []
     },
     "output_type": "execute_result"
    }
   ],
   "source": [
    "type('Still a string')"
   ]
  },
  {
   "cell_type": "code",
   "execution_count": 0,
   "metadata": {
    "colab": {
     "base_uri": "https://localhost:8080/",
     "height": 34
    },
    "colab_type": "code",
    "executionInfo": {
     "elapsed": 833,
     "status": "ok",
     "timestamp": 1532434431077,
     "user": {
      "displayName": "Quang Tran",
      "photoUrl": "https://lh3.googleusercontent.com/a/default-user=s128",
      "userId": "103528044432244998451"
     },
     "user_tz": -420
    },
    "id": "-CXc68MX-lU3",
    "outputId": "b9e63dba-27ee-402c-cddd-7f0d2bde4ea1"
   },
   "outputs": [
    {
     "data": {
      "text/plain": [
       "str"
      ]
     },
     "execution_count": 7,
     "metadata": {
      "tags": []
     },
     "output_type": "execute_result"
    }
   ],
   "source": [
    "type(\"\"\"Still a string\"\"\")"
   ]
  },
  {
   "cell_type": "markdown",
   "metadata": {
    "colab_type": "text",
    "id": "XzzxjKrv-lU7"
   },
   "source": [
    "Explain why the following line of code would throw an error. Feel free to create cells to test any hypotheses you may have. Brainstorm ways to fix the error and implement them. Ask your peer tutor for help if you're stuck.\n",
    "\n",
    "`type(\"He cried: \"FA is not for the weak!\", and then worked till the end of the first SSS\")`"
   ]
  },
  {
   "cell_type": "markdown",
   "metadata": {
    "colab_type": "text",
    "id": "vTrUEQpS-lU9"
   },
   "source": [
    "** Your answer here: ** (Note: To edit this type of cell in a Jupyter notebook, double click. When you're done, press SHIFT+ENTER to display the result.)"
   ]
  },
  {
   "cell_type": "code",
   "execution_count": 0,
   "metadata": {
    "colab": {},
    "colab_type": "code",
    "collapsed": true,
    "id": "KQCPRB-Y-lU9"
   },
   "outputs": [],
   "source": [
    "# Your code to fix the error here"
   ]
  },
  {
   "cell_type": "markdown",
   "metadata": {
    "colab_type": "text",
    "id": "kn6ON-9r-lVA"
   },
   "source": [
    "Type the following lines in a cell to see what they do:\n",
    "\n",
    "`print('Form' + 'al Analyses')`\n",
    "\n",
    "`print('Form'*5)`\n"
   ]
  },
  {
   "cell_type": "code",
   "execution_count": 0,
   "metadata": {
    "colab": {},
    "colab_type": "code",
    "collapsed": true,
    "id": "8pF-Vnh--lVC"
   },
   "outputs": [],
   "source": [
    "# your code here"
   ]
  },
  {
   "cell_type": "markdown",
   "metadata": {},
   "source": [
    "Explain what's going on here. (Double click to edit this cell and add a short explanation)"
   ]
  },
  {
   "cell_type": "markdown",
   "metadata": {
    "colab_type": "text",
    "id": "Ir8Td_2z-lVG"
   },
   "source": [
    "### Booleans"
   ]
  },
  {
   "cell_type": "markdown",
   "metadata": {
    "colab_type": "text",
    "id": "OwPvS-CW-lVH"
   },
   "source": [
    "A boolean receives either of the two values: `True` and `False`. "
   ]
  },
  {
   "cell_type": "code",
   "execution_count": 0,
   "metadata": {
    "colab": {},
    "colab_type": "code",
    "id": "Hux5jvgg-lVJ",
    "outputId": "7fecb350-057c-46ed-e856-33b53fcc0c25"
   },
   "outputs": [
    {
     "data": {
      "text/plain": [
       "bool"
      ]
     },
     "execution_count": 256,
     "metadata": {
      "tags": []
     },
     "output_type": "execute_result"
    }
   ],
   "source": [
    "type(True)"
   ]
  },
  {
   "cell_type": "code",
   "execution_count": 0,
   "metadata": {
    "colab": {},
    "colab_type": "code",
    "id": "h5A5Hrw_-lVM",
    "outputId": "c529f8cd-ec04-4724-bcf7-6977fba41d4e"
   },
   "outputs": [
    {
     "data": {
      "text/plain": [
       "bool"
      ]
     },
     "execution_count": 257,
     "metadata": {
      "tags": []
     },
     "output_type": "execute_result"
    }
   ],
   "source": [
    "type(False)"
   ]
  },
  {
   "cell_type": "markdown",
   "metadata": {
    "colab_type": "text",
    "id": "Ns0SF4Ao-lVP"
   },
   "source": [
    "A **boolean expression** is an expression that evaluates to a boolean value. The following cell prints boolean values by passing **boolean expressions** inside the parentheses. "
   ]
  },
  {
   "cell_type": "code",
   "execution_count": 4,
   "metadata": {
    "colab": {
     "base_uri": "https://localhost:8080/",
     "height": 136
    },
    "colab_type": "code",
    "executionInfo": {
     "elapsed": 710,
     "status": "ok",
     "timestamp": 1534433877312,
     "user": {
      "displayName": "Quang Tran",
      "photoUrl": "https://lh3.googleusercontent.com/a/default-user=s128",
      "userId": "103528044432244998451"
     },
     "user_tz": -420
    },
    "id": "XiCzUhIm-lVP",
    "outputId": "25e07166-92c3-4dab-9c37-7f5af8bd6772"
   },
   "outputs": [
    {
     "name": "stdout",
     "output_type": "stream",
     "text": [
      "False\n",
      "True\n",
      "True\n",
      "False\n",
      "True\n",
      "True\n",
      "False\n"
     ]
    }
   ],
   "source": [
    "print(1==2) # to check whether 1 equals 2 \n",
    "print(1 != 2) # to check whether 1 is not equal to 2\n",
    "print(3<6) # to check whether 3 is less than 6 \n",
    "print(10>20) # to check whether 10 is larger than 20\n",
    "print(5<=7) # to check whether 5 is less than or equal 7\n",
    "print(1.5>=1.5)\n",
    "print(100<50)"
   ]
  },
  {
   "cell_type": "markdown",
   "metadata": {
    "colab_type": "text",
    "id": "mgp_BoPiZE8N"
   },
   "source": [
    "This week's activity in FA class about logical equivalency introduced the `==` operator (and possibly others too). We will build on this in next week's classes, so let's gain familiarity with these operators. Below you are given some lines of code. Guess what they print and explain your guesses. You are required to give explanations as detailed as \"Line 1 will print True because it is true that 5 < 7\", or something like that. AFTER writing your explanations, proceed to code those lines to see if your guesses are correct. For the incorrect guesses, explain why the code printed otherwise.\n",
    "\n",
    "\n",
    "\n",
    "```\n",
    "print(1 == 1)\n",
    "print((1+1)==2)\n",
    "print(15 != 4)\n",
    "print((100+1) != (1+100))\n",
    "print('monkey' == 'Monkey')\n",
    "print(1 != '1')\n",
    "print(0 == False)\n",
    "```\n",
    "\n"
   ]
  },
  {
   "cell_type": "markdown",
   "metadata": {
    "colab_type": "text",
    "id": "uMmHEoCtbCr9"
   },
   "source": [
    "**Your answer here** (double click to type your answer here)"
   ]
  },
  {
   "cell_type": "code",
   "execution_count": 0,
   "metadata": {
    "colab": {},
    "colab_type": "code",
    "collapsed": true,
    "id": "IY9xcKstbIGx"
   },
   "outputs": [],
   "source": [
    "# Your code here"
   ]
  },
  {
   "cell_type": "markdown",
   "metadata": {
    "colab_type": "text",
    "id": "TTfm_-3MbKvr"
   },
   "source": [
    "**Your answer here (if you made incorrect guesses)**"
   ]
  },
  {
   "cell_type": "markdown",
   "metadata": {
    "colab_type": "text",
    "id": "VM8erNg3-lVS"
   },
   "source": [
    "Which of the following will give `bool`? Guess, test (by coding), give your answer, and explain:\n",
    "\n",
    "`type(true)`\n",
    "\n",
    "`type(4==4)`\n",
    "\n",
    "`type('false')`\n",
    "\n",
    "`type(1=3)`\n",
    "\n",
    "\n",
    "\n",
    "\n"
   ]
  },
  {
   "cell_type": "markdown",
   "metadata": {
    "colab_type": "text",
    "id": "hiNVzwr--lVT"
   },
   "source": [
    "**Your answer here:** "
   ]
  },
  {
   "cell_type": "markdown",
   "metadata": {
    "colab_type": "text",
    "id": "U9Y_pBCI-lVU"
   },
   "source": [
    "What will `print(type(True)==bool)` print? Explain."
   ]
  },
  {
   "cell_type": "markdown",
   "metadata": {
    "colab_type": "text",
    "id": "m0OAB73G-lVV"
   },
   "source": [
    "**Your answer here: **"
   ]
  },
  {
   "cell_type": "markdown",
   "metadata": {
    "colab_type": "text",
    "id": "84lFwcmq-lVW"
   },
   "source": [
    "## VARIABLES"
   ]
  },
  {
   "cell_type": "markdown",
   "metadata": {
    "colab_type": "text",
    "id": "XANsUDPA-lVX"
   },
   "source": [
    "A variable is created when we assign a value to it. For example, the following cell assigns the number `100` to a variable named `a_number`:"
   ]
  },
  {
   "cell_type": "code",
   "execution_count": 0,
   "metadata": {
    "colab": {},
    "colab_type": "code",
    "collapsed": true,
    "id": "aIRxsB74-lVX"
   },
   "outputs": [],
   "source": [
    "a_number = 100"
   ]
  },
  {
   "cell_type": "markdown",
   "metadata": {
    "colab_type": "text",
    "id": "Pg7BNGra-lVa"
   },
   "source": [
    "Notice that the variable name (`a_number`) precedes the equals sign, which in turn precedes the value we want to assign to the variable (`100`). \n",
    "\n",
    "We can now refer to the value 100 by `a_number`:"
   ]
  },
  {
   "cell_type": "code",
   "execution_count": 0,
   "metadata": {
    "colab": {},
    "colab_type": "code",
    "id": "qKoYOoGE-lVa",
    "outputId": "ea3567ce-5ed4-4c99-dab3-79fd7d87c1da"
   },
   "outputs": [
    {
     "name": "stdout",
     "output_type": "stream",
     "text": [
      "100\n"
     ]
    }
   ],
   "source": [
    "print(a_number)"
   ]
  },
  {
   "cell_type": "markdown",
   "metadata": {
    "colab_type": "text",
    "id": "oJNjofrH-lVe"
   },
   "source": [
    "We can also assign a string value to a variable:"
   ]
  },
  {
   "cell_type": "code",
   "execution_count": 1,
   "metadata": {
    "colab": {},
    "colab_type": "code",
    "id": "5M1BpQ3x-lVe",
    "outputId": "f08cb47f-7a2e-40bf-ac54-443088bc2c2d"
   },
   "outputs": [
    {
     "name": "stdout",
     "output_type": "stream",
     "text": [
      "Hello\n",
      "How to greet:  Hello\n"
     ]
    }
   ],
   "source": [
    "a_string = 'Hello'\n",
    "print(a_string)\n",
    "print('How to greet: ', a_string)"
   ]
  },
  {
   "cell_type": "markdown",
   "metadata": {
    "colab": {},
    "colab_type": "code",
    "id": "pV6U2GyW-lVh",
    "outputId": "4c69694c-bd79-4c5b-8df8-756b21f38116"
   },
   "source": [
    "Notice in the last statement that all you need to combine variables and strings in the print statement is a comma to sepearate them. It works with numbers too:"
   ]
  },
  {
   "cell_type": "code",
   "execution_count": 2,
   "metadata": {},
   "outputs": [
    {
     "name": "stdout",
     "output_type": "stream",
     "text": [
      "The answer is 20\n"
     ]
    }
   ],
   "source": [
    "b_number = 20\n",
    "print('The answer is',20)"
   ]
  },
  {
   "cell_type": "markdown",
   "metadata": {
    "colab_type": "text",
    "id": "kZGKghbp-lVn"
   },
   "source": [
    "You can reassign a variable to new values:    "
   ]
  },
  {
   "cell_type": "code",
   "execution_count": 0,
   "metadata": {
    "colab": {},
    "colab_type": "code",
    "id": "F4sH3bqc-lVo",
    "outputId": "a901bf5f-1ec8-4c28-99c6-ed61444bf986"
   },
   "outputs": [
    {
     "name": "stdout",
     "output_type": "stream",
     "text": [
      "Hi\n"
     ]
    }
   ],
   "source": [
    "a_string = 'Hello'\n",
    "a_string = 'Hi'\n",
    "print(a_string)"
   ]
  },
  {
   "cell_type": "markdown",
   "metadata": {
    "colab_type": "text",
    "id": "wMo3Yhh2-lVr"
   },
   "source": [
    "Which of the following lines of code will throw an error? What can you infer about rules regarding naming variables? \n",
    "* `ASTRING = 15`\n",
    "\n",
    "* `7Up = 'A soft drink'`\n",
    "\n",
    "* `_aNumber = True`\n",
    "\n",
    "* `0 = 'zero'`\n",
    "\n",
    "* `True = 'a boolean value'`"
   ]
  },
  {
   "cell_type": "markdown",
   "metadata": {
    "colab_type": "text",
    "id": "jezP-PkR-lVr"
   },
   "source": [
    "Guess and check what the following cell will print when uncommented. To uncomment a line of code, simply choose the line and press <kbd>CTRL</kbd>+<kbd>/</kbd>, or you can do it manually by deleting the #'s."
   ]
  },
  {
   "cell_type": "code",
   "execution_count": 0,
   "metadata": {
    "colab": {},
    "colab_type": "code",
    "collapsed": true,
    "id": "_oyPx4ay-lVs"
   },
   "outputs": [],
   "source": [
    "# a = 10\n",
    "# b = 10\n",
    "# print(a==10)"
   ]
  },
  {
   "cell_type": "markdown",
   "metadata": {
    "colab_type": "text",
    "id": "QWcjzdCO-lVv"
   },
   "source": [
    "## IF STATEMENTS"
   ]
  },
  {
   "cell_type": "markdown",
   "metadata": {
    "colab_type": "text",
    "id": "vSvpGF28-lVv"
   },
   "source": [
    "In programming, sometimes we wish to execute some lines of code only if a condition is satisfied. **If statements** can help us with that. An **if statement** has the syntax as follows:\n",
    "![If-else code example](images/ifelse_code_example.png)\n",
    "\n",
    "Recall that boolean expressions are expressions that evaluate to boolean values (`True` or `False`). If the boolean expression evaluates to `True`, `STATEMENT 1` will be executed. If the boolean expression evaluates to `False`, `STATEMENT 2` will be executed. The diagram below depicts this flow of execution:\n",
    "![If-else diagram](images/ifelse_diagram.png)\n",
    "\n",
    "Several things to notice about the syntax:\n",
    "* There are colons at the end of the lines that contains `if` and `else`\n",
    "* The lines `STATEMENT 1` and `STATEMENT 2` have to be indented.\n",
    "\n",
    "The cell below is the code to check whether a number `a` is larger than 5 and prints out a message accordingly."
   ]
  },
  {
   "cell_type": "code",
   "execution_count": 0,
   "metadata": {
    "colab": {},
    "colab_type": "code",
    "id": "lpYqyLjg-lVw",
    "outputId": "2e54c8dd-f203-465a-af99-3d0ae27f5954"
   },
   "outputs": [
    {
     "name": "stdout",
     "output_type": "stream",
     "text": [
      "Larger than 5\n"
     ]
    }
   ],
   "source": [
    "a = 6\n",
    "if a > 5:\n",
    "    print(\"Larger than 5\")\n",
    "else:\n",
    "    print(\"Not larger than 5\")"
   ]
  },
  {
   "cell_type": "markdown",
   "metadata": {
    "colab_type": "text",
    "id": "aVS4gd0_-lVz"
   },
   "source": [
    "For each of the 3 cells below, guess what will happen when you uncomment and run it, then actually run it to check your answer. "
   ]
  },
  {
   "cell_type": "code",
   "execution_count": 0,
   "metadata": {
    "colab": {},
    "colab_type": "code",
    "collapsed": true,
    "id": "Xt2iV30C-lV0"
   },
   "outputs": [],
   "source": [
    "# if (1 != 1):\n",
    "#     print('1 is not 1')\n",
    "# else:\n",
    "#     print('1 = 1')"
   ]
  },
  {
   "cell_type": "code",
   "execution_count": 0,
   "metadata": {
    "colab": {},
    "colab_type": "code",
    "collapsed": true,
    "id": "2rk-Kp69-lV4"
   },
   "outputs": [],
   "source": [
    "# if 1:\n",
    "#     print('1 means True')\n",
    "# else:\n",
    "#     print('1 means False')"
   ]
  },
  {
   "cell_type": "code",
   "execution_count": 0,
   "metadata": {
    "colab": {},
    "colab_type": "code",
    "collapsed": true,
    "id": "FxW06O24-lV6"
   },
   "outputs": [],
   "source": [
    "# if 0:\n",
    "#     print('0 means True')\n",
    "# else:\n",
    "#     print('0 means False')"
   ]
  },
  {
   "cell_type": "markdown",
   "metadata": {
    "colab_type": "text",
    "id": "lGXejGVY-lV9"
   },
   "source": [
    "### Logical Operators"
   ]
  },
  {
   "cell_type": "markdown",
   "metadata": {
    "colab_type": "text",
    "id": "lqQIUQpR-lV-"
   },
   "source": [
    "There are 3 logical operators: `and`, `or`, and `not`.\n",
    "\n",
    "Operator | Description\n",
    "--- | --- \n",
    "`Expression1 and Expression2` | True only if both Expressions1 and Expression2 are True\n",
    "`Expression1 or Expression2` | True only if at least one of the two expressions is True\n",
    "`not Expression` | Negate the boolean value of the expression. "
   ]
  },
  {
   "cell_type": "code",
   "execution_count": 0,
   "metadata": {
    "colab": {},
    "colab_type": "code",
    "id": "jX2KqyKL-lV-",
    "outputId": "16e6d649-14c5-4821-c04c-67efc5a06c62"
   },
   "outputs": [
    {
     "data": {
      "text/plain": [
       "True"
      ]
     },
     "execution_count": 269,
     "metadata": {
      "tags": []
     },
     "output_type": "execute_result"
    }
   ],
   "source": [
    "type('Python') == str and 5>3"
   ]
  },
  {
   "cell_type": "code",
   "execution_count": 0,
   "metadata": {
    "colab": {},
    "colab_type": "code",
    "id": "yuNuZ3IX-lWA",
    "outputId": "ecd47744-49b9-488b-9f2c-48edbb13b1a3"
   },
   "outputs": [
    {
     "data": {
      "text/plain": [
       "False"
      ]
     },
     "execution_count": 270,
     "metadata": {
      "tags": []
     },
     "output_type": "execute_result"
    }
   ],
   "source": [
    "False or False"
   ]
  },
  {
   "cell_type": "code",
   "execution_count": 0,
   "metadata": {
    "colab": {},
    "colab_type": "code",
    "id": "UyPhmEbQ-lWD",
    "outputId": "c47f72c1-3905-4f60-c763-b1322e45792f"
   },
   "outputs": [
    {
     "data": {
      "text/plain": [
       "False"
      ]
     },
     "execution_count": 271,
     "metadata": {
      "tags": []
     },
     "output_type": "execute_result"
    }
   ],
   "source": [
    "not True"
   ]
  },
  {
   "cell_type": "markdown",
   "metadata": {
    "colab_type": "text",
    "id": "gF9Eeyap-lWF"
   },
   "source": [
    "Logical operators give more flexibility to a boolean expression in an *if statement*. For example, if we want to execute a line of code only if two conditions are jointly satisfied, the `and` operator will be helpful."
   ]
  },
  {
   "cell_type": "code",
   "execution_count": 0,
   "metadata": {
    "colab": {},
    "colab_type": "code",
    "id": "ROSaUnzc-lWJ",
    "outputId": "7dca06ef-d565-41be-c6aa-6e8192bdd17a"
   },
   "outputs": [
    {
     "name": "stdout",
     "output_type": "stream",
     "text": [
      "a is a non-negative, even integer\n"
     ]
    }
   ],
   "source": [
    "a = 84\n",
    "if a % 2 == 0 and a >= 0:\n",
    "    print(\"a is a non-negative, even integer\")\n",
    "else:\n",
    "    print(\"a is either negative or odd\")"
   ]
  },
  {
   "cell_type": "code",
   "execution_count": 0,
   "metadata": {
    "colab": {},
    "colab_type": "code",
    "collapsed": true,
    "id": "6SrW6MZA-lWM"
   },
   "outputs": [],
   "source": [
    "string1 = \"It is raining\"\n",
    "string2 = \"It is storming\"\n",
    "#####################################################\n",
    "#  TO DO: Write code to check if either string1 or  #\n",
    "#  string2 says \"It is raining\". If yes, print      #\n",
    "#  \"stay inside\". If no, print \"you can go out\"     #\n",
    "#####################################################\n"
   ]
  },
  {
   "cell_type": "markdown",
   "metadata": {
    "colab_type": "text",
    "id": "yVEdIkSq-lWO"
   },
   "source": [
    "## FUNCTIONS"
   ]
  },
  {
   "cell_type": "markdown",
   "metadata": {
    "colab_type": "text",
    "id": "mEKVywxDcqfO"
   },
   "source": [
    "A rough way to think about functions is that it is to group statements together for later use. What's pretty about functions is that they can be used more than once in a program. A function serves a specific role in a program. A statement has the following syntax:\n",
    "![Function syntax](images/function_syntax.png)\n",
    "\n",
    "The following cell creates a function that prints a student's name"
   ]
  },
  {
   "cell_type": "code",
   "execution_count": 0,
   "metadata": {
    "colab": {},
    "colab_type": "code",
    "collapsed": true,
    "id": "n0bjB0SEcxED"
   },
   "outputs": [],
   "source": [
    "def your_first_function(a_student_name):\n",
    "    print(a_student_name)"
   ]
  },
  {
   "cell_type": "markdown",
   "metadata": {
    "colab_type": "text",
    "id": "01RGHNTqc04J"
   },
   "source": [
    "In the above function:\n",
    "* The function name is `your_first_function`\n",
    "* It receives one argument (`a_student_name`)\n",
    "* It has one statement, which is the print statement `print(a_student_name`)\n",
    "* There is a colon at the end of the first line\n",
    "* The statement inside the function is indented"
   ]
  },
  {
   "cell_type": "markdown",
   "metadata": {
    "colab_type": "text",
    "id": "fVZlo8cFc3Wa"
   },
   "source": [
    "What do we mean by reusing a function? The following cells print a couple of students' names by reusing (or **calling**) the function `your_first_function`:"
   ]
  },
  {
   "cell_type": "code",
   "execution_count": 7,
   "metadata": {
    "colab": {
     "base_uri": "https://localhost:8080/",
     "height": 34
    },
    "colab_type": "code",
    "executionInfo": {
     "elapsed": 749,
     "status": "ok",
     "timestamp": 1534435000468,
     "user": {
      "displayName": "Quang Tran",
      "photoUrl": "https://lh3.googleusercontent.com/a/default-user=s128",
      "userId": "103528044432244998451"
     },
     "user_tz": -420
    },
    "id": "0izUQQPWc7Mz",
    "outputId": "d6043458-c5e9-4514-90ed-882e6b9ff49a"
   },
   "outputs": [
    {
     "name": "stdout",
     "output_type": "stream",
     "text": [
      "John\n"
     ]
    }
   ],
   "source": [
    "your_first_function('John')"
   ]
  },
  {
   "cell_type": "code",
   "execution_count": 8,
   "metadata": {
    "colab": {
     "base_uri": "https://localhost:8080/",
     "height": 34
    },
    "colab_type": "code",
    "executionInfo": {
     "elapsed": 594,
     "status": "ok",
     "timestamp": 1534435001846,
     "user": {
      "displayName": "Quang Tran",
      "photoUrl": "https://lh3.googleusercontent.com/a/default-user=s128",
      "userId": "103528044432244998451"
     },
     "user_tz": -420
    },
    "id": "5wvBxfK4c85A",
    "outputId": "986f32cc-56d7-4629-8d32-3690098ba516"
   },
   "outputs": [
    {
     "name": "stdout",
     "output_type": "stream",
     "text": [
      "Katie\n"
     ]
    }
   ],
   "source": [
    "your_first_function('Katie')"
   ]
  },
  {
   "cell_type": "code",
   "execution_count": 9,
   "metadata": {
    "colab": {
     "base_uri": "https://localhost:8080/",
     "height": 34
    },
    "colab_type": "code",
    "executionInfo": {
     "elapsed": 498,
     "status": "ok",
     "timestamp": 1534435002954,
     "user": {
      "displayName": "Quang Tran",
      "photoUrl": "https://lh3.googleusercontent.com/a/default-user=s128",
      "userId": "103528044432244998451"
     },
     "user_tz": -420
    },
    "id": "_L0SRFvDc_UA",
    "outputId": "68b8d77b-22cd-4000-84ca-07ab4b734992"
   },
   "outputs": [
    {
     "name": "stdout",
     "output_type": "stream",
     "text": [
      "Tom\n"
     ]
    }
   ],
   "source": [
    "your_first_function('Tom')"
   ]
  },
  {
   "cell_type": "markdown",
   "metadata": {
    "colab_type": "text",
    "id": "zKVCgmtCdEld"
   },
   "source": [
    "Write a function named your_second_function that receives two arguments student_name and faculty_name, and prints the names of the student and the faculty on two lines.  "
   ]
  },
  {
   "cell_type": "code",
   "execution_count": 0,
   "metadata": {
    "colab": {},
    "colab_type": "code",
    "collapsed": true,
    "id": "ZNLFtTKcdISH"
   },
   "outputs": [],
   "source": [
    "# Your code here"
   ]
  },
  {
   "cell_type": "markdown",
   "metadata": {
    "colab_type": "text",
    "id": "WExDGMbQdKZ8"
   },
   "source": [
    "Not only can a function print, it can also **return** a value. The following function receives two integers as its arguments and returns the sum of squares of the two integers."
   ]
  },
  {
   "cell_type": "code",
   "execution_count": 0,
   "metadata": {
    "colab": {},
    "colab_type": "code",
    "collapsed": true,
    "id": "Ii_77joNdOis"
   },
   "outputs": [],
   "source": [
    "def compute_sum_of_squares(int1, int2):\n",
    "    return int1*int1 + int2*int2"
   ]
  },
  {
   "cell_type": "code",
   "execution_count": 13,
   "metadata": {
    "colab": {
     "base_uri": "https://localhost:8080/",
     "height": 34
    },
    "colab_type": "code",
    "executionInfo": {
     "elapsed": 834,
     "status": "ok",
     "timestamp": 1534435105682,
     "user": {
      "displayName": "Quang Tran",
      "photoUrl": "https://lh3.googleusercontent.com/a/default-user=s128",
      "userId": "103528044432244998451"
     },
     "user_tz": -420
    },
    "id": "Gtq1uWfidX9E",
    "outputId": "ab5d9fcc-3d5f-4456-dbdd-e4af63c68b8a"
   },
   "outputs": [
    {
     "data": {
      "text/plain": [
       "45"
      ]
     },
     "execution_count": 13,
     "metadata": {
      "tags": []
     },
     "output_type": "execute_result"
    }
   ],
   "source": [
    "compute_sum_of_squares(6,3) # 6^2 + 3^2"
   ]
  },
  {
   "cell_type": "code",
   "execution_count": 14,
   "metadata": {
    "colab": {
     "base_uri": "https://localhost:8080/",
     "height": 34
    },
    "colab_type": "code",
    "executionInfo": {
     "elapsed": 693,
     "status": "ok",
     "timestamp": 1534435112919,
     "user": {
      "displayName": "Quang Tran",
      "photoUrl": "https://lh3.googleusercontent.com/a/default-user=s128",
      "userId": "103528044432244998451"
     },
     "user_tz": -420
    },
    "id": "P6PeqLGDdaCU",
    "outputId": "68adaa8a-f93c-4806-d611-52fc49aac566"
   },
   "outputs": [
    {
     "data": {
      "text/plain": [
       "52"
      ]
     },
     "execution_count": 14,
     "metadata": {
      "tags": []
     },
     "output_type": "execute_result"
    }
   ],
   "source": [
    "compute_sum_of_squares(4,6) # 4^2 + 6^2"
   ]
  },
  {
   "cell_type": "code",
   "execution_count": 15,
   "metadata": {
    "colab": {
     "base_uri": "https://localhost:8080/",
     "height": 34
    },
    "colab_type": "code",
    "executionInfo": {
     "elapsed": 1508,
     "status": "ok",
     "timestamp": 1534435123857,
     "user": {
      "displayName": "Quang Tran",
      "photoUrl": "https://lh3.googleusercontent.com/a/default-user=s128",
      "userId": "103528044432244998451"
     },
     "user_tz": -420
    },
    "id": "-fxxzWXdddbs",
    "outputId": "76dd30b6-baaf-4a37-d47f-42da0dcc2bb2"
   },
   "outputs": [
    {
     "name": "stdout",
     "output_type": "stream",
     "text": [
      "The number of students in this school is 136\n"
     ]
    }
   ],
   "source": [
    "print('The number of students in this school is', compute_sum_of_squares(10,6))"
   ]
  },
  {
   "cell_type": "markdown",
   "metadata": {
    "colab_type": "text",
    "id": "ILBd7wftdfwG"
   },
   "source": [
    "Write a function that receives two integers as its arguments. Then do an operation of your choice on those two integers. Your function should return the result of that operation. Then call the function a couple of times. Don't forget to check if your function works as intended.     "
   ]
  },
  {
   "cell_type": "code",
   "execution_count": 0,
   "metadata": {
    "colab": {},
    "colab_type": "code",
    "collapsed": true,
    "id": "ib3-WKZ7dicS"
   },
   "outputs": [],
   "source": [
    "# Your code here"
   ]
  },
  {
   "cell_type": "markdown",
   "metadata": {
    "colab_type": "text",
    "id": "XxQ1TnGFdmgB"
   },
   "source": [
    "You can call a function within another function. The function below calls the ```compute_sum_of_squares``` function inside."
   ]
  },
  {
   "cell_type": "code",
   "execution_count": 0,
   "metadata": {
    "colab": {},
    "colab_type": "code",
    "collapsed": true,
    "id": "TLeyo5BVdqUx"
   },
   "outputs": [],
   "source": [
    "def compute_mean_squares(int1, int2):\n",
    "    return compute_sum_of_squares(int1, int2)/2.0    # return (int1*int1 + int2*int2)/2"
   ]
  },
  {
   "cell_type": "code",
   "execution_count": 18,
   "metadata": {
    "colab": {
     "base_uri": "https://localhost:8080/",
     "height": 34
    },
    "colab_type": "code",
    "executionInfo": {
     "elapsed": 815,
     "status": "ok",
     "timestamp": 1534435199405,
     "user": {
      "displayName": "Quang Tran",
      "photoUrl": "https://lh3.googleusercontent.com/a/default-user=s128",
      "userId": "103528044432244998451"
     },
     "user_tz": -420
    },
    "id": "BXlOYkQbduvV",
    "outputId": "08f067aa-159c-4de3-9c96-7a9325d33011"
   },
   "outputs": [
    {
     "data": {
      "text/plain": [
       "12.5"
      ]
     },
     "execution_count": 18,
     "metadata": {
      "tags": []
     },
     "output_type": "execute_result"
    }
   ],
   "source": [
    "compute_mean_squares(3,4) # (3^2 + 4^2)/2"
   ]
  },
  {
   "cell_type": "code",
   "execution_count": 19,
   "metadata": {
    "colab": {
     "base_uri": "https://localhost:8080/",
     "height": 34
    },
    "colab_type": "code",
    "executionInfo": {
     "elapsed": 974,
     "status": "ok",
     "timestamp": 1534435200418,
     "user": {
      "displayName": "Quang Tran",
      "photoUrl": "https://lh3.googleusercontent.com/a/default-user=s128",
      "userId": "103528044432244998451"
     },
     "user_tz": -420
    },
    "id": "GRZZolFHdvK6",
    "outputId": "e497a672-b617-4a1d-ee4c-09892b2600d6"
   },
   "outputs": [
    {
     "data": {
      "text/plain": [
       "25.0"
      ]
     },
     "execution_count": 19,
     "metadata": {
      "tags": []
     },
     "output_type": "execute_result"
    }
   ],
   "source": [
    "compute_mean_squares(5,5) # (5^2 + 5^2)/2"
   ]
  },
  {
   "cell_type": "markdown",
   "metadata": {
    "colab_type": "text",
    "id": "jK7tFy-mdySs"
   },
   "source": [
    "What does the following function compute? What will ```compute_root_mean_square(12,16)``` return?"
   ]
  },
  {
   "cell_type": "code",
   "execution_count": 0,
   "metadata": {
    "colab": {},
    "colab_type": "code",
    "collapsed": true,
    "id": "EJPX7uWad6qb"
   },
   "outputs": [],
   "source": [
    "def compute_root_mean_square(int1, int2):\n",
    "    return compute_mean_squares(int1, int2)**0.5     # x**0.5 means the square root of x in Python"
   ]
  },
  {
   "cell_type": "markdown",
   "metadata": {
    "colab_type": "text",
    "id": "Dqhv-EWvd96y"
   },
   "source": [
    "**Your answer here**"
   ]
  },
  {
   "cell_type": "code",
   "execution_count": null,
   "metadata": {
    "collapsed": true
   },
   "outputs": [],
   "source": [
    "#try it out!"
   ]
  },
  {
   "cell_type": "markdown",
   "metadata": {
    "colab_type": "text",
    "id": "LfXCrY3O-lWQ"
   },
   "source": [
    "# B. Exercise"
   ]
  },
  {
   "cell_type": "markdown",
   "metadata": {
    "colab_type": "text",
    "id": "8xbHAwpj-lWQ"
   },
   "source": [
    "## Exercise 1"
   ]
  },
  {
   "cell_type": "markdown",
   "metadata": {
    "colab_type": "text",
    "id": "clc1l1g--lWQ"
   },
   "source": [
    "What does the following function do? In what situations may it be helpful?"
   ]
  },
  {
   "cell_type": "code",
   "execution_count": 0,
   "metadata": {
    "colab": {
     "base_uri": "https://localhost:8080/",
     "height": 34
    },
    "colab_type": "code",
    "executionInfo": {
     "elapsed": 615,
     "status": "ok",
     "timestamp": 1531340851538,
     "user": {
      "displayName": "Pedro de Bastos",
      "photoUrl": "//lh5.googleusercontent.com/-1Ms5mfZNNK0/AAAAAAAAAAI/AAAAAAAAHxg/VJmuZXADsUk/s50-c-k-no/photo.jpg",
      "userId": "108347864592505486242"
     },
     "user_tz": 180
    },
    "id": "eT-jbZNF-lWR",
    "outputId": "833ffe90-abee-44c6-f5db-061ab073b754"
   },
   "outputs": [
    {
     "name": "stdout",
     "output_type": "stream",
     "text": [
      "True\n"
     ]
    }
   ],
   "source": [
    "def equal_check(x,y):\n",
    "    if x-y<0:\n",
    "        return (y-x)<.0001\n",
    "    else:\n",
    "        return (x-y)<.0001\n",
    "      \n",
    "print(equal_check(3,3))"
   ]
  },
  {
   "cell_type": "markdown",
   "metadata": {
    "colab_type": "text",
    "id": "LiH27Qi7-lWT"
   },
   "source": [
    "**Your answer here:**\n"
   ]
  },
  {
   "cell_type": "markdown",
   "metadata": {
    "colab_type": "text",
    "id": "JfqfLMkOe0NF"
   },
   "source": [
    "## Exercise 2."
   ]
  },
  {
   "cell_type": "markdown",
   "metadata": {
    "colab_type": "text",
    "id": "ZA87iXBLe4G8"
   },
   "source": [
    "There are 3 parts to this exercise.\n",
    "1. Create a function named `boolean_message` that takes a boolean value as its input and returns \"Yes, it's true!\" if the value is True and \"No, it's not true!\" if the value is False. After creating your function, call your function twice, each time with a different input (`True` or `False`)."
   ]
  },
  {
   "cell_type": "code",
   "execution_count": 0,
   "metadata": {
    "colab": {},
    "colab_type": "code",
    "collapsed": true,
    "id": "qtZKzLuPhD2s"
   },
   "outputs": [],
   "source": [
    "# Your code here"
   ]
  },
  {
   "cell_type": "markdown",
   "metadata": {
    "colab_type": "text",
    "id": "FRVuvZCYhFaL"
   },
   "source": [
    "2. Create a function named `boolean_message2`  that takes two boolean values, `bool1` and `bool2`, as inputs and returns \"Yes, it's true!\" if (`bool1 and bool2`) is True and \"No, it's not true!\" if (`bool1 and bool2`) is False. Because the messages returned by this function are the same as those returned by the function `boolean_message` you created in part 1, you are expected to use `boolean_message` in creating `boolean_message2`."
   ]
  },
  {
   "cell_type": "code",
   "execution_count": 0,
   "metadata": {
    "colab": {},
    "colab_type": "code",
    "collapsed": true,
    "id": "nLGEHcMEiZhy"
   },
   "outputs": [],
   "source": [
    "# Your code here"
   ]
  },
  {
   "cell_type": "markdown",
   "metadata": {
    "colab_type": "text",
    "id": "wNNnMPCxjBCM"
   },
   "source": [
    "3. Call `bollean_message2` by passing it with different `bool1` and `bool2` values (for example, `bool1` is True and `bool2` is True, or `bool1` is False and `bool2` is True, etc.). "
   ]
  },
  {
   "cell_type": "code",
   "execution_count": 0,
   "metadata": {
    "colab": {},
    "colab_type": "code",
    "collapsed": true,
    "id": "5Jk7dZB5jeGu"
   },
   "outputs": [],
   "source": [
    "# Your code here"
   ]
  }
 ],
 "metadata": {
  "colab": {
   "name": "SSS1.ipynb",
   "provenance": [],
   "version": "0.3.2"
  },
  "kernelspec": {
   "display_name": "Python 3",
   "language": "python",
   "name": "python3"
  },
  "language_info": {
   "codemirror_mode": {
    "name": "ipython",
    "version": 3
   },
   "file_extension": ".py",
   "mimetype": "text/x-python",
   "name": "python",
   "nbconvert_exporter": "python",
   "pygments_lexer": "ipython3",
   "version": "3.7.1"
  }
 },
 "nbformat": 4,
 "nbformat_minor": 1
}
