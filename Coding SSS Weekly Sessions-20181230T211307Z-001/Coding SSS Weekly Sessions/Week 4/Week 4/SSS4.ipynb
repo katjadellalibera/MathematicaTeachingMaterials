{
 "cells": [
  {
   "cell_type": "markdown",
   "metadata": {
    "colab_type": "text",
    "id": "QUmOM6mBVBL7"
   },
   "source": [
    "# SSS4. All about lists!"
   ]
  },
  {
   "cell_type": "markdown",
   "metadata": {
    "colab_type": "text",
    "id": "-YDT1xO3VBL9"
   },
   "source": [
    "# Table of Contents\n",
    "* [A. Python Lab](#A.-Python-Lab)\n",
    "    * [LISTS](#LISTS)\n",
    "        * [Indexing](#Indexing)\n",
    "        * [Concatenation](#Concatenation)\n",
    "        * [Repetition](#Repetition)\n",
    "        * [Slicing](#Slicing)\n",
    "        * [The Append Method](#The-Append-Method)\n",
    "* [B. Exercise](#B.-Exercise)"
   ]
  },
  {
   "cell_type": "markdown",
   "metadata": {
    "colab_type": "text",
    "id": "Qoe_vjqk05XK"
   },
   "source": [
    "# A. Python Lab"
   ]
  },
  {
   "cell_type": "markdown",
   "metadata": {
    "colab_type": "text",
    "id": "QW0QmgICVBL-"
   },
   "source": [
    "## LISTS"
   ]
  },
  {
   "cell_type": "markdown",
   "metadata": {
    "colab_type": "text",
    "id": "-EVGQD4sVBL_"
   },
   "source": [
    "### What are lists?\n",
    "\n",
    "Lists are pretty intuitive: they are a data type that consists of an ordered sequence of elements, separated by commas. An example: [\"cat\", 2, TRUE] is a list with three elements. The first element is a string, the second an integer, and the third a boolean.\n",
    "\n",
    "The first step when dealing with lists is learning how to create them! Doing so is very simple. All you have to do is write the elements you want in the list within square brackets, and separated by commas.\n",
    "\n",
    "Your first task: Use the for loop to iterate over every boolean values of list `A` below and for each such value, print its negation. *Hint*: The negation of `True` is `not True` in Python."
   ]
  },
  {
   "cell_type": "code",
   "execution_count": 0,
   "metadata": {
    "colab": {},
    "colab_type": "code",
    "collapsed": true,
    "id": "ke02K2rv05XR"
   },
   "outputs": [],
   "source": [
    "A = [True, False, False, True]\n",
    "for value in A:\n",
    "    # Your code here. This should be just one line of code.\n",
    "    \n",
    "    # End of your code"
   ]
  },
  {
   "cell_type": "markdown",
   "metadata": {
    "colab_type": "text",
    "id": "y63QXJ_eVBMI"
   },
   "source": [
    "### Indexing\n",
    "\n",
    "There are very convenient ways to access elements in a list. First, it is important to know that, like with **strings**, every element within a list has an index, **starting from 0** for the first element (from left to right) and going on up to the last element.\n",
    "\n",
    "Suppose we had the list: [\"banana\", \"cat\", 3.14, 1]. The image below shows the elements within our list, and their corresponding indexes:\n",
    "\n",
    "![index table](images/index_table.png)\n",
    "\n",
    "Now, lets say our list is called `lst`. From this list, we want to access the second element in the list, \"cat\" (remember, the \"second element\" has index 1, since python starts counting form 0), and set variable **A** to that \n",
    "\n",
    "To access the second element, we would use the syntax shown below:"
   ]
  },
  {
   "cell_type": "code",
   "execution_count": 0,
   "metadata": {
    "colab": {},
    "colab_type": "code",
    "id": "gdBj06p_VBMJ",
    "outputId": "5f3704fe-f22f-4a11-bd39-bb9452847f1b"
   },
   "outputs": [
    {
     "name": "stdout",
     "output_type": "stream",
     "text": [
      "cat\n"
     ]
    }
   ],
   "source": [
    "lst = [\"banana\", \"cat\", 3.14, 1]\n",
    "A = lst[1]\n",
    "print(A)"
   ]
  },
  {
   "cell_type": "markdown",
   "metadata": {
    "colab_type": "text",
    "id": "9ZwsncI9VBML"
   },
   "source": [
    "Now try it yourself! Go ahead and set variable **B** below to the third element in the list (3.14). Dont forget to run the cell and print B, to make sure you succeeded!"
   ]
  },
  {
   "cell_type": "code",
   "execution_count": 0,
   "metadata": {
    "colab": {},
    "colab_type": "code",
    "collapsed": true,
    "id": "AysEnhyQVBML"
   },
   "outputs": [],
   "source": [
    "lst = [\"banana\", \"cat\", 3.14, 1]\n",
    "B = \n",
    "print(B)"
   ]
  },
  {
   "cell_type": "markdown",
   "metadata": {
    "colab_type": "text",
    "id": "VSXvOPTDVBMN"
   },
   "source": [
    "Another neat trick you can use to select an element within a list is to use negative indexes. The last element within a list (from left to right) can be accessed using the index \"-1\" in addition to the positive index it corresponds to. The second to last element can be accessed using the index \"-2\", and so on. The table below shows how the elements in our list can be accessed using their negative indexes as well:\n",
    "\n",
    "\n",
    "![index_table_2](images/index_table_2.png)\n",
    "\n",
    "\n",
    "Now, to practice accessing elements, your task is to access the \"cat\" element within lst using both its positive and negative indices. Set A to the element accessed using the positive index, and B to the element accessed using the negative index. Then, use an if/else statement to print TRUE if A and B are the same, and FALSE otherwise."
   ]
  },
  {
   "cell_type": "code",
   "execution_count": 0,
   "metadata": {
    "colab": {},
    "colab_type": "code",
    "collapsed": true,
    "id": "wcOPnQZeVBMO"
   },
   "outputs": [],
   "source": [
    "lst = [\"banana\", \"cat\", 3.14, 1]\n",
    "A = \n",
    "B = \n",
    "\n",
    "if #complete the if statement here!"
   ]
  },
  {
   "cell_type": "markdown",
   "metadata": {
    "colab_type": "text",
    "id": "j6XuVgNP05Xc"
   },
   "source": [
    "Can you guess why the following code throws an error? This is one common error when coding using the `list` data type in Python. Then, proceed to fix the error so that the code prints out the very nice motto. Hint: * What does the error message say? What line seems to have problems?* "
   ]
  },
  {
   "cell_type": "code",
   "execution_count": 0,
   "metadata": {
    "colab": {},
    "colab_type": "code",
    "collapsed": true,
    "id": "sBwYEc9305Xc"
   },
   "outputs": [],
   "source": [
    "A = [\"everything\", \"is\", \"intentional\", \"here\"]\n",
    "sentence = ''\n",
    "for i in range(10):\n",
    "    sentence += A[i] + ' '\n",
    "sentence.strip()\n",
    "sentence = sentence.capitalize()\n",
    "print(sentence)"
   ]
  },
  {
   "cell_type": "markdown",
   "metadata": {
    "colab_type": "text",
    "id": "Rzb7VBJjVBMP"
   },
   "source": [
    "Finally, using indexes, we can also mutate the list as we wish! See the example below, follow the code carefully:"
   ]
  },
  {
   "cell_type": "code",
   "execution_count": 0,
   "metadata": {
    "colab": {},
    "colab_type": "code",
    "collapsed": true,
    "id": "Tzd8TTZWVBMQ"
   },
   "outputs": [],
   "source": [
    "lst = [\"banana\", \"cat\", 3.14, 1]\n",
    "lst[1] = \"dog\"\n",
    "print(lst)"
   ]
  },
  {
   "cell_type": "markdown",
   "metadata": {
    "colab_type": "text",
    "id": "f9uy_NnSVBMR"
   },
   "source": [
    "See what happened? We used the lst[1] command to access a particular element within the list, and using the \"=\" operator we replaced the original element with a new element. This process is called \"mutating\" a list."
   ]
  },
  {
   "cell_type": "markdown",
   "metadata": {
    "colab_type": "text",
    "id": "ztkRkHZWVBMS"
   },
   "source": [
    "### Concatenation\n",
    "\n",
    "The concept of concatenation is simple yet useful! It consists of using the \"+\" operator to join two lists together. For instance, lets say list_1 = [1, 2, 3] and list_2 = [4, 5, 6]. Use the code box below to find out what happens if we print list_1 + list_2!"
   ]
  },
  {
   "cell_type": "code",
   "execution_count": 0,
   "metadata": {
    "colab": {},
    "colab_type": "code",
    "collapsed": true,
    "id": "J4W5aF4wVBMS"
   },
   "outputs": [],
   "source": [
    "list_1 = [1, 2, 3]\n",
    "list_2 = [4, 5, 6]\n",
    "print() #type in (list_1 + list_2) within the print statement and see what happens!"
   ]
  },
  {
   "cell_type": "markdown",
   "metadata": {
    "colab_type": "text",
    "id": "9vmyZoIgVBMU"
   },
   "source": [
    " Note that, when using concatenation, the order in which you concatenate matters. For instance, [1, 2, 3] + [4, 5, 6] is **NOT** equal to [4, 5, 6] + [1, 2, 3]. Run the cell below to see for yourself!"
   ]
  },
  {
   "cell_type": "code",
   "execution_count": null,
   "metadata": {
    "colab": {},
    "colab_type": "code",
    "collapsed": true,
    "id": "oS4bEHu_VBMU"
   },
   "outputs": [],
   "source": [
    "big_list_1 = [1, 2, 3] + [4, 5, 6]\n",
    "big_list_2 = [4, 5, 6] + [1, 2, 3]\n",
    "print(big_list_1)\n",
    "print(big_list_2)\n",
    "print(big_list_1==big_list_2)"
   ]
  },
  {
   "cell_type": "markdown",
   "metadata": {
    "colab_type": "text",
    "id": "nfmJKENNVBMV"
   },
   "source": [
    "Concatenation is very useful when we want to keep adding new elements to a list. Suppose we had an empty list, [], and we wanted to add the string \"cat\" to it 10 times. We could do so using the \"accumulator pattern\" and concatenation. See the code below!"
   ]
  },
  {
   "cell_type": "code",
   "execution_count": 0,
   "metadata": {
    "colab": {},
    "colab_type": "code",
    "collapsed": true,
    "id": "TczkS0FJVBMV"
   },
   "outputs": [],
   "source": [
    "lst = []\n",
    "\n",
    "for i in range (10):\n",
    "    lst = lst + [\"cat\"] \n",
    "#note that the string cat is within a list: concatenation only works between two lists, \n",
    "# concatenating just \"cat\" would return an error\n",
    "\n",
    "print(lst)\n",
    "    "
   ]
  },
  {
   "cell_type": "markdown",
   "metadata": {
    "colab_type": "text",
    "id": "9jANoOgf05Xk"
   },
   "source": [
    "Concatenation also applies to strings. The following code concatenates two strings using the same technique."
   ]
  },
  {
   "cell_type": "code",
   "execution_count": 0,
   "metadata": {
    "colab": {},
    "colab_type": "code",
    "id": "WAb1IGAa05Xl",
    "outputId": "a0bfe1d7-7053-4fb1-b814-e93a92053df7"
   },
   "outputs": [
    {
     "name": "stdout",
     "output_type": "stream",
     "text": [
      "Minerva\n"
     ]
    }
   ],
   "source": [
    "print('Miner'+'va')"
   ]
  },
  {
   "cell_type": "markdown",
   "metadata": {
    "colab_type": "text",
    "id": "RotOFdBR05Xn"
   },
   "source": [
    "Your task now is to negate the statement A, given below, by appending \"It is not that\" before it."
   ]
  },
  {
   "cell_type": "code",
   "execution_count": 0,
   "metadata": {
    "colab": {},
    "colab_type": "code",
    "collapsed": true,
    "id": "1AIQHBIC05Xn"
   },
   "outputs": [],
   "source": [
    "A = \"Everything is intentional here\"\n",
    "B = \n",
    "print(B) # this should print \"It is not that Everything is intentional here\""
   ]
  },
  {
   "cell_type": "markdown",
   "metadata": {
    "colab_type": "text",
    "id": "G9OoAFI1VBMX"
   },
   "source": [
    "### Repetition\n",
    "\n",
    "Another useful command using lists is the \"repetition\" command. This means using the * operator to repeat the contents within a list! See the example below:"
   ]
  },
  {
   "cell_type": "code",
   "execution_count": null,
   "metadata": {
    "colab": {},
    "colab_type": "code",
    "collapsed": true,
    "id": "WuwKMfP8VBMX"
   },
   "outputs": [],
   "source": [
    "lst = [1, 2, 3]\n",
    "print(lst*3)"
   ]
  },
  {
   "cell_type": "markdown",
   "metadata": {
    "colab_type": "text",
    "id": "wn4OKoiGVBMZ"
   },
   "source": [
    "Basically, the \"repetition\" command concatenates the list you have to itself n times, n being the number next to the * operator. Try it out yourself: print the list below, repeated 6 times!"
   ]
  },
  {
   "cell_type": "code",
   "execution_count": 0,
   "metadata": {
    "colab": {},
    "colab_type": "code",
    "collapsed": true,
    "id": "IRNzw_nsVBMZ"
   },
   "outputs": [],
   "source": [
    "lst = [\"boots\", \"and\", \"cats\", \"and\"]"
   ]
  },
  {
   "cell_type": "markdown",
   "metadata": {
    "colab_type": "text",
    "id": "URh7wc3uVBMa"
   },
   "source": [
    "### Slicing\n",
    "\n",
    "Now, let us say that you have a list [1, 2, 3, 4, 5, 6]. However, you want to have a list with only the first three elements. There is a special way to make that selection!\n",
    "\n",
    "Remember when we accessed a single element within a list? We will use a similar command to select a subsection, a slice, of a list. This is completely the same as slicing strings. See below how the operator works:"
   ]
  },
  {
   "cell_type": "code",
   "execution_count": 0,
   "metadata": {
    "colab": {},
    "colab_type": "code",
    "collapsed": true,
    "id": "ZRgjHKbAVBMb"
   },
   "outputs": [],
   "source": [
    "lst = [1, 2, 3, 4, 5, 6]\n",
    "#remember: we want the first three elements!\n",
    "lst_slice = lst[0:3] # extract lst[0], lst[1], lst[2], but not lst[3].\n",
    "print(lst)\n",
    "print(lst_slice)"
   ]
  },
  {
   "cell_type": "markdown",
   "metadata": {
    "colab_type": "text",
    "id": "Bc_yVTqlVBMc"
   },
   "source": [
    "List slices are also very useful when we want to \"clone\" a list. What does \"clonning\" a list mean, you may ask? Well, making a copy of a list, of course!\n",
    "\n",
    "Say we have list A = [1, 2, 3, 4, 5, 6]. What if we don't want this list: we want a list whose last element is 7 instead? We could certainly \"mutate\" the original list, but what if we want to keep the original as is, and have a second version of that list that is a little different? For this, we create a clone of the original, and mutate the clone rather than the original.\n",
    "\n",
    "To clone a list, we \"take a slice\" of the whole list! To clone A, and call our clone B, we would use the command below:"
   ]
  },
  {
   "cell_type": "code",
   "execution_count": 0,
   "metadata": {
    "colab": {},
    "colab_type": "code",
    "collapsed": true,
    "id": "3ANmLF9SVBMd"
   },
   "outputs": [],
   "source": [
    "A = [1, 2, 3, 4, 5, 6]\n",
    "B = A[:]\n",
    "print(\"List A is:\", A)\n",
    "print(\"List B is:\", B)"
   ]
  },
  {
   "cell_type": "markdown",
   "metadata": {
    "colab_type": "text",
    "id": "j4WQOHGXVBMe"
   },
   "source": [
    "Now, we can mutate list B without mutating list A:"
   ]
  },
  {
   "cell_type": "code",
   "execution_count": 0,
   "metadata": {
    "colab": {},
    "colab_type": "code",
    "collapsed": true,
    "id": "InXw31I0VBMe"
   },
   "outputs": [],
   "source": [
    "A = [1, 2, 3, 4, 5, 6]\n",
    "B = A[:]\n",
    "B[-1] = 7\n",
    "print(\"List A is:\", A)\n",
    "print(\"List B is:\", B)"
   ]
  },
  {
   "cell_type": "markdown",
   "metadata": {
    "colab_type": "text",
    "id": "wwXM-sItVBMg"
   },
   "source": [
    "Can you guess what would have happened if, instead of using the B = A[:] slice command, we had used a B = A command? See below for the results!"
   ]
  },
  {
   "cell_type": "code",
   "execution_count": null,
   "metadata": {
    "colab": {},
    "colab_type": "code",
    "collapsed": true,
    "id": "vSTBRM_mVBMg"
   },
   "outputs": [],
   "source": [
    "A = [1, 2, 3, 4, 5, 6]\n",
    "B = A\n",
    "B[-1] = 7\n",
    "print(\"List A is:\", A)\n",
    "print(\"List B is:\", B)"
   ]
  },
  {
   "cell_type": "markdown",
   "metadata": {
    "colab_type": "text",
    "id": "FgbNMmYoVBMi"
   },
   "source": [
    "As you can see, if you use B = A, the lists are linked! If you change one, you will change the other!"
   ]
  },
  {
   "cell_type": "markdown",
   "metadata": {
    "colab_type": "text",
    "id": "5jdOxvVhVBMj"
   },
   "source": [
    "### The Append Method\n",
    "\n",
    "Methods are commands or processes that you may apply to particular data types. Lists have some very useful methods. An example is the \".append()\" method. Remember concatenation? Remember that you could only concatenate two lists, and not a list and another data type? This method allows you to add a new element to your list! See how it works below:"
   ]
  },
  {
   "cell_type": "code",
   "execution_count": 0,
   "metadata": {
    "colab": {},
    "colab_type": "code",
    "collapsed": true,
    "id": "HPeCYZ_hVBMj"
   },
   "outputs": [],
   "source": [
    "lst = [1, 2, 3, 4]\n",
    "lst.append(5)\n",
    "print(lst)"
   ]
  },
  {
   "cell_type": "markdown",
   "metadata": {
    "colab_type": "text",
    "id": "AABZfeLoVBMk"
   },
   "source": [
    "There are many other list methods that might be useful for you when solving problems! Below, we have a table with the most important ones. You can experiment with them later on if you have some time left after finishing the session.\n",
    "\n",
    "![list_methods](images/list_methods.png)"
   ]
  },
  {
   "cell_type": "markdown",
   "metadata": {
    "colab_type": "text",
    "id": "uIh6Z1Gw05X9"
   },
   "source": [
    "# B. Exercise"
   ]
  },
  {
   "cell_type": "markdown",
   "metadata": {
    "colab_type": "text",
    "id": "KFD74wbx05YC"
   },
   "source": [
    "## Exercise 1. Count from Scratch\n",
    "\n",
    "In Python, `count` is a built-in function to count the number of occurences of an element in a list. The cell below will print the number of times the number 5 appears in list `A`:"
   ]
  },
  {
   "cell_type": "code",
   "execution_count": 0,
   "metadata": {
    "colab": {},
    "colab_type": "code",
    "id": "CNsJaa0R05YC",
    "outputId": "df320442-3be1-4380-e47b-64dcb58a4a9d"
   },
   "outputs": [
    {
     "name": "stdout",
     "output_type": "stream",
     "text": [
      "3\n"
     ]
    }
   ],
   "source": [
    "A = [5,4,3,5,6,3,5]\n",
    "print(A.count(5))"
   ]
  },
  {
   "cell_type": "markdown",
   "metadata": {
    "colab_type": "text",
    "id": "0E9jBBZk05YE"
   },
   "source": [
    "But we can definitely build a function on our own that could do such jobs! Write a function that inputs a list and a value, `my_count(lst,val)`, and counts the number of occurences of the value (`val`) in the list (`lst`). Make sure to compare what your function returns with that of the built-in function.  "
   ]
  },
  {
   "cell_type": "code",
   "execution_count": 0,
   "metadata": {
    "colab": {},
    "colab_type": "code",
    "collapsed": true,
    "id": "ppg2uBrO05YE"
   },
   "outputs": [],
   "source": [
    "# Your code here"
   ]
  },
  {
   "cell_type": "markdown",
   "metadata": {
    "colab_type": "text",
    "id": "jqJo5V1C05X9"
   },
   "source": [
    "## Exercise 2. Truth Table\n",
    "\n",
    "The truth table for evaluating `(P  and  Q)  or  P` is given below:\n",
    "\n",
    "Row no. | P | Q | P and Q | (P and Q) or P \n",
    "--- | --- | --- | --- | ---\n",
    "1 | T | T | T | T \n",
    "2 | T | F | F | T\n",
    "3 | F | T | F | F\n",
    "4 | F | F | F | F\n",
    "\n",
    "Each row in the table above can be represented by a Python list. For example, the list `[True, False, False, True]` can be used to represent the second row. \n",
    "Our task now is to fill in the 2 missing values of such lists if the first two values are known. For example, if A = `[True, False]` is intended to represent part of the second row (just the truth values for P and Q), it has two missing values at the end, `False` and `True`. Write a function that takes a two-element list as arguments and return a complete list that represent a row in the table."
   ]
  },
  {
   "cell_type": "code",
   "execution_count": 0,
   "metadata": {
    "colab": {},
    "colab_type": "code",
    "collapsed": true,
    "id": "M6QO_GyO05X-"
   },
   "outputs": [],
   "source": [
    "# Your code here"
   ]
  },
  {
   "cell_type": "markdown",
   "metadata": {
    "colab_type": "text",
    "id": "rxUgJV_S05YF"
   },
   "source": [
    "## Exercise 3. Mode from Scratch\n",
    "\n",
    "From Wikipedia: \"The mode of a set of data values is the value that appears most often\". For example, the mode of [3,1,4,4,1,1,1,1,2] is 1 since 1 is the most common value (appearing 5 times). Write a function that finds **a** mode of a given list of numbers. You may find the function you created in the counting exercise above helpful."
   ]
  },
  {
   "cell_type": "code",
   "execution_count": 0,
   "metadata": {
    "colab": {},
    "colab_type": "code",
    "collapsed": true,
    "id": "5NTYbRhE05YF"
   },
   "outputs": [],
   "source": [
    "# Your code here"
   ]
  },
  {
   "cell_type": "markdown",
   "metadata": {
    "colab_type": "text",
    "id": "ploAgfx005X-"
   },
   "source": [
    "## Exercise 4. Modus Tollens Evaluator\n",
    "\n",
    "Recall that if an argument is valid by modus ponens, it takes the form:\n",
    "\n",
    "1. $P\\rightarrow Q$ (premise)\n",
    "2. $P$ (premise)\n",
    "3. $Q$ (conclusion)\n",
    "\n",
    "And if an argument is valid by modus tollens, it takes the form:\n",
    "\n",
    "1. $P\\rightarrow Q$ (premise)\n",
    "2. $\\neg Q$ (premise)\n",
    "3. $\\neg P$ (conclusion)\n",
    "\n",
    "Recall that in FA class session 3.1, we created a function that evaluates whether or not an argument is valid by modus ponens. One such function is provided below:"
   ]
  },
  {
   "cell_type": "code",
   "execution_count": 0,
   "metadata": {
    "colab": {},
    "colab_type": "code",
    "id": "vo3Nswqc05X_",
    "outputId": "695f323e-d0fe-42ac-e527-ea5a8053d8bf"
   },
   "outputs": [
    {
     "name": "stdout",
     "output_type": "stream",
     "text": [
      "Not valid by modus ponens\n"
     ]
    }
   ],
   "source": [
    "def modus_ponens_evaluator(p1_1, p1_2, p2, c):\n",
    "    if p1_1==p2 and p1_2==c:\n",
    "        return(\"Valid by modus ponens\")\n",
    "    else:\n",
    "        return(\"Not valid by modus ponens\")\n",
    "\n",
    "p1_1 = \"one attends the school\"\n",
    "p1_2 = \"one will become a leader\"\n",
    "p2 = \"one attends the school\"\n",
    "c = \"one will not become a leader\"\n",
    "\n",
    "print(modus_ponens_evaluator(p1_1, p1_2, p2, c))"
   ]
  },
  {
   "cell_type": "markdown",
   "metadata": {
    "colab_type": "text",
    "id": "pIZQh0RK05YA"
   },
   "source": [
    "Create a function (`modus_tollens_evaluator`) that evaluates whether or not an argument is valid by modus tollens. The test at the end of the following cell should print `True`."
   ]
  },
  {
   "cell_type": "code",
   "execution_count": 0,
   "metadata": {
    "colab": {},
    "colab_type": "code",
    "collapsed": true,
    "id": "XLG4gKq405YB"
   },
   "outputs": [],
   "source": [
    "def modus_tollens_evaluator(p1_1, p1_2, p2, c):\n",
    "    # fill in here\n",
    "\n",
    "    \n",
    "    \n",
    "    \n",
    "    \n",
    "    \n",
    "    # end of your code\n",
    "p1_1 = \"one attends the school\"\n",
    "p1_2 = \"one will become a leader\"\n",
    "p2 = \"it is not the case that one will become a leader\"\n",
    "c = \"it is not the case that one attends the school\"\n",
    "print(modus_tollens_evaluator(p1_1, p1_2, p2, c))"
   ]
  },
  {
   "cell_type": "markdown",
   "metadata": {
    "colab_type": "text",
    "id": "NBxp4t3C05YG"
   },
   "source": [
    "## [Optional] Exercise 5. Longest Homogeneous Sublist\n",
    "\n",
    "Given a list, find a longest sublist whose elements are the same. For example, given the list `[1,2,3,2,2,4,5,5,5,5,2,2]` your function should return [5,5,5,5]. Note that this is different than the mode!"
   ]
  },
  {
   "cell_type": "code",
   "execution_count": 0,
   "metadata": {
    "colab": {},
    "colab_type": "code",
    "collapsed": true,
    "id": "2no_NZn705YG"
   },
   "outputs": [],
   "source": [
    "# Your code here"
   ]
  },
  {
   "cell_type": "markdown",
   "metadata": {
    "colab_type": "text",
    "id": "EeCQWFai05YH"
   },
   "source": [
    "## [Optional] Exercise 6. List Overlap\n",
    "\n",
    "(Adapted from [Practice Python](https://www.practicepython.org/exercise/2014/03/05/05-list-overlap.html))\n",
    "\n",
    "Given two lists containing distinct elements (no duplicates within each list), return a list containing elements that are common between the lists."
   ]
  },
  {
   "cell_type": "code",
   "execution_count": 0,
   "metadata": {
    "colab": {},
    "colab_type": "code",
    "collapsed": true,
    "id": "TPWTd75105YH"
   },
   "outputs": [],
   "source": [
    "# Your code here"
   ]
  },
  {
   "cell_type": "markdown",
   "metadata": {
    "colab_type": "text",
    "id": "5I4fuch-05YI"
   },
   "source": [
    "## [Optional] Exercise 7. Maximum Subarray\n",
    "Given a list of numbers, find a subarray that has the largest sum of its elements. For example, given the list [-1,2,4,-3,5,-2] your function should return [2,4,-3,5]"
   ]
  },
  {
   "cell_type": "code",
   "execution_count": 0,
   "metadata": {
    "colab": {},
    "colab_type": "code",
    "collapsed": true,
    "id": "pCekMpN405YI"
   },
   "outputs": [],
   "source": [
    "# Your code here"
   ]
  }
 ],
 "metadata": {
  "colab": {
   "name": "SSS4.ipynb",
   "provenance": [],
   "version": "0.3.2"
  },
  "kernelspec": {
   "display_name": "Python 3",
   "language": "python",
   "name": "python3"
  },
  "language_info": {
   "codemirror_mode": {
    "name": "ipython",
    "version": 3
   },
   "file_extension": ".py",
   "mimetype": "text/x-python",
   "name": "python",
   "nbconvert_exporter": "python",
   "pygments_lexer": "ipython3",
   "version": "3.6.2"
  }
 },
 "nbformat": 4,
 "nbformat_minor": 1
}
