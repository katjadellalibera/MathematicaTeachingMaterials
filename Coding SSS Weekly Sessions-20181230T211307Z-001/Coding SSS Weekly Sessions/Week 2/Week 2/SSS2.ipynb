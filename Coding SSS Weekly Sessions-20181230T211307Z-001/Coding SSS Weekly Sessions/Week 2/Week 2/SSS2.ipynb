{
 "cells": [
  {
   "cell_type": "markdown",
   "metadata": {
    "colab_type": "text",
    "id": "1bmdv457SCmc"
   },
   "source": [
    "# SSS2. Python Basics and #Deduction"
   ]
  },
  {
   "cell_type": "markdown",
   "metadata": {
    "colab_type": "text",
    "id": "fkJ-5_5KSCme"
   },
   "source": [
    "# Table of Contents\n",
    "* [A. Python Lab](#A.-Python-Lab)\n",
    "\t* [DATA TYPES](#DATA-TYPES)\n",
    "        * [Strings](#Strings)\n",
    "        * [Booleans](#Booleans)\n",
    "    * [IF STATEMENTS (THE GENERAL FORM)](#IF-STATEMENTS-[THE-GENERAL-FORM])\n",
    "    * [FOR LOOPS](#FOR-LOOPS)\n",
    "* [B. Exercise](#B.-Exercise)\n",
    "* [C. Optional Exercises](#C.-Optional-Exercises)"
   ]
  },
  {
   "cell_type": "markdown",
   "metadata": {
    "colab_type": "text",
    "id": "QzGz9q0lSCmf"
   },
   "source": [
    "This session will expand on the skills you learned in the last session. Along the way you will have some practice with **#deduction** and some early practice with **#algorithms**. "
   ]
  },
  {
   "cell_type": "markdown",
   "metadata": {
    "colab_type": "text",
    "id": "SaPVNLznSCmh"
   },
   "source": [
    "# A. Python Lab"
   ]
  },
  {
   "cell_type": "markdown",
   "metadata": {
    "colab_type": "text",
    "id": "e6nz6oqFSCmi"
   },
   "source": [
    "## DATA TYPES"
   ]
  },
  {
   "cell_type": "markdown",
   "metadata": {
    "colab_type": "text",
    "id": "zrdDQJe9SCmj"
   },
   "source": [
    "### Strings"
   ]
  },
  {
   "cell_type": "markdown",
   "metadata": {
    "colab_type": "text",
    "id": "ww1CUXVPSCmk"
   },
   "source": [
    "Last week you explained the error in the following code and provided ways to fix it."
   ]
  },
  {
   "cell_type": "code",
   "execution_count": null,
   "metadata": {
    "colab": {
     "base_uri": "https://localhost:8080/",
     "height": 130
    },
    "colab_type": "code",
    "executionInfo": {
     "elapsed": 992,
     "status": "error",
     "timestamp": 1532435725147,
     "user": {
      "displayName": "Quang Tran",
      "photoUrl": "https://lh3.googleusercontent.com/a/default-user=s128",
      "userId": "103528044432244998451"
     },
     "user_tz": -420
    },
    "id": "v0_BN-W3SCml",
    "outputId": "3c0804fe-1747-43b1-8438-d9c7e688bd43"
   },
   "outputs": [],
   "source": [
    "type(\"He cried: \"FA is not for the weak!\", and then worked till the end of the first SSS\")"
   ]
  },
  {
   "cell_type": "markdown",
   "metadata": {
    "colab_type": "text",
    "id": "vIAyZb5qSCmq"
   },
   "source": [
    "As you may already know, the issue with the above code is that Python interprets a quote character after the first quote as a closing quote character:\n",
    "![stirng_error](images/string_error.png)\n"
   ]
  },
  {
   "cell_type": "markdown",
   "metadata": {
    "colab_type": "text",
    "id": "LqdtPv9zSCmr"
   },
   "source": [
    "One way to fix that is to replace the double quotes for \"FA is not for the weak\" with single quotes. Run the cell to see the output."
   ]
  },
  {
   "cell_type": "code",
   "execution_count": null,
   "metadata": {
    "colab": {
     "base_uri": "https://localhost:8080/",
     "height": 34
    },
    "colab_type": "code",
    "executionInfo": {
     "elapsed": 723,
     "status": "ok",
     "timestamp": 1532435732034,
     "user": {
      "displayName": "Quang Tran",
      "photoUrl": "https://lh3.googleusercontent.com/a/default-user=s128",
      "userId": "103528044432244998451"
     },
     "user_tz": -420
    },
    "id": "G0JxqXfTSCms",
    "outputId": "f9c2f670-c6c2-42aa-e4cf-ec0d48ea4fe1"
   },
   "outputs": [],
   "source": [
    "type(\"He cried: 'FA is not for the weak!', and then worked till the end of the first SSS\")"
   ]
  },
  {
   "cell_type": "markdown",
   "metadata": {
    "colab_type": "text",
    "id": "ucexkKLeSCmv"
   },
   "source": [
    "Another way to fix it is to use the **escape character** (`\\`). Escaping is telling Python to treat the charcater that follows as an ordinary character and part of the current string. Run the next cells to see the output."
   ]
  },
  {
   "cell_type": "code",
   "execution_count": null,
   "metadata": {
    "colab": {
     "base_uri": "https://localhost:8080/",
     "height": 34
    },
    "colab_type": "code",
    "executionInfo": {
     "elapsed": 726,
     "status": "ok",
     "timestamp": 1532435734846,
     "user": {
      "displayName": "Quang Tran",
      "photoUrl": "https://lh3.googleusercontent.com/a/default-user=s128",
      "userId": "103528044432244998451"
     },
     "user_tz": -420
    },
    "id": "VQlkESXHSCmv",
    "outputId": "d5c6cdf9-65c3-492b-84b0-d9971244e6ba"
   },
   "outputs": [],
   "source": [
    "print(\"He cried: \\\"FA is not for the weak!\\\", and then worked till the end of the first SSS\")"
   ]
  },
  {
   "cell_type": "code",
   "execution_count": null,
   "metadata": {
    "colab": {
     "base_uri": "https://localhost:8080/",
     "height": 130
    },
    "colab_type": "code",
    "executionInfo": {
     "elapsed": 903,
     "status": "error",
     "timestamp": 1532435735784,
     "user": {
      "displayName": "Quang Tran",
      "photoUrl": "https://lh3.googleusercontent.com/a/default-user=s128",
      "userId": "103528044432244998451"
     },
     "user_tz": -420
    },
    "id": "6Xkw4lxwSCmx",
    "outputId": "1143ffe3-194b-4ed6-87af-d285dcc765df"
   },
   "outputs": [],
   "source": [
    "# Will give error\n",
    "print('It's a scam')"
   ]
  },
  {
   "cell_type": "code",
   "execution_count": null,
   "metadata": {
    "colab": {},
    "colab_type": "code",
    "id": "BsOGEeISSCm0",
    "outputId": "6bc0091c-3b9c-463f-c856-60e57efbc118"
   },
   "outputs": [],
   "source": [
    "print('It\\'s a scam')"
   ]
  },
  {
   "cell_type": "markdown",
   "metadata": {
    "colab_type": "text",
    "id": "gV4Htz-OSCm2"
   },
   "source": [
    "The newline character `\\n` is used to start on a new line. Let's go Shakespeare-esque. Run the cell to see what happens."
   ]
  },
  {
   "cell_type": "code",
   "execution_count": null,
   "metadata": {
    "colab": {},
    "colab_type": "code",
    "id": "fhSWwMpNSCm2",
    "outputId": "64955cd6-64fc-45db-85ec-0bb9c9e3f84b"
   },
   "outputs": [],
   "source": [
    "print('\"Shall I compare thee to a summer’s day? \\nThou art more lovely and more temperate.\"')\n"
   ]
  },
  {
   "cell_type": "markdown",
   "metadata": {
    "colab_type": "text",
    "id": "MmxV1M8LSCm4"
   },
   "source": [
    "Using `\\` and only one print statement, print the following box:\n",
    "![stirng_box](images/string_box.png)"
   ]
  },
  {
   "cell_type": "code",
   "execution_count": null,
   "metadata": {
    "colab": {},
    "colab_type": "code",
    "collapsed": true,
    "id": "I_Yew4imSCm4"
   },
   "outputs": [],
   "source": [
    "# Your code here"
   ]
  },
  {
   "cell_type": "markdown",
   "metadata": {
    "colab_type": "text",
    "id": "28VK153OSCnF"
   },
   "source": [
    "### Booleans"
   ]
  },
  {
   "cell_type": "markdown",
   "metadata": {
    "colab_type": "text",
    "id": "odjNfpPvSCnG"
   },
   "source": [
    "First, explain why P $\\rightarrow$ Q is logically equivalent to $\\neg$P $\\vee$ Q. \n",
    "\n",
    "(*Hint*: Truthtable)"
   ]
  },
  {
   "cell_type": "markdown",
   "metadata": {
    "colab_type": "text",
    "id": "GQH4TeGrSCnH"
   },
   "source": [
    "**Your answer here:** (You don't need to write a truthtable here. Just say what results in the truthtable would make the statement true. You are encouraged to actually draft a truthtable in a draft paper though)\n",
    "Note: To edit this type of cell in a Jupyter notebook, double click. When you're done, press <kbd>SHIFT</kbd>+<kbd>ENTER</kbd> to display the result."
   ]
  },
  {
   "cell_type": "markdown",
   "metadata": {
    "colab_type": "text",
    "id": "20vNRigbSCnH"
   },
   "source": [
    "Knowing that P $\\rightarrow$ Q is an equivalent of $\\neg$P $\\vee$ Q, we can write a Python function `implication` that gives the truth value of an implication P $\\rightarrow$ Q, given the truth values of P and Q as the function's arguments."
   ]
  },
  {
   "cell_type": "code",
   "execution_count": null,
   "metadata": {
    "colab": {},
    "colab_type": "code",
    "collapsed": true,
    "id": "gI6z__5ySCnI"
   },
   "outputs": [],
   "source": [
    "def implication(P,Q):\n",
    "    return not P or Q"
   ]
  },
  {
   "cell_type": "markdown",
   "metadata": {
    "colab_type": "text",
    "id": "YCl_ph2ISCnJ"
   },
   "source": [
    "What would the following 3 cells return? Explain"
   ]
  },
  {
   "cell_type": "code",
   "execution_count": null,
   "metadata": {
    "colab": {},
    "colab_type": "code",
    "collapsed": true,
    "id": "XA8963MHSCnJ"
   },
   "outputs": [],
   "source": [
    "## Cell 1:\n",
    "# implication(True, False)"
   ]
  },
  {
   "cell_type": "markdown",
   "metadata": {
    "colab_type": "text",
    "id": "tnVfyEdpSCnK"
   },
   "source": [
    "**Your explanation here**"
   ]
  },
  {
   "cell_type": "code",
   "execution_count": null,
   "metadata": {
    "colab": {},
    "colab_type": "code",
    "collapsed": true,
    "id": "WX9tSU2OSCnL"
   },
   "outputs": [],
   "source": [
    "# # Cell 2:\n",
    "# implication(True, True)"
   ]
  },
  {
   "cell_type": "markdown",
   "metadata": {
    "colab_type": "text",
    "id": "HpFP4DwXSCnM"
   },
   "source": [
    "**Your explanation here**"
   ]
  },
  {
   "cell_type": "code",
   "execution_count": null,
   "metadata": {
    "colab": {},
    "colab_type": "code",
    "collapsed": true,
    "id": "hQFoAP9LSCnM"
   },
   "outputs": [],
   "source": [
    "## Cell 3:\n",
    "# implication(implication(True, False), False) "
   ]
  },
  {
   "cell_type": "markdown",
   "metadata": {
    "colab_type": "text",
    "id": "We07_EmySCnO"
   },
   "source": [
    "**Your explanation here**"
   ]
  },
  {
   "cell_type": "markdown",
   "metadata": {
    "colab_type": "text",
    "id": "EXFDpwm80k3C"
   },
   "source": [
    "The `implication` function above evaluates P $\\rightarrow$ Q. Write a function named `implication2` that evaluates (P and Q)$\\rightarrow$Q. Your function should call the `implication` function."
   ]
  },
  {
   "cell_type": "code",
   "execution_count": null,
   "metadata": {
    "colab": {},
    "colab_type": "code",
    "collapsed": true,
    "id": "9c_Yz-R-1tcr"
   },
   "outputs": [],
   "source": [
    "# Your code here"
   ]
  },
  {
   "cell_type": "markdown",
   "metadata": {
    "colab_type": "text",
    "id": "SW6VnLtk2qy1"
   },
   "source": [
    "Create the function `implication3` that evaluates (P and Q)$\\rightarrow$ (P $\\rightarrow$ Q). `implication3` should call on both `implication` and `implication2`."
   ]
  },
  {
   "cell_type": "code",
   "execution_count": null,
   "metadata": {
    "colab": {},
    "colab_type": "code",
    "collapsed": true,
    "id": "bRav5dQD3b7h"
   },
   "outputs": [],
   "source": [
    "# Your code here"
   ]
  },
  {
   "cell_type": "markdown",
   "metadata": {
    "colab_type": "text",
    "id": "PMZiJ_qJ4hPP"
   },
   "source": [
    "Create a function that completes a task of your choice and can make use of `implication3`, just like `implication2` is built on `implication` and `implication3` is built on both `implication` and `implication2`."
   ]
  },
  {
   "cell_type": "markdown",
   "metadata": {
    "colab_type": "text",
    "id": "SsrhamcI6TbR"
   },
   "source": [
    "**Desribe what you intend your function to do here:**"
   ]
  },
  {
   "cell_type": "code",
   "execution_count": null,
   "metadata": {
    "colab": {},
    "colab_type": "code",
    "collapsed": true,
    "id": "xU1tI2z05FOK"
   },
   "outputs": [],
   "source": [
    "# Your code here"
   ]
  },
  {
   "cell_type": "markdown",
   "metadata": {
    "colab_type": "text",
    "id": "0XHR67N9SCnO"
   },
   "source": [
    "## Python Operators Interlude"
   ]
  },
  {
   "cell_type": "markdown",
   "metadata": {
    "colab_type": "text",
    "id": "9EZ-dY9SSCnP"
   },
   "source": [
    "One data type that we have been using without an explicit introduction is the number data type. Two most common numerical types in Python are intergers (number with no fractional parts) and floating-point numbers (those with fractional parts). Run these cells to see their type."
   ]
  },
  {
   "cell_type": "code",
   "execution_count": null,
   "metadata": {
    "colab": {},
    "colab_type": "code",
    "id": "iTjTFRDBSCnP",
    "outputId": "71aba4a2-55c0-4c75-86af-f9d81f237a45"
   },
   "outputs": [],
   "source": [
    "type(7)"
   ]
  },
  {
   "cell_type": "code",
   "execution_count": null,
   "metadata": {
    "colab": {},
    "colab_type": "code",
    "id": "wwW0EIV3SCnR",
    "outputId": "ff89fdc2-55ec-4321-9b36-5ce031930902"
   },
   "outputs": [],
   "source": [
    "type(7.0)"
   ]
  },
  {
   "cell_type": "code",
   "execution_count": null,
   "metadata": {
    "colab": {},
    "colab_type": "code",
    "id": "yOVK6zgQSCnT",
    "outputId": "08454046-86ac-4414-e97f-2079a9f3e7a2"
   },
   "outputs": [],
   "source": [
    "type(1.4142)"
   ]
  },
  {
   "cell_type": "markdown",
   "metadata": {
    "colab_type": "text",
    "id": "bWy70stcSCnU"
   },
   "source": [
    "There are several operators that perform operations on numeric values in Python (Ask your peer tutor if you don't understand any operations):\n",
    "\n",
    "\n",
    "Operator | Description\n",
    "--- | --- \n",
    "`+` | Addition. Eg: `1.5+3` (=4.5)\n",
    "`-` | Subtraction. Eg: `5-3` (=2)\n",
    "`*` | Multiplication. Eg: `1.0*2` (=2.0)\n",
    "`/` | Division, results in floating-point values. Eg: `8/2` (=4.0)\n",
    "`**` | Exponentiation. Eg: `5**2` (=5^2=25)\n",
    "`//` | Floor Division. Eg: `5//2` (=2)\n",
    "`%` | Modulus. Eg: `17%3` (=2)"
   ]
  },
  {
   "cell_type": "markdown",
   "metadata": {
    "colab_type": "text",
    "id": "3TtwoA7BSCnU"
   },
   "source": [
    "What value does each of the following expressions evaluate to? Pay attention to the operators precedence (i.e., which operations Python choose to evaluate first, second, etc.)"
   ]
  },
  {
   "cell_type": "code",
   "execution_count": null,
   "metadata": {
    "colab": {},
    "colab_type": "code",
    "collapsed": true,
    "id": "DnkqD02eSCnU"
   },
   "outputs": [],
   "source": [
    "# 1+3-6*2"
   ]
  },
  {
   "cell_type": "code",
   "execution_count": null,
   "metadata": {
    "colab": {},
    "colab_type": "code",
    "collapsed": true,
    "id": "79ScL4vBSCnV"
   },
   "outputs": [],
   "source": [
    "# 5-2**2+1/2"
   ]
  },
  {
   "cell_type": "code",
   "execution_count": null,
   "metadata": {
    "colab": {},
    "colab_type": "code",
    "collapsed": true,
    "id": "zZkgtzspSCnW"
   },
   "outputs": [],
   "source": [
    "# (5-2)**(2+1)//2"
   ]
  },
  {
   "cell_type": "code",
   "execution_count": null,
   "metadata": {
    "colab": {},
    "colab_type": "code",
    "collapsed": true,
    "id": "KeWS6J8oSCnX"
   },
   "outputs": [],
   "source": [
    "# (5-2)//2**(2+1)"
   ]
  },
  {
   "cell_type": "markdown",
   "metadata": {
    "colab_type": "text",
    "id": "IhYAcwcsSCnY"
   },
   "source": [
    "Based on your observations, list the operators from highest precedence to lowest precedence. You may want to experiment with more expressions of your own choice to complete this question."
   ]
  },
  {
   "cell_type": "markdown",
   "metadata": {
    "colab_type": "text",
    "id": "zSKxuYF9SCnZ"
   },
   "source": [
    "**Your answer here**"
   ]
  },
  {
   "cell_type": "markdown",
   "metadata": {
    "colab_type": "text",
    "id": "e16vymU9SCng"
   },
   "source": [
    "## IF STATEMENTS [THE GENERAL FORM]"
   ]
  },
  {
   "cell_type": "markdown",
   "metadata": {
    "colab_type": "text",
    "id": "a-j8Mu3OSCng"
   },
   "source": [
    "Recall that the syntax for an if statement we learned last week is:\n",
    "    ![If-else code example](images/ifelse_code_example.png)\n",
    "    \n",
    "which corresponds to this flow of execution diagram:\n",
    "![Flow of if-else statement diagram ](images/ifelse_diagram.png)\n",
    "\n",
    "Our task now is to write Python code that has the following flow of execution:\n",
    "![elif diagram ](images/elif_diagram.png)"
   ]
  },
  {
   "cell_type": "markdown",
   "metadata": {
    "colab_type": "text",
    "id": "LspXeb1uSCng"
   },
   "source": [
    "It turns out that Python `if` statement has a general form that includes one or more `elif`(else if) checks, and we could you this extra feature for our task:\n",
    "![elif code](images/elif_code.png)"
   ]
  },
  {
   "cell_type": "markdown",
   "metadata": {
    "colab_type": "text",
    "id": "K4si1zX1SCng"
   },
   "source": [
    "It's also worth mentioning that both `elif` and `else` are optional in Python if statement. "
   ]
  },
  {
   "cell_type": "markdown",
   "metadata": {
    "colab_type": "text",
    "id": "SzH6XEdpSCnh"
   },
   "source": [
    "The following code checks what day in week it is and generate a corresponding message. Think about what the code will output, then run the cell to see the message."
   ]
  },
  {
   "cell_type": "code",
   "execution_count": null,
   "metadata": {
    "colab": {
     "base_uri": "https://localhost:8080/",
     "height": 34
    },
    "colab_type": "code",
    "executionInfo": {
     "elapsed": 657,
     "status": "ok",
     "timestamp": 1534443283902,
     "user": {
      "displayName": "Quang Tran",
      "photoUrl": "https://lh3.googleusercontent.com/a/default-user=s128",
      "userId": "103528044432244998451"
     },
     "user_tz": -420
    },
    "id": "wno0P4FpSCnh",
    "outputId": "938c5be6-79ce-4a16-a66c-917559a7e9d6"
   },
   "outputs": [],
   "source": [
    "day = 'Sunday'\n",
    "if day=='Monday' or day=='Tuesday' or day=='Wednesday' or day=='Thursday':\n",
    "    print('Getting bored')\n",
    "elif day=='Friday':\n",
    "    print('Partying')\n",
    "elif day=='Saturday':\n",
    "    print('Picnicking')\n",
    "else: \n",
    "    print('Preparing to get bored')"
   ]
  },
  {
   "cell_type": "markdown",
   "metadata": {
    "colab_type": "text",
    "id": "TZMkmsk6SCni"
   },
   "source": [
    "What will `print(implication(True, False)` print, with `implication` defined below?"
   ]
  },
  {
   "cell_type": "code",
   "execution_count": null,
   "metadata": {
    "colab": {},
    "colab_type": "code",
    "collapsed": true,
    "id": "DOjhqpoISCni"
   },
   "outputs": [],
   "source": [
    "def implication(P, Q):\n",
    "    if P == True and Q == True:\n",
    "        return True\n",
    "    elif P == True and Q == False:\n",
    "        return False\n",
    "    else:\n",
    "        return True\n"
   ]
  },
  {
   "cell_type": "markdown",
   "metadata": {
    "colab_type": "text",
    "id": "JoWSV7zIBGSN"
   },
   "source": [
    "**Your answer here**"
   ]
  },
  {
   "cell_type": "markdown",
   "metadata": {
    "colab_type": "text",
    "id": "xlHLyj3NSCn5"
   },
   "source": [
    "## FOR LOOPS "
   ]
  },
  {
   "cell_type": "markdown",
   "metadata": {
    "colab_type": "text",
    "id": "DsxdalSbHzak"
   },
   "source": [
    "We also sometimes wish to execute some lines of code over and over again, or repeat some pattern in our program. The ```for``` statement is one tool for such iterations. For example, to iterate over all the students' names and print those names:"
   ]
  },
  {
   "cell_type": "code",
   "execution_count": null,
   "metadata": {
    "colab": {
     "base_uri": "https://localhost:8080/",
     "height": 68
    },
    "colab_type": "code",
    "executionInfo": {
     "elapsed": 857,
     "status": "ok",
     "timestamp": 1534446259297,
     "user": {
      "displayName": "Quang Tran",
      "photoUrl": "https://lh3.googleusercontent.com/a/default-user=s128",
      "userId": "103528044432244998451"
     },
     "user_tz": -420
    },
    "id": "c386P-tfH3WD",
    "outputId": "708c304a-0d49-4c87-8bd4-6b071ea4a7e6"
   },
   "outputs": [],
   "source": [
    "for student_name in ['John', 'Katie','Tom']:\n",
    "    print(student_name)"
   ]
  },
  {
   "cell_type": "markdown",
   "metadata": {
    "colab_type": "text",
    "id": "FNeGpfp_H97X"
   },
   "source": [
    "The natural language equivalent of the above lines of code is that for each name in the list (`['John','Katie','Tom']`), print that name. It is essentially the equivalent of the following lines of code:"
   ]
  },
  {
   "cell_type": "code",
   "execution_count": null,
   "metadata": {
    "colab": {
     "base_uri": "https://localhost:8080/",
     "height": 68
    },
    "colab_type": "code",
    "executionInfo": {
     "elapsed": 698,
     "status": "ok",
     "timestamp": 1534446286390,
     "user": {
      "displayName": "Quang Tran",
      "photoUrl": "https://lh3.googleusercontent.com/a/default-user=s128",
      "userId": "103528044432244998451"
     },
     "user_tz": -420
    },
    "id": "r8lLpxkFIBWi",
    "outputId": "48ab69dd-eca9-411b-8560-561e8ef00c5b"
   },
   "outputs": [],
   "source": [
    "print('John')\n",
    "print('Katie')\n",
    "print('Tom')"
   ]
  },
  {
   "cell_type": "markdown",
   "metadata": {
    "colab_type": "text",
    "id": "WFqx-CvNIEa7"
   },
   "source": [
    "Imagine you have a list of a thousand students' names and you need to print those names. Without the help of an iteration tool like the ```for``` statement, you will have to manually print all of those names using a thousand lines of print statements. With the for statement, all will collapse into only 2 lines of code. Neat-o!"
   ]
  },
  {
   "cell_type": "markdown",
   "metadata": {
    "colab_type": "text",
    "id": "n4Osz-SmIJD6"
   },
   "source": [
    "Uncomment the following cells and guess what each of them do."
   ]
  },
  {
   "cell_type": "code",
   "execution_count": null,
   "metadata": {
    "colab": {},
    "colab_type": "code",
    "collapsed": true,
    "id": "vcHpHRfBILqg"
   },
   "outputs": [],
   "source": [
    "# for i in [True, False]:\n",
    "#     print(not i)"
   ]
  },
  {
   "cell_type": "code",
   "execution_count": null,
   "metadata": {
    "colab": {},
    "colab_type": "code",
    "collapsed": true,
    "id": "3qSlq6D0IMKd"
   },
   "outputs": [],
   "source": [
    "# for item in ['a','b','c','d','e','f','g','h']:\n",
    "#     print('Hello')"
   ]
  },
  {
   "cell_type": "code",
   "execution_count": null,
   "metadata": {
    "colab": {},
    "colab_type": "code",
    "collapsed": true,
    "id": "G1MW9GfPIMTP"
   },
   "outputs": [],
   "source": [
    "# for A_team in ['Argentina', 'Austria']:\n",
    "#     for B_team in ['Belgium', 'Brazil']:\n",
    "#         print('There will be a match between', A_team, 'and', B_team)"
   ]
  },
  {
   "cell_type": "markdown",
   "metadata": {
    "colab_type": "text",
    "id": "3UipT9wcISQL"
   },
   "source": [
    "What if you want to print the first 50 (non-negative) whole numbers? (0,1,2,...,49)? You can certain do this:"
   ]
  },
  {
   "cell_type": "code",
   "execution_count": null,
   "metadata": {
    "colab": {
     "base_uri": "https://localhost:8080/",
     "height": 867
    },
    "colab_type": "code",
    "executionInfo": {
     "elapsed": 711,
     "status": "ok",
     "timestamp": 1534446405311,
     "user": {
      "displayName": "Quang Tran",
      "photoUrl": "https://lh3.googleusercontent.com/a/default-user=s128",
      "userId": "103528044432244998451"
     },
     "user_tz": -420
    },
    "id": "Ejm69EikIVjO",
    "outputId": "a1e6cefc-e04a-4835-d182-1d124820a0a4"
   },
   "outputs": [],
   "source": [
    "for natural_number in [0, 1, 2, 3, 4, 5, 6, 7, 8, 9, \n",
    "                       10, 11, 12, 13, 14, 15, 16, 17, 18, 19, \n",
    "                       20, 21, 22, 23, 24, 25, 26, 27, 28, 29, \n",
    "                       30, 31, 32, 33, 34, 35, 36, 37, 38, 39, \n",
    "                       40, 41, 42, 43, 44, 45, 46, 47, 48, 49]:\n",
    "    print(natural_number)"
   ]
  },
  {
   "cell_type": "markdown",
   "metadata": {
    "colab_type": "text",
    "id": "raTd5vN-IlEb"
   },
   "source": [
    "Still pretty ugly. We had to write up all the first 50 natural numbers ourselves! Fortunately, Python has a function called ```range``` which will generate a list of numbers for iterations. The following code also prints the first 100 natural numbers:"
   ]
  },
  {
   "cell_type": "code",
   "execution_count": null,
   "metadata": {
    "colab": {
     "base_uri": "https://localhost:8080/",
     "height": 867
    },
    "colab_type": "code",
    "executionInfo": {
     "elapsed": 709,
     "status": "ok",
     "timestamp": 1534446464463,
     "user": {
      "displayName": "Quang Tran",
      "photoUrl": "https://lh3.googleusercontent.com/a/default-user=s128",
      "userId": "103528044432244998451"
     },
     "user_tz": -420
    },
    "id": "kQkdqSQ2Ir3m",
    "outputId": "428dc877-a797-4caa-fb78-7571419ce05e"
   },
   "outputs": [],
   "source": [
    "for natural_number in range(50):\n",
    "    print(natural_number)"
   ]
  },
  {
   "cell_type": "markdown",
   "metadata": {
    "colab_type": "text",
    "id": "R6W9ORDxIxJo"
   },
   "source": [
    "Note that ```range(50)``` contains 50 elements, but goes from 0 to 49 by default. We'll discuss more on the ```range``` function when we cover lists in an upcoming session. Rewrite the following `for` statement using `range`."
   ]
  },
  {
   "cell_type": "code",
   "execution_count": null,
   "metadata": {
    "colab": {},
    "colab_type": "code",
    "collapsed": true,
    "id": "FmORZ0xIIyU2"
   },
   "outputs": [],
   "source": [
    "for item in ['a','b','c','d','e']:\n",
    "    print('Hello')"
   ]
  },
  {
   "cell_type": "code",
   "execution_count": null,
   "metadata": {
    "colab": {},
    "colab_type": "code",
    "collapsed": true,
    "id": "n11oUCFAI01j"
   },
   "outputs": [],
   "source": [
    "# Your code here"
   ]
  },
  {
   "cell_type": "markdown",
   "metadata": {
    "colab_type": "text",
    "id": "BjujR5QwI2-0"
   },
   "source": [
    "### The Accumulator Pattern"
   ]
  },
  {
   "cell_type": "markdown",
   "metadata": {
    "colab_type": "text",
    "id": "xQYBKDfESCn5"
   },
   "source": [
    "Consider the task of calculating the sum of a list of n integers ([int1, int2, int3, int4, ..., intn]). Below is the algorithm (a set of steps to follow to complete a task-- like a recipe; you have been introduced to the #algorithm HC this week!) for doing so:\n",
    "1. Assign 0 to a variable `sum` (sum = 0)\n",
    "2. Add the first integer to `sum` (int1 + sum = int1 + 0 = int1) and update the sum to that result (`sum` $\\leftarrow$ int1)\n",
    "3. Recall that the value of `sum` now is int1 instead of 0--the initialized value. Add the second integer to `sum` (sum + int2 = int1 + int2) and update `sum` to that result (sum $\\leftarrow$ int1 + int2)\n",
    "4. Add the third integer to `sum` (int1 + int2 + int3) and update `sum` to that result (sum $\\leftarrow$ int1 + int2 + int3)\n",
    "5. Add the fourth integer to `sum` (int1 + int2 + int3 + int4) and update `sum` to that result (sum $\\leftarrow$ int1 + int2 + int3 + int4)\n",
    "\n",
    "    ...\n",
    "\n",
    "6. You get the idea! Continue this process until you add the last integer to `sum ` and update the sum the resulted value. Now `sum` = int1 + int2 + int3 + int4 + ... + intn\n"
   ]
  },
  {
   "cell_type": "markdown",
   "metadata": {
    "colab_type": "text",
    "id": "v_uZ8OVmSCn6"
   },
   "source": [
    "You can think of the variable `sum` in the above process (or algorithm) as a basket. As you iterate over the integers list, you keep putting the integers you meet into the basket until you reach the last integers, by which time your basket has been filled with all the integers. What is salient in the process is you initialize `sum` to 0 (i.e., create an empty basket), go over all integers, and add the integers to sum and remember the result for later additions (i.e., you put the integers into the basket and don't throw them away). This is the accumulator pattern. The following Python code implements this algorithm:"
   ]
  },
  {
   "cell_type": "code",
   "execution_count": null,
   "metadata": {
    "colab": {},
    "colab_type": "code",
    "collapsed": true,
    "id": "QbkhiRnmSCn6"
   },
   "outputs": [],
   "source": [
    "the_sum = 0 #line 1\n",
    "for number in [1,3,4]: #line 2\n",
    "    the_sum = the_sum + number  #line 3"
   ]
  },
  {
   "cell_type": "markdown",
   "metadata": {
    "colab_type": "text",
    "id": "cgR3nlOVSCn6"
   },
   "source": [
    "Answer the below questions:"
   ]
  },
  {
   "cell_type": "markdown",
   "metadata": {
    "colab_type": "text",
    "id": "_wpYPTBTSCn7"
   },
   "source": [
    "**Question 1** Which line of code does the initialization (i.e., creating an empty basket in the above example)?"
   ]
  },
  {
   "cell_type": "markdown",
   "metadata": {
    "colab_type": "text",
    "id": "ZCZtsqJLSCn7"
   },
   "source": [
    "**Your answer here**"
   ]
  },
  {
   "cell_type": "markdown",
   "metadata": {
    "colab_type": "text",
    "id": "V1uVgl3vSCn7"
   },
   "source": [
    "**Question 2** Which line of code updates the current sum to an accumulated result?"
   ]
  },
  {
   "cell_type": "markdown",
   "metadata": {
    "colab_type": "text",
    "id": "7TsLATz5SCn7"
   },
   "source": [
    "**Your answer here**"
   ]
  },
  {
   "cell_type": "markdown",
   "metadata": {
    "colab_type": "text",
    "id": "Ey7erIlCSCn8"
   },
   "source": [
    "**Question 3** Fill in the missing values in the below table (Double click on this cell to edit, then <kbd>SHIFT</kbd>+<kbd>ENTER</kbd> to display the results):\n",
    "\n",
    "Iteration no. | `number` | `the_sum`\n",
    "--- | --- | ---\n",
    "1 | 1 | 1\n",
    "2 | ? | ?\n",
    "3 | ? | 8\n"
   ]
  },
  {
   "cell_type": "code",
   "execution_count": null,
   "metadata": {
    "colab": {},
    "colab_type": "code",
    "id": "rLnBicJjSCn8",
    "outputId": "ee2d6882-aba4-44f8-ed55-7a8d2bc3dfa9"
   },
   "outputs": [],
   "source": [
    "print(the_sum)"
   ]
  },
  {
   "cell_type": "markdown",
   "metadata": {
    "colab_type": "text",
    "id": "CruJJRv2SCn9"
   },
   "source": [
    "**Question 4** Use this technique to calculate the sum of squares of the first 10 positive integers (1, 2, 3, 4,...,10) (*Hint*: `range` may be helpful)"
   ]
  },
  {
   "cell_type": "code",
   "execution_count": null,
   "metadata": {
    "colab": {},
    "colab_type": "code",
    "collapsed": true,
    "id": "rTYiCa2XSCn9"
   },
   "outputs": [],
   "source": [
    "# Your code here"
   ]
  },
  {
   "cell_type": "markdown",
   "metadata": {
    "colab_type": "text",
    "id": "QJGKvRbGSCn-"
   },
   "source": [
    "# B. Exercise"
   ]
  },
  {
   "cell_type": "markdown",
   "metadata": {
    "colab_type": "text",
    "id": "PWqm76Mq9IMV"
   },
   "source": [
    "## Exercise 1. Decisions with `if-elif-else`"
   ]
  },
  {
   "cell_type": "markdown",
   "metadata": {
    "colab_type": "text",
    "id": "OaE85KEP9SOw"
   },
   "source": [
    "You are deciding whether to take an absence from the FA class this morning. Suppose at the moment the only two feelings you can have is `\"tired\"` or `\"not tired\"`. You have a special set of rules to follow in this decision-making process:\n",
    "* You will definitely go to class if you have no permitted absences left.\n",
    "* You will go to class if you have at least one permitted absences left and you are not feeling tired.\n",
    "* If you are feeling tired, and there is at least one permitted absences left, you won't go to class.\n",
    "\n",
    "Use the information above to complete the following question:"
   ]
  },
  {
   "cell_type": "code",
   "execution_count": null,
   "metadata": {
    "colab": {},
    "colab_type": "code",
    "collapsed": true,
    "id": "UKGFD5kq9VlD"
   },
   "outputs": [],
   "source": [
    "absences = 1\n",
    "feeling = 'not tired' \n",
    "\n",
    "############################################################################################\n",
    "#  TODO: Write code that reflects the above rules (i.e., print a decision based on the     #\n",
    "#  values of the variables absences and feeling. The variable absences indicates the       #\n",
    "#  number of permitted absences. The variable feeling indicate the feeling you are having. #\n",
    "#  Your code should use the if-elif-else structure.                                        #\n",
    "############################################################################################\n",
    "\n"
   ]
  },
  {
   "cell_type": "markdown",
   "metadata": {
    "colab_type": "text",
    "id": "ffyrDu8cSCoC"
   },
   "source": [
    "## Exercise 2. Function Matching"
   ]
  },
  {
   "cell_type": "markdown",
   "metadata": {
    "colab_type": "text",
    "id": "raAntTNLSCn-"
   },
   "source": [
    "Each of the five functions A, B, C, D, E (defined below) does one of the following tasks:\n",
    "\n",
    "1. Finding the average of numbers in a given list\n",
    "\n",
    "1. Finding the smallest number in a given list\n",
    "\n",
    "2. Finding the second smallest number in a given list\n",
    "\n",
    "3. Finding the second odd number in a given list\n",
    "\n",
    "4. Finding the smallest number that is greater than 2 in a given list."
   ]
  },
  {
   "cell_type": "code",
   "execution_count": null,
   "metadata": {
    "colab": {},
    "colab_type": "code",
    "collapsed": true,
    "id": "Suim8L8SSCn-"
   },
   "outputs": [],
   "source": [
    "def A(L):\n",
    "    output = float(\"inf\") #infinity\n",
    "    for num in L:\n",
    "        if num < output:\n",
    "            output = num\n",
    "    return output"
   ]
  },
  {
   "cell_type": "code",
   "execution_count": null,
   "metadata": {
    "colab": {},
    "colab_type": "code",
    "collapsed": true,
    "id": "j5YvNQXaSCn_"
   },
   "outputs": [],
   "source": [
    "def B(L):\n",
    "    count = 0\n",
    "    for num in L:\n",
    "        if num%2: # Recall what 0 and 1 mean in terms of booleans\n",
    "            count += 1\n",
    "        if count == 2:\n",
    "            return num\n",
    "    return None # Could not find the number satisfying the requirement"
   ]
  },
  {
   "cell_type": "code",
   "execution_count": null,
   "metadata": {
    "colab": {},
    "colab_type": "code",
    "collapsed": true,
    "id": "8UH0vFpMSCoA"
   },
   "outputs": [],
   "source": [
    "def C(L):\n",
    "    tentative_output = 0\n",
    "    count = 0\n",
    "    for num in L:\n",
    "        tentative_output += num\n",
    "        count += 1\n",
    "    return tentative_output/count"
   ]
  },
  {
   "cell_type": "code",
   "execution_count": null,
   "metadata": {
    "colab": {},
    "colab_type": "code",
    "collapsed": true,
    "id": "RCpUX-2LSCoA"
   },
   "outputs": [],
   "source": [
    "def D(L):\n",
    "    output = float(\"inf\") #infinity\n",
    "    for num in L:\n",
    "        if num <= 2:\n",
    "            pass\n",
    "        elif num < output:\n",
    "            output = num \n",
    "    if output == float(\"inf\"):\n",
    "        return None # Could not find the number satisfying the requirement\n",
    "    else:\n",
    "        return output\n",
    "        "
   ]
  },
  {
   "cell_type": "code",
   "execution_count": null,
   "metadata": {
    "colab": {},
    "colab_type": "code",
    "collapsed": true,
    "id": "Gs_JV3IRSCoB"
   },
   "outputs": [],
   "source": [
    "def E(L):\n",
    "    output = float(\"inf\") # infinity\n",
    "    smallest =  float(\"inf\")\n",
    "    for num in L:\n",
    "        if num >= output:\n",
    "            pass # do nothing\n",
    "        elif num >= smallest:\n",
    "            output = num\n",
    "        else:            \n",
    "            output = smallest\n",
    "            smallest = num\n",
    "    return output                        "
   ]
  },
  {
   "cell_type": "markdown",
   "metadata": {
    "colab_type": "text",
    "id": "5e9mDBgeSCoC"
   },
   "source": [
    "Which function does what?"
   ]
  },
  {
   "cell_type": "markdown",
   "metadata": {
    "colab_type": "text",
    "id": "Lell784TSCoC"
   },
   "source": [
    "**Your answer here**"
   ]
  },
  {
   "cell_type": "markdown",
   "metadata": {
    "colab_type": "text",
    "id": "iJJntp08SCoC"
   },
   "source": [
    "## Exercise 3. Function Designing"
   ]
  },
  {
   "cell_type": "markdown",
   "metadata": {
    "colab_type": "text",
    "id": "mKylbXLvSCoD"
   },
   "source": [
    "Create a function that finds the largest or the smallest number (idicated by the time of calling) in a given list."
   ]
  },
  {
   "cell_type": "code",
   "execution_count": null,
   "metadata": {
    "colab": {},
    "colab_type": "code",
    "collapsed": true,
    "id": "jQRTNIgsSCoD"
   },
   "outputs": [],
   "source": [
    "# Your code here"
   ]
  },
  {
   "cell_type": "markdown",
   "metadata": {
    "colab_type": "text",
    "id": "tRx0qepWSCoD"
   },
   "source": [
    "## Exercise 4. Function Engineering (for Worse)"
   ]
  },
  {
   "cell_type": "markdown",
   "metadata": {
    "colab_type": "text",
    "id": "kPTdQEZMSCoD"
   },
   "source": [
    "Rewrite function `E` above using no `elif`"
   ]
  },
  {
   "cell_type": "code",
   "execution_count": null,
   "metadata": {
    "colab": {},
    "colab_type": "code",
    "collapsed": true,
    "id": "ItlU_jy7SCoE"
   },
   "outputs": [],
   "source": [
    "# Your code here"
   ]
  },
  {
   "cell_type": "markdown",
   "metadata": {
    "colab_type": "text",
    "id": "CIGPUkxl69TL"
   },
   "source": [
    "# C. Optional Exercises"
   ]
  },
  {
   "cell_type": "markdown",
   "metadata": {},
   "source": [
    "*If you have time left, try these to!*"
   ]
  },
  {
   "cell_type": "markdown",
   "metadata": {
    "colab_type": "text",
    "id": "1mmHguh87KDO"
   },
   "source": [
    "## 1. Variables: Augmented Assignment"
   ]
  },
  {
   "cell_type": "markdown",
   "metadata": {
    "colab_type": "text",
    "id": "a_tPbAH47mmE"
   },
   "source": [
    "Suppose you already have a variable with value 0.5, like this:"
   ]
  },
  {
   "cell_type": "code",
   "execution_count": null,
   "metadata": {
    "colab": {},
    "colab_type": "code",
    "collapsed": true,
    "id": "ohYiTAX17ov9"
   },
   "outputs": [],
   "source": [
    "my_level_of_confidence = 5/10"
   ]
  },
  {
   "cell_type": "markdown",
   "metadata": {
    "colab_type": "text",
    "id": "TQ5vw-bK7zpm"
   },
   "source": [
    "Now you want to increment the variable a bit, say, by 0.2, you can code like this:"
   ]
  },
  {
   "cell_type": "code",
   "execution_count": null,
   "metadata": {
    "colab": {},
    "colab_type": "code",
    "collapsed": true,
    "id": "PigyqcgC7pKW"
   },
   "outputs": [],
   "source": [
    "my_level_of_confidence = my_level_of_confidence + 0.2"
   ]
  },
  {
   "cell_type": "markdown",
   "metadata": {
    "colab_type": "text",
    "id": "yTWvMojv72a2"
   },
   "source": [
    "The above line could be shortened:"
   ]
  },
  {
   "cell_type": "code",
   "execution_count": null,
   "metadata": {
    "colab": {},
    "colab_type": "code",
    "collapsed": true,
    "id": "3bFh93uy7q0e"
   },
   "outputs": [],
   "source": [
    "my_level_of_confidence += 0.2"
   ]
  },
  {
   "cell_type": "markdown",
   "metadata": {
    "colab_type": "text",
    "id": "RBu36AtY77h7"
   },
   "source": [
    "That is called the an \"augmented assignment\"-- a shorthand for combining an assignment and an expression. It turns out you can use this pattern for some other operators:"
   ]
  },
  {
   "cell_type": "code",
   "execution_count": null,
   "metadata": {
    "colab": {},
    "colab_type": "code",
    "collapsed": true,
    "id": "RzqwT9yU7sa_"
   },
   "outputs": [],
   "source": [
    "my_level_of_confidence -= .1\n",
    "my_level_of_confidence *= 2 # Divine!\n",
    "my_level_of_confidence /= 2 # :(\n",
    "my_level_of_confidence //= 2 \n",
    "my_level_of_confidence **= 2 # <3<3<3"
   ]
  },
  {
   "cell_type": "markdown",
   "metadata": {
    "colab_type": "text",
    "id": "AUf1zsps8Dz9"
   },
   "source": [
    "Now, create a variable by assigning the integer 0 to it, and increase the variable by 2 a hundred times (recall which tool in Python can help you with this repetitive, tedious job.) This is to practice using augmented assignments, so make sure you use them."
   ]
  },
  {
   "cell_type": "code",
   "execution_count": null,
   "metadata": {
    "colab": {},
    "colab_type": "code",
    "collapsed": true,
    "id": "zYSJjFNF7tzt"
   },
   "outputs": [],
   "source": [
    "# Your code here"
   ]
  },
  {
   "cell_type": "markdown",
   "metadata": {},
   "source": [
    "## 2. Pyramid building\n",
    "\n",
    "Create a function `build_even_pyramid` which receives a positive integer `n` as an argument and prints a pyramid of that level if `n` is even, and prints `\"n is not even\"` otherwise. For example,\n",
    "`build_even_pyramid(2)` should print:\n",
    "![Pyramid2](images/pyramid2.png)\n",
    "`build_even_pyramid(6)` should print:\n",
    "![Pyramid6](images/pyramid6.png)\n",
    "`build_even_pyramid(50)` should print:\n",
    "![Pyramid50](images/pyramid50.png)\n",
    "`build_even_pyramid(3)` should print:\n",
    "\n",
    "`n is not even`"
   ]
  },
  {
   "cell_type": "code",
   "execution_count": null,
   "metadata": {
    "collapsed": true
   },
   "outputs": [],
   "source": [
    "# Your code here\n"
   ]
  },
  {
   "cell_type": "markdown",
   "metadata": {},
   "source": [
    "## 3. Leap years\n",
    "A *leap year* occurs on any year evenly divisible by 4, but not on a century unless it is divisible by 400. Write a function that inputs a year and outputs whether or not it is a leap year."
   ]
  },
  {
   "cell_type": "code",
   "execution_count": null,
   "metadata": {
    "collapsed": true
   },
   "outputs": [],
   "source": [
    "# Your code here\n"
   ]
  },
  {
   "cell_type": "markdown",
   "metadata": {},
   "source": [
    "## 4. Palindromes (Project Euler \\#4)\n",
    "\n",
    "A palindromic number reads the same both ways. The largest palindrome made from the product of two 2-digit numbers is 9009 = 91 × 99. Find the largest palindrome made from the product of two 3-digit numbers"
   ]
  },
  {
   "cell_type": "code",
   "execution_count": null,
   "metadata": {
    "collapsed": true
   },
   "outputs": [],
   "source": []
  }
 ],
 "metadata": {
  "colab": {
   "name": "SSS2.ipynb",
   "provenance": [],
   "version": "0.3.2"
  },
  "kernelspec": {
   "display_name": "Python 3",
   "language": "python",
   "name": "python3"
  },
  "language_info": {
   "codemirror_mode": {
    "name": "ipython",
    "version": 3
   },
   "file_extension": ".py",
   "mimetype": "text/x-python",
   "name": "python",
   "nbconvert_exporter": "python",
   "pygments_lexer": "ipython3",
   "version": "3.7.1"
  }
 },
 "nbformat": 4,
 "nbformat_minor": 1
}
