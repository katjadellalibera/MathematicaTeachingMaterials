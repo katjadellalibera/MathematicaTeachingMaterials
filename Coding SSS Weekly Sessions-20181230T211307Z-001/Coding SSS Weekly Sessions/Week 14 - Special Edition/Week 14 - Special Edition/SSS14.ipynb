{
 "cells": [
  {
   "cell_type": "markdown",
   "metadata": {
    "colab_type": "text",
    "id": "ICEZeXEdQvX2"
   },
   "source": [
    "# SSS 14. Python Challenge\n",
    "\n",
    "Please allow 10 minutes after the exercises below to complete the [end-of-term survey.](https://minervaschools.az1.qualtrics.com/jfe/form/SV_d1ptY3nRR4vxqdf) Take this opportunity to give your input and feedback on the coding SSS's. These are completely anonymous. We really value your perspective!\n",
    "\n",
    "Today, you are one of Santa's little helpers. He has some questions that require analysis in Python. For these problems, please feel free to refer to past sessions and look up online for functions or methods you don't remember. You may also ask your peer tutors for clarification on what the questions are asking. However, you should try to work *on your own*. For each problem, we recommend that you use intuitive and descriptive variable names and prove some very brief comments.\n",
    "\n",
    "**Don't forget to upload your notebook to the [drive](https://drive.google.com/open?id=1X_rt-vII8vOkd3XgyjAITZP71mNSG4yV) when you're done.**"
   ]
  },
  {
   "cell_type": "markdown",
   "metadata": {
    "colab_type": "text",
    "id": "-7kd8BgjGMjH"
   },
   "source": [
    "## Challenge 1. Good Kids\n",
    "\n",
    "The list of all \"good\" kids, who are going to get presents from Santa this Christmas, is stored in the list `good_kids` below. Is Minerva good? How about Harvard? (Are they in the `good_kids` list?)\n",
    "\n",
    "Answer by coding. After you run the code, it should print two boolean values (`True` or `False`) indicating your answers about Minerva and Harvard, respectively. You don't need to write a function for this challenge. \n",
    "\n",
    "*(Data downloaded and adapted from [Kaggle](https://www.kaggle.com/kaggle/us-baby-names#NationalNames.csv))*"
   ]
  },
  {
   "cell_type": "code",
   "execution_count": 0,
   "metadata": {
    "colab": {},
    "colab_type": "code",
    "collapsed": true,
    "id": "LIP9YFZMGMjJ"
   },
   "outputs": [],
   "source": [
    "import csv\n",
    "good_kids = []\n",
    "with open('good_kids.csv') as csvDataFile:\n",
    "    csvReader = csv.reader(csvDataFile)\n",
    "    for row in csvReader:\n",
    "        good_kids.append(row[0])\n",
    "        \n",
    "print(good_kids[:10]) # print the first 10 names in the list\n",
    "\n",
    "########## YOUR CODE HERE ##########\n",
    "\n",
    "########## END OF YOUR CODE ##########"
   ]
  },
  {
   "cell_type": "markdown",
   "metadata": {
    "colab_type": "text",
    "id": "F7HdR1CHGMjP"
   },
   "source": [
    "## Challenge 2. Name Frequency\n",
    "\n",
    "Write a function `name_count` that takes a string that is a single **capitalized** letter (for example, `'M'`) as an argument and returns the number of kids in the list `good_kids` above whose names start with that letter. Note that:\n",
    "1. You don't need to convert any string to lowercase or uppercase, and we assume that all names in `good_kids` start with a capital letter.\n",
    "2. You don't need to check if the letter passed to the function has been capitalized or not. We assume that it always is.\n",
    "\n",
    "Some test cases:\n",
    "\n",
    "Input | Output\n",
    "--- | --- \n",
    "'A' | 4058\n",
    "'B' | 1946\n",
    "'C' | 3832\n",
    "'D' | 3546\n"
   ]
  },
  {
   "cell_type": "code",
   "execution_count": 0,
   "metadata": {
    "colab": {},
    "colab_type": "code",
    "collapsed": true,
    "id": "oZkaDk_wGMjR"
   },
   "outputs": [],
   "source": [
    "########## YOUR CODE HERE ##########\n",
    "\n",
    "########## END OF YOUR CODE ##########"
   ]
  },
  {
   "cell_type": "markdown",
   "metadata": {
    "colab_type": "text",
    "id": "-BUObyLmGMjT"
   },
   "source": [
    "## Challenge 3. Mode of Names\n",
    "\n",
    "Write a function `mode_letter` that takes a list of capitalized letters as arguments and outputs the most common letter (among the given letters) that starts a name in `good_kids`. \n",
    "\n",
    "For example, in the list `good_kids`, there are 4058 string elements that start with 'A', 1946 string elements that start with 'B', and 3832 elements that start with 'C', so among 'A', 'B', and 'C', 'A' is the most common starting letter, and calling `mode_letter(['A', 'B', 'C'])` should return 'A'."
   ]
  },
  {
   "cell_type": "code",
   "execution_count": 0,
   "metadata": {
    "colab": {},
    "colab_type": "code",
    "collapsed": true,
    "id": "vM0T745TGMjU"
   },
   "outputs": [],
   "source": [
    "########## YOUR CODE HERE ##########\n",
    "\n",
    "########## END OF YOUR CODE ##########"
   ]
  },
  {
   "cell_type": "markdown",
   "metadata": {
    "colab_type": "text",
    "id": "8Xe2LOUiGMjX"
   },
   "source": [
    "## Challenge 4. Practical Kids\n",
    "\n",
    "Tonight, Santa is bringing special early gifts to the 10 kids he thinks are the most well-behaved. He has 4 types of gifts (let's index them 1, 2, 3, and 4). When he meets each kid, he will select a gift of random type to give them. The kid may accept or decline the gift. When the kid declines, he has to randomly select a gift of the other types that have not been offered, and continues to do so until the kid accepts the gift. For the first offer, there is a 50/50 chance of the kid accepting. For the later offers, the kid will accept the gift if it is of higher index than the previous offer (for example, the kid will immediately accept gift 3 if the previous offer was gift 1), and decline otherwise. Additionally, the kid has to accept the 4th offer if it gets no matter what. Estimate by simulation the expected number of kids that accept a gift *within 2 offers* (1 or 2). Also, produce a graph that records the number of kids that accept a gift within 2 offers in each iteration of your simulation. "
   ]
  },
  {
   "cell_type": "code",
   "execution_count": 0,
   "metadata": {
    "colab": {},
    "colab_type": "code",
    "collapsed": true,
    "id": "4MGtBw4uGMjX"
   },
   "outputs": [],
   "source": [
    "########## YOUR CODE HERE ##########\n",
    "\n",
    "########## END OF YOUR CODE ##########"
   ]
  },
  {
   "cell_type": "markdown",
   "metadata": {
    "colab_type": "text",
    "id": "hx8GLSaCGMjZ"
   },
   "source": [
    "## [Optional] Challenge 5. Practical Santa\n",
    "\n",
    "Suppose the gift indexed $i$ cost \\$$i$ (so a gift costs either \\$1, \\$2, \\$3, or \\$4). How much is it expected to cost Santa after the gift-giving session described in Challenge 4? Estimate by simulation."
   ]
  },
  {
   "cell_type": "code",
   "execution_count": 0,
   "metadata": {
    "colab": {},
    "colab_type": "code",
    "collapsed": true,
    "id": "xg9LydaMGMja"
   },
   "outputs": [],
   "source": [
    "########## YOUR CODE HERE ##########\n",
    "\n",
    "########## END OF YOUR CODE ##########"
   ]
  },
  {
   "cell_type": "markdown",
   "metadata": {},
   "source": [
    "**Don't forget to upload your notebook to the [drive](https://drive.google.com/open?id=1X_rt-vII8vOkd3XgyjAITZP71mNSG4yV) when you're done.**"
   ]
  },
  {
   "cell_type": "code",
   "execution_count": null,
   "metadata": {
    "collapsed": true
   },
   "outputs": [],
   "source": []
  }
 ],
 "metadata": {
  "colab": {
   "collapsed_sections": [],
   "name": "SSS14.ipynb",
   "provenance": [],
   "version": "0.3.2"
  },
  "kernelspec": {
   "display_name": "Python 3",
   "language": "python",
   "name": "python3"
  },
  "language_info": {
   "codemirror_mode": {
    "name": "ipython",
    "version": 3
   },
   "file_extension": ".py",
   "mimetype": "text/x-python",
   "name": "python",
   "nbconvert_exporter": "python",
   "pygments_lexer": "ipython3",
   "version": "3.6.2"
  }
 },
 "nbformat": 4,
 "nbformat_minor": 1
}
